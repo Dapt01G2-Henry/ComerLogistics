{
 "cells": [
  {
   "cell_type": "markdown",
   "metadata": {},
   "source": [
    "# EDA Y ETL PARA BASE DE DATOS COMER LOGISTICS: "
   ]
  },
  {
   "cell_type": "markdown",
   "metadata": {},
   "source": [
    "## ARCHIVO A TRABAJAR : 2017PurchasePricesDec.csv"
   ]
  },
  {
   "cell_type": "code",
   "execution_count": 1,
   "metadata": {},
   "outputs": [
    {
     "name": "stdout",
     "output_type": "stream",
     "text": [
      "Requirement already satisfied: pandas in c:\\users\\danie\\appdata\\local\\programs\\python\\python312\\lib\\site-packages (2.2.2)\n",
      "Requirement already satisfied: numpy in c:\\users\\danie\\appdata\\local\\programs\\python\\python312\\lib\\site-packages (2.0.0)\n",
      "Requirement already satisfied: matplotlib in c:\\users\\danie\\appdata\\local\\programs\\python\\python312\\lib\\site-packages (3.9.1)\n",
      "Requirement already satisfied: seaborn in c:\\users\\danie\\appdata\\local\\programs\\python\\python312\\lib\\site-packages (0.13.2)\n",
      "Requirement already satisfied: python-dateutil>=2.8.2 in c:\\users\\danie\\appdata\\roaming\\python\\python312\\site-packages (from pandas) (2.9.0.post0)\n",
      "Requirement already satisfied: pytz>=2020.1 in c:\\users\\danie\\appdata\\local\\programs\\python\\python312\\lib\\site-packages (from pandas) (2024.1)\n",
      "Requirement already satisfied: tzdata>=2022.7 in c:\\users\\danie\\appdata\\local\\programs\\python\\python312\\lib\\site-packages (from pandas) (2024.1)\n",
      "Requirement already satisfied: contourpy>=1.0.1 in c:\\users\\danie\\appdata\\local\\programs\\python\\python312\\lib\\site-packages (from matplotlib) (1.2.1)\n",
      "Requirement already satisfied: cycler>=0.10 in c:\\users\\danie\\appdata\\local\\programs\\python\\python312\\lib\\site-packages (from matplotlib) (0.12.1)\n",
      "Requirement already satisfied: fonttools>=4.22.0 in c:\\users\\danie\\appdata\\local\\programs\\python\\python312\\lib\\site-packages (from matplotlib) (4.53.1)\n",
      "Requirement already satisfied: kiwisolver>=1.3.1 in c:\\users\\danie\\appdata\\local\\programs\\python\\python312\\lib\\site-packages (from matplotlib) (1.4.5)\n",
      "Requirement already satisfied: packaging>=20.0 in c:\\users\\danie\\appdata\\roaming\\python\\python312\\site-packages (from matplotlib) (24.1)\n",
      "Requirement already satisfied: pillow>=8 in c:\\users\\danie\\appdata\\local\\programs\\python\\python312\\lib\\site-packages (from matplotlib) (10.4.0)\n",
      "Requirement already satisfied: pyparsing>=2.3.1 in c:\\users\\danie\\appdata\\local\\programs\\python\\python312\\lib\\site-packages (from matplotlib) (3.1.2)\n",
      "Requirement already satisfied: six>=1.5 in c:\\users\\danie\\appdata\\roaming\\python\\python312\\site-packages (from python-dateutil>=2.8.2->pandas) (1.16.0)\n",
      "Note: you may need to restart the kernel to use updated packages.\n"
     ]
    },
    {
     "name": "stderr",
     "output_type": "stream",
     "text": [
      "\n",
      "[notice] A new release of pip is available: 24.0 -> 24.2\n",
      "[notice] To update, run: python.exe -m pip install --upgrade pip\n"
     ]
    }
   ],
   "source": [
    "pip install pandas numpy matplotlib seaborn "
   ]
  },
  {
   "cell_type": "code",
   "execution_count": 2,
   "metadata": {},
   "outputs": [],
   "source": [
    "! pip freeze > requirements.txt "
   ]
  },
  {
   "cell_type": "code",
   "execution_count": 3,
   "metadata": {},
   "outputs": [],
   "source": [
    "import pandas as pd "
   ]
  },
  {
   "cell_type": "markdown",
   "metadata": {},
   "source": [
    "##### CARGA Y LIMPIEZA DE DATOS - Limpiar datos, manejar valores nulos, transformar formatos y preparar los datos para análisis más profundos:"
   ]
  },
  {
   "cell_type": "code",
   "execution_count": 4,
   "metadata": {},
   "outputs": [],
   "source": [
    "#carga archivo csv\n",
    "df = pd.read_csv(r'C:\\Users\\danie\\OneDrive\\Escritorio\\GitProyectoFinal\\ComerLogistics\\EDA y ETL Dani\\2017PurchasePricesDec.csv')"
   ]
  },
  {
   "cell_type": "code",
   "execution_count": 5,
   "metadata": {},
   "outputs": [
    {
     "name": "stdout",
     "output_type": "stream",
     "text": [
      "   Brand                  Description  Price   Size Volume  Classification  \\\n",
      "0     58  Gekkeikan Black & Gold Sake  12.99  750mL    750               1   \n",
      "1     62     Herradura Silver Tequila  36.99  750mL    750               1   \n",
      "2     63   Herradura Reposado Tequila  38.99  750mL    750               1   \n",
      "3     72         No. 3 London Dry Gin  34.99  750mL    750               1   \n",
      "4     75    Three Olives Tomato Vodka  14.99  750mL    750               1   \n",
      "\n",
      "   PurchasePrice  VendorNumber                   VendorName  \n",
      "0           9.28          8320  SHAW ROSS INT L IMP LTD      \n",
      "1          28.67          1128  BROWN-FORMAN CORP            \n",
      "2          30.46          1128  BROWN-FORMAN CORP            \n",
      "3          26.11          9165  ULTRA BEVERAGE COMPANY LLP   \n",
      "4          10.94          7245  PROXIMO SPIRITS INC.         \n"
     ]
    }
   ],
   "source": [
    "print(df.head())"
   ]
  },
  {
   "cell_type": "code",
   "execution_count": 6,
   "metadata": {},
   "outputs": [
    {
     "name": "stdout",
     "output_type": "stream",
     "text": [
      "<class 'pandas.core.frame.DataFrame'>\n",
      "RangeIndex: 12261 entries, 0 to 12260\n",
      "Data columns (total 9 columns):\n",
      " #   Column          Non-Null Count  Dtype  \n",
      "---  ------          --------------  -----  \n",
      " 0   Brand           12261 non-null  int64  \n",
      " 1   Description     12260 non-null  object \n",
      " 2   Price           12261 non-null  float64\n",
      " 3   Size            12260 non-null  object \n",
      " 4   Volume          12260 non-null  object \n",
      " 5   Classification  12261 non-null  int64  \n",
      " 6   PurchasePrice   12261 non-null  float64\n",
      " 7   VendorNumber    12261 non-null  int64  \n",
      " 8   VendorName      12261 non-null  object \n",
      "dtypes: float64(2), int64(3), object(4)\n",
      "memory usage: 862.2+ KB\n",
      "None\n"
     ]
    }
   ],
   "source": [
    "print(df.info())"
   ]
  },
  {
   "cell_type": "code",
   "execution_count": 7,
   "metadata": {},
   "outputs": [
    {
     "name": "stdout",
     "output_type": "stream",
     "text": [
      "              Brand         Price  Classification  PurchasePrice  \\\n",
      "count  12261.000000  12261.000000    12261.000000   12261.000000   \n",
      "mean   17989.067123     38.640240        1.708996      26.488220   \n",
      "std    12528.503464    206.151172        0.454244     156.182948   \n",
      "min       58.000000      0.000000        1.000000       0.000000   \n",
      "25%     5990.000000     10.990000        1.000000       6.890000   \n",
      "50%    18788.000000     15.990000        2.000000      10.650000   \n",
      "75%    25117.000000     29.990000        2.000000      20.130000   \n",
      "max    90631.000000  13999.900000        2.000000   11111.030000   \n",
      "\n",
      "        VendorNumber  \n",
      "count   12261.000000  \n",
      "mean    10814.861757  \n",
      "std     19007.682322  \n",
      "min         2.000000  \n",
      "25%      3960.000000  \n",
      "50%      7153.000000  \n",
      "75%      9552.000000  \n",
      "max    173357.000000  \n"
     ]
    }
   ],
   "source": [
    "print(df.describe()) # # Obtener estadísticas descriptivas de las variables numéricas"
   ]
  },
  {
   "cell_type": "code",
   "execution_count": 8,
   "metadata": {},
   "outputs": [
    {
     "name": "stdout",
     "output_type": "stream",
     "text": [
      "Valores nulos antes de la limpieza:\n",
      " Brand             0\n",
      "Description       1\n",
      "Price             0\n",
      "Size              1\n",
      "Volume            1\n",
      "Classification    0\n",
      "PurchasePrice     0\n",
      "VendorNumber      0\n",
      "VendorName        0\n",
      "dtype: int64\n"
     ]
    }
   ],
   "source": [
    "# Identificar la cantidad de valores nulos en cada columna\n",
    "print(\"Valores nulos antes de la limpieza:\\n\", df.isnull().sum())"
   ]
  },
  {
   "cell_type": "markdown",
   "metadata": {},
   "source": [
    "### Limpieza de Datos (ETL). Manejo de valores nulos : "
   ]
  },
  {
   "cell_type": "code",
   "execution_count": 9,
   "metadata": {},
   "outputs": [],
   "source": [
    "# Limpiar valores nulos\n",
    "df['Description'] = df['Description'].fillna('Unknown')\n",
    "df['Size'] = df['Size'].fillna('Unknown')\n",
    "df['Volume'] = df['Volume'].fillna('Unknown')"
   ]
  },
  {
   "cell_type": "code",
   "execution_count": 10,
   "metadata": {},
   "outputs": [
    {
     "name": "stdout",
     "output_type": "stream",
     "text": [
      "Valores nulos después de la limpieza:\n",
      " Brand             0\n",
      "Description       0\n",
      "Price             0\n",
      "Size              0\n",
      "Volume            0\n",
      "Classification    0\n",
      "PurchasePrice     0\n",
      "VendorNumber      0\n",
      "VendorName        0\n",
      "dtype: int64\n"
     ]
    }
   ],
   "source": [
    "# Verificar que no queden valores nulos\n",
    "print(\"Valores nulos después de la limpieza:\\n\", df.isnull().sum())"
   ]
  },
  {
   "cell_type": "markdown",
   "metadata": {},
   "source": [
    "###  Análisis de Relaciones entre Variables y Visualización de Distribuciones"
   ]
  },
  {
   "cell_type": "code",
   "execution_count": 11,
   "metadata": {},
   "outputs": [],
   "source": [
    "import seaborn as sns\n",
    "import matplotlib.pyplot as plt"
   ]
  },
  {
   "cell_type": "code",
   "execution_count": 12,
   "metadata": {},
   "outputs": [
    {
     "data": {
      "image/png": "[encoded data removed]",
      "text/plain": [
       "<Figure size 640x480 with 1 Axes>"
      ]
     },
     "metadata": {},
     "output_type": "display_data"
    }
   ],
   "source": [
    "# Relación entre Price y PurchasePrice\n",
    "sns.scatterplot(data=df, x='Price', y='PurchasePrice')\n",
    "plt.show()"
   ]
  },
  {
   "cell_type": "code",
   "execution_count": 13,
   "metadata": {},
   "outputs": [
    {
     "data": {
      "image/png": "[encoded data removed]",
      "text/plain": [
       "<Figure size 640x480 with 1 Axes>"
      ]
     },
     "metadata": {},
     "output_type": "display_data"
    }
   ],
   "source": [
    "# Relación entre VendorNumber y PurchasePrice\n",
    "sns.scatterplot(data=df, x='VendorNumber', y='PurchasePrice')\n",
    "plt.xticks (rotation=45)\n",
    "plt.show()"
   ]
  },
  {
   "cell_type": "code",
   "execution_count": 16,
   "metadata": {},
   "outputs": [
    {
     "data": {
      "image/png": "[encoded data removed]",
      "text/plain": [
       "<Figure size 500x300 with 1 Axes>"
      ]
     },
     "metadata": {},
     "output_type": "display_data"
    }
   ],
   "source": [
    "# Distribución de la columna 'Price'\n",
    "plt.figure(figsize=(5, 3))\n",
    "sns.histplot(df['Price'], kde=True)\n",
    "plt.title('Distribución de los Precios')\n",
    "plt.show()"
   ]
  },
  {
   "cell_type": "code",
   "execution_count": 17,
   "metadata": {},
   "outputs": [
    {
     "data": {
      "image/png": "[encoded data removed]",
      "text/plain": [
       "<Figure size 800x600 with 1 Axes>"
      ]
     },
     "metadata": {},
     "output_type": "display_data"
    }
   ],
   "source": [
    "# Boxplot para analizar la dispersión de 'Price' y 'PurchasePrice'\n",
    "plt.figure(figsize=(8, 6))\n",
    "sns.boxplot(data=df[['Price', 'PurchasePrice']])\n",
    "plt.title('Boxplot de Precios y Precios de Compra')\n",
    "plt.show()"
   ]
  },
  {
   "cell_type": "markdown",
   "metadata": {},
   "source": [
    "### Transformaciones ETL"
   ]
  },
  {
   "cell_type": "code",
   "execution_count": 18,
   "metadata": {},
   "outputs": [],
   "source": [
    "# Crear una nueva columna 'ProfitMargin' calculada como la diferencia entre Price y PurchasePrice\n",
    "df['ProfitMargin'] = df['Price'] - df['PurchasePrice']"
   ]
  },
  {
   "cell_type": "code",
   "execution_count": 19,
   "metadata": {},
   "outputs": [],
   "source": [
    "# Convertir la columna 'Size' en un número\n",
    "df['SizeNumeric'] = df['Size'].str.extract(r'(\\d+)').astype(float)"
   ]
  },
  {
   "cell_type": "markdown",
   "metadata": {},
   "source": [
    "#### Guardar el dataset limpio"
   ]
  },
  {
   "cell_type": "code",
   "execution_count": 20,
   "metadata": {},
   "outputs": [],
   "source": [
    "# Guardar el DataFrame transformado\n",
    "df.to_csv('purchasePricesDec_new.csv', index=False)"
   ]
  },
  {
   "cell_type": "code",
   "execution_count": 21,
   "metadata": {},
   "outputs": [],
   "source": [
    "#carga archivo csv\n",
    "df1 = pd.read_csv(r'C:\\Users\\danie\\OneDrive\\Escritorio\\GitProyectoFinal\\ComerLogistics\\EDA y ETL Dani\\purchasePricesDec_new.csv')"
   ]
  },
  {
   "cell_type": "code",
   "execution_count": 22,
   "metadata": {},
   "outputs": [
    {
     "name": "stdout",
     "output_type": "stream",
     "text": [
      "<class 'pandas.core.frame.DataFrame'>\n",
      "RangeIndex: 12261 entries, 0 to 12260\n",
      "Data columns (total 11 columns):\n",
      " #   Column          Non-Null Count  Dtype  \n",
      "---  ------          --------------  -----  \n",
      " 0   Brand           12261 non-null  int64  \n",
      " 1   Description     12261 non-null  object \n",
      " 2   Price           12261 non-null  float64\n",
      " 3   Size            12261 non-null  object \n",
      " 4   Volume          12261 non-null  object \n",
      " 5   Classification  12261 non-null  int64  \n",
      " 6   PurchasePrice   12261 non-null  float64\n",
      " 7   VendorNumber    12261 non-null  int64  \n",
      " 8   VendorName      12261 non-null  object \n",
      " 9   ProfitMargin    12261 non-null  float64\n",
      " 10  SizeNumeric     12256 non-null  float64\n",
      "dtypes: float64(4), int64(3), object(4)\n",
      "memory usage: 1.0+ MB\n",
      "None\n"
     ]
    }
   ],
   "source": [
    "print(df1.info())"
   ]
  },
  {
   "cell_type": "markdown",
   "metadata": {},
   "source": [
    "----"
   ]
  },
  {
   "cell_type": "markdown",
   "metadata": {},
   "source": [
    "## ARCHIVO A TRABAJAR : SalesFINAL31122016.csv"
   ]
  },
  {
   "cell_type": "markdown",
   "metadata": {},
   "source": [
    "## 1 - Configuración del Entorno en Visual Studio Code"
   ]
  },
  {
   "cell_type": "markdown",
   "metadata": {},
   "source": [
    " Instalación de las librerías necesarias"
   ]
  },
  {
   "cell_type": "code",
   "execution_count": 2,
   "metadata": {},
   "outputs": [
    {
     "name": "stdout",
     "output_type": "stream",
     "text": [
      "Requirement already satisfied: pandas in c:\\users\\mlope\\appdata\\local\\programs\\python\\python312\\lib\\site-packages (2.2.2)\n",
      "Requirement already satisfied: numpy in c:\\users\\mlope\\appdata\\local\\programs\\python\\python312\\lib\\site-packages (2.0.0)\n",
      "Requirement already satisfied: matplotlib in c:\\users\\mlope\\appdata\\local\\programs\\python\\python312\\lib\\site-packages (3.9.0)\n",
      "Requirement already satisfied: seaborn in c:\\users\\mlope\\appdata\\local\\programs\\python\\python312\\lib\\site-packages (0.13.2)\n",
      "Requirement already satisfied: sqlalchemy in c:\\users\\mlope\\appdata\\local\\programs\\python\\python312\\lib\\site-packages (2.0.31)\n",
      "Requirement already satisfied: pyodbc in c:\\users\\mlope\\appdata\\local\\programs\\python\\python312\\lib\\site-packages (5.1.0)\n",
      "Requirement already satisfied: python-dateutil>=2.8.2 in c:\\users\\mlope\\appdata\\roaming\\python\\python312\\site-packages (from pandas) (2.9.0.post0)\n",
      "Requirement already satisfied: pytz>=2020.1 in c:\\users\\mlope\\appdata\\local\\programs\\python\\python312\\lib\\site-packages (from pandas) (2024.1)\n",
      "Requirement already satisfied: tzdata>=2022.7 in c:\\users\\mlope\\appdata\\local\\programs\\python\\python312\\lib\\site-packages (from pandas) (2024.1)\n",
      "Requirement already satisfied: contourpy>=1.0.1 in c:\\users\\mlope\\appdata\\local\\programs\\python\\python312\\lib\\site-packages (from matplotlib) (1.2.1)\n",
      "Requirement already satisfied: cycler>=0.10 in c:\\users\\mlope\\appdata\\local\\programs\\python\\python312\\lib\\site-packages (from matplotlib) (0.12.1)\n",
      "Requirement already satisfied: fonttools>=4.22.0 in c:\\users\\mlope\\appdata\\local\\programs\\python\\python312\\lib\\site-packages (from matplotlib) (4.53.0)\n",
      "Requirement already satisfied: kiwisolver>=1.3.1 in c:\\users\\mlope\\appdata\\local\\programs\\python\\python312\\lib\\site-packages (from matplotlib) (1.4.5)\n",
      "Requirement already satisfied: packaging>=20.0 in c:\\users\\mlope\\appdata\\roaming\\python\\python312\\site-packages (from matplotlib) (24.1)\n",
      "Requirement already satisfied: pillow>=8 in c:\\users\\mlope\\appdata\\local\\programs\\python\\python312\\lib\\site-packages (from matplotlib) (10.4.0)\n",
      "Requirement already satisfied: pyparsing>=2.3.1 in c:\\users\\mlope\\appdata\\local\\programs\\python\\python312\\lib\\site-packages (from matplotlib) (3.1.2)\n",
      "Requirement already satisfied: typing-extensions>=4.6.0 in c:\\users\\mlope\\appdata\\local\\programs\\python\\python312\\lib\\site-packages (from sqlalchemy) (4.12.2)\n",
      "Requirement already satisfied: greenlet!=0.4.17 in c:\\users\\mlope\\appdata\\local\\programs\\python\\python312\\lib\\site-packages (from sqlalchemy) (3.0.3)\n",
      "Requirement already satisfied: six>=1.5 in c:\\users\\mlope\\appdata\\roaming\\python\\python312\\site-packages (from python-dateutil>=2.8.2->pandas) (1.16.0)\n"
     ]
    },
    {
     "name": "stderr",
     "output_type": "stream",
     "text": [
      "\n",
      "[notice] A new release of pip is available: 24.0 -> 24.2\n",
      "[notice] To update, run: python.exe -m pip install --upgrade pip\n"
     ]
    }
   ],
   "source": [
    "! pip install pandas numpy matplotlib seaborn sqlalchemy pyodbc"
   ]
  },
  {
   "cell_type": "code",
   "execution_count": 3,
   "metadata": {},
   "outputs": [],
   "source": [
    "! pip freeze > requirements.txt"
   ]
  },
  {
   "cell_type": "markdown",
   "metadata": {},
   "source": [
    "## 2 - Carga y Limpieza de los Datos (ETL) "
   ]
  },
  {
   "cell_type": "markdown",
   "metadata": {},
   "source": [
    "Carga del archivo CSV en un Dataframe de Pandas:"
   ]
  },
  {
   "cell_type": "code",
   "execution_count": 4,
   "metadata": {},
   "outputs": [],
   "source": [
    "import pandas as pd\n",
    "\n",
    "# Carga del archivo CSV\n",
    "df = pd.read_csv(r'C:\\Users\\mlope\\OneDrive\\Escritorio\\PROYECTO FINAL\\DataBase_PF\\SalesFINAL12312016.csv')"
   ]
  },
  {
   "cell_type": "markdown",
   "metadata": {},
   "source": [
    "Inspección de datos:"
   ]
  },
  {
   "cell_type": "code",
   "execution_count": 5,
   "metadata": {},
   "outputs": [
    {
     "name": "stdout",
     "output_type": "stream",
     "text": [
      "           InventoryId  Store  Brand                 Description        Size  \\\n",
      "0  1_HARDERSFIELD_1004      1   1004  Jim Beam w/2 Rocks Glasses       750mL   \n",
      "1  1_HARDERSFIELD_1004      1   1004  Jim Beam w/2 Rocks Glasses       750mL   \n",
      "2  1_HARDERSFIELD_1004      1   1004  Jim Beam w/2 Rocks Glasses       750mL   \n",
      "3  1_HARDERSFIELD_1004      1   1004  Jim Beam w/2 Rocks Glasses       750mL   \n",
      "4  1_HARDERSFIELD_1005      1   1005     Maker's Mark Combo Pack  375mL 2 Pk   \n",
      "\n",
      "   SalesQuantity  SalesDollars  SalesPrice SalesDate  Volume  Classification  \\\n",
      "0              1         16.49       16.49  1/1/2016     750               1   \n",
      "1              2         32.98       16.49  1/2/2016     750               1   \n",
      "2              1         16.49       16.49  1/3/2016     750               1   \n",
      "3              1         14.49       14.49  1/8/2016     750               1   \n",
      "4              2         69.98       34.99  1/9/2016     375               1   \n",
      "\n",
      "   ExciseTax  VendorNo                   VendorName  \n",
      "0       0.79     12546  JIM BEAM BRANDS COMPANY      \n",
      "1       1.57     12546  JIM BEAM BRANDS COMPANY      \n",
      "2       0.79     12546  JIM BEAM BRANDS COMPANY      \n",
      "3       0.79     12546  JIM BEAM BRANDS COMPANY      \n",
      "4       0.79     12546  JIM BEAM BRANDS COMPANY      \n"
     ]
    }
   ],
   "source": [
    "print(df.head())  # Muestra las primeras filas"
   ]
  },
  {
   "cell_type": "markdown",
   "metadata": {},
   "source": [
    "Creación de Archivo Requirements:"
   ]
  },
  {
   "cell_type": "code",
   "execution_count": 6,
   "metadata": {},
   "outputs": [],
   "source": [
    "! pip freeze > requirements.txt"
   ]
  },
  {
   "cell_type": "markdown",
   "metadata": {},
   "source": [
    "## 2 - Carga y Limpieza de los Datos (ETL) "
   ]
  },
  {
   "cell_type": "markdown",
   "metadata": {},
   "source": [
    "Carga del archivo CSV en un Dataframe de Pandas:"
   ]
  },
  {
   "cell_type": "code",
   "execution_count": 7,
   "metadata": {},
   "outputs": [],
   "source": [
    "import pandas as pd\n",
    "\n",
    "# Carga del archivo CSV\n",
    "df = pd.read_csv(r'C:\\Users\\mlope\\OneDrive\\Escritorio\\PROYECTO FINAL\\DataBase_PF\\SalesFINAL12312016.csv')"
   ]
  },
  {
   "cell_type": "markdown",
   "metadata": {},
   "source": [
    "Inspección de datos:"
   ]
  },
  {
   "cell_type": "code",
   "execution_count": 8,
   "metadata": {},
   "outputs": [
    {
     "name": "stdout",
     "output_type": "stream",
     "text": [
      "           InventoryId  Store  Brand                 Description        Size  \\\n",
      "0  1_HARDERSFIELD_1004      1   1004  Jim Beam w/2 Rocks Glasses       750mL   \n",
      "1  1_HARDERSFIELD_1004      1   1004  Jim Beam w/2 Rocks Glasses       750mL   \n",
      "2  1_HARDERSFIELD_1004      1   1004  Jim Beam w/2 Rocks Glasses       750mL   \n",
      "3  1_HARDERSFIELD_1004      1   1004  Jim Beam w/2 Rocks Glasses       750mL   \n",
      "4  1_HARDERSFIELD_1005      1   1005     Maker's Mark Combo Pack  375mL 2 Pk   \n",
      "\n",
      "   SalesQuantity  SalesDollars  SalesPrice SalesDate  Volume  Classification  \\\n",
      "0              1         16.49       16.49  1/1/2016     750               1   \n",
      "1              2         32.98       16.49  1/2/2016     750               1   \n",
      "2              1         16.49       16.49  1/3/2016     750               1   \n",
      "3              1         14.49       14.49  1/8/2016     750               1   \n",
      "4              2         69.98       34.99  1/9/2016     375               1   \n",
      "\n",
      "   ExciseTax  VendorNo                   VendorName  \n",
      "0       0.79     12546  JIM BEAM BRANDS COMPANY      \n",
      "1       1.57     12546  JIM BEAM BRANDS COMPANY      \n",
      "2       0.79     12546  JIM BEAM BRANDS COMPANY      \n",
      "3       0.79     12546  JIM BEAM BRANDS COMPANY      \n",
      "4       0.79     12546  JIM BEAM BRANDS COMPANY      \n"
     ]
    }
   ],
   "source": [
    "print(df.head())  # Muestra las primeras filas"
   ]
  },
  {
   "cell_type": "code",
   "execution_count": 9,
   "metadata": {},
   "outputs": [
    {
     "name": "stdout",
     "output_type": "stream",
     "text": [
      "<class 'pandas.core.frame.DataFrame'>\n",
      "RangeIndex: 1048575 entries, 0 to 1048574\n",
      "Data columns (total 14 columns):\n",
      " #   Column          Non-Null Count    Dtype  \n",
      "---  ------          --------------    -----  \n",
      " 0   InventoryId     1048575 non-null  object \n",
      " 1   Store           1048575 non-null  int64  \n",
      " 2   Brand           1048575 non-null  int64  \n",
      " 3   Description     1048575 non-null  object \n",
      " 4   Size            1048575 non-null  object \n",
      " 5   SalesQuantity   1048575 non-null  int64  \n",
      " 6   SalesDollars    1048575 non-null  float64\n",
      " 7   SalesPrice      1048575 non-null  float64\n",
      " 8   SalesDate       1048575 non-null  object \n",
      " 9   Volume          1048575 non-null  int64  \n",
      " 10  Classification  1048575 non-null  int64  \n",
      " 11  ExciseTax       1048575 non-null  float64\n",
      " 12  VendorNo        1048575 non-null  int64  \n",
      " 13  VendorName      1048575 non-null  object \n",
      "dtypes: float64(3), int64(6), object(5)\n",
      "memory usage: 112.0+ MB\n",
      "None\n"
     ]
    }
   ],
   "source": [
    "print(df.info())  # Información de columnas y tipos de datos"
   ]
  },
  {
   "cell_type": "code",
   "execution_count": 10,
   "metadata": {},
   "outputs": [
    {
     "name": "stdout",
     "output_type": "stream",
     "text": [
      "              Store         Brand  SalesQuantity  SalesDollars    SalesPrice  \\\n",
      "count  1.048575e+06  1.048575e+06   1.048575e+06  1.048575e+06  1.048575e+06   \n",
      "mean   4.008063e+01  1.216959e+04   2.337619e+00  3.160420e+01  1.543162e+01   \n",
      "std    2.435739e+01  1.241921e+04   3.511492e+00  6.570249e+01  1.404967e+01   \n",
      "min    1.000000e+00  5.800000e+01   1.000000e+00  4.900000e-01  4.900000e-01   \n",
      "25%    1.500000e+01  3.680000e+03   1.000000e+00  1.099000e+01  8.990000e+00   \n",
      "50%    3.900000e+01  6.296000e+03   1.000000e+00  1.799000e+01  1.299000e+01   \n",
      "75%    6.400000e+01  1.795400e+04   2.000000e+00  3.199000e+01  1.899000e+01   \n",
      "max    7.900000e+01  9.008900e+04   4.320000e+02  1.327997e+04  4.999990e+03   \n",
      "\n",
      "             Volume  Classification     ExciseTax      VendorNo  \n",
      "count  1.048575e+06    1.048575e+06  1.048575e+06  1.048575e+06  \n",
      "mean   9.500280e+02    1.416550e+00  1.326847e+00  6.995043e+03  \n",
      "std    7.142708e+02    4.929872e-01  3.407898e+00  8.426736e+03  \n",
      "min    5.000000e+01    1.000000e+00  1.000000e-02  2.000000e+00  \n",
      "25%    7.500000e+02    1.000000e+00  1.600000e-01  3.252000e+03  \n",
      "50%    7.500000e+02    1.000000e+00  6.800000e-01  4.425000e+03  \n",
      "75%    1.500000e+03    2.000000e+00  1.570000e+00  9.552000e+03  \n",
      "max    2.000000e+04    2.000000e+00  3.785200e+02  1.733570e+05  \n"
     ]
    }
   ],
   "source": [
    "print(df.describe())  # Estadísticas descriptivas"
   ]
  },
  {
   "cell_type": "markdown",
   "metadata": {},
   "source": [
    "Visualización del tamaño del Dataframe (Filas y Columnas):"
   ]
  },
  {
   "cell_type": "code",
   "execution_count": 11,
   "metadata": {},
   "outputs": [],
   "source": [
    "import numpy as np"
   ]
  },
  {
   "cell_type": "code",
   "execution_count": 12,
   "metadata": {},
   "outputs": [
    {
     "data": {
      "text/plain": [
       "(1048575, 14)"
      ]
     },
     "execution_count": 12,
     "metadata": {},
     "output_type": "execute_result"
    }
   ],
   "source": [
    "np.shape(df)"
   ]
  },
  {
   "cell_type": "markdown",
   "metadata": {},
   "source": [
    "# Limpieza de Datos:"
   ]
  },
  {
   "cell_type": "markdown",
   "metadata": {},
   "source": [
    "1 - Conversión del tipo de datos:"
   ]
  },
  {
   "cell_type": "code",
   "execution_count": 13,
   "metadata": {},
   "outputs": [],
   "source": [
    "df['SalesDate'] = pd.to_datetime(df['SalesDate'], format='%m/%d/%Y')\n",
    "df['SalesQuantity'] = pd.to_numeric(df['SalesQuantity'], errors='coerce')\n",
    "df['SalesDollars'] = pd.to_numeric(df['SalesDollars'], errors='coerce')\n",
    "df['SalesPrice'] = pd.to_numeric(df['SalesPrice'], errors='coerce')\n",
    "df['Volume'] = pd.to_numeric(df['Volume'], errors='coerce')\n",
    "df['ExciseTax'] = pd.to_numeric(df['ExciseTax'], errors='coerce')"
   ]
  },
  {
   "cell_type": "markdown",
   "metadata": {},
   "source": [
    "2 - Busqueda de Nulos:"
   ]
  },
  {
   "cell_type": "code",
   "execution_count": 14,
   "metadata": {},
   "outputs": [
    {
     "data": {
      "text/plain": [
       "InventoryId       0\n",
       "Store             0\n",
       "Brand             0\n",
       "Description       0\n",
       "Size              0\n",
       "SalesQuantity     0\n",
       "SalesDollars      0\n",
       "SalesPrice        0\n",
       "SalesDate         0\n",
       "Volume            0\n",
       "Classification    0\n",
       "ExciseTax         0\n",
       "VendorNo          0\n",
       "VendorName        0\n",
       "dtype: int64"
      ]
     },
     "execution_count": 14,
     "metadata": {},
     "output_type": "execute_result"
    }
   ],
   "source": [
    "df.isnull().sum()"
   ]
  },
  {
   "cell_type": "markdown",
   "metadata": {},
   "source": [
    "No se encontraron nulos"
   ]
  },
  {
   "cell_type": "markdown",
   "metadata": {},
   "source": [
    "3 - Búsqueda de Duplicados:"
   ]
  },
  {
   "cell_type": "code",
   "execution_count": 15,
   "metadata": {},
   "outputs": [
    {
     "name": "stdout",
     "output_type": "stream",
     "text": [
      "Empty DataFrame\n",
      "Columns: [InventoryId, Store, Brand, Description, Size, SalesQuantity, SalesDollars, SalesPrice, SalesDate, Volume, Classification, ExciseTax, VendorNo, VendorName]\n",
      "Index: []\n"
     ]
    }
   ],
   "source": [
    "duplicados = df[df.duplicated()]\n",
    "\n",
    "print(duplicados)"
   ]
  },
  {
   "cell_type": "markdown",
   "metadata": {},
   "source": [
    "No se encontraron duplicados"
   ]
  },
  {
   "cell_type": "markdown",
   "metadata": {},
   "source": [
    "## Paso 3: Análisis Exploratorio de Datos (EDA)"
   ]
  },
  {
   "cell_type": "markdown",
   "metadata": {},
   "source": [
    "1 - Análisis básico:"
   ]
  },
  {
   "cell_type": "code",
   "execution_count": 16,
   "metadata": {},
   "outputs": [],
   "source": [
    "import matplotlib.pyplot as plt\n",
    "import seaborn as sns"
   ]
  },
  {
   "cell_type": "markdown",
   "metadata": {},
   "source": [
    "Gráfico de Distribución de Ventas por Precio de Producto:"
   ]
  },
  {
   "cell_type": "code",
   "execution_count": 17,
   "metadata": {},
   "outputs": [
    {
     "data": {
      "image/png": "[encoded data removed]",
      "text/plain": [
       "<Figure size 640x480 with 1 Axes>"
      ]
     },
     "metadata": {},
     "output_type": "display_data"
    }
   ],
   "source": [
    "import seaborn as sns\n",
    "import matplotlib.pyplot as plt\n",
    "\n",
    "sns.histplot(df['SalesDollars'], binwidth=10, binrange=(0, 300))  # Ajusta los valores según tus datos\n",
    "plt.title('Distribución de las Ventas')\n",
    "plt.xlabel('SalesDollars')\n",
    "plt.ylabel('Frecuencia')\n",
    "plt.show()"
   ]
  },
  {
   "cell_type": "markdown",
   "metadata": {},
   "source": [
    "Relación entre SalesPrice y SalesQuantity:"
   ]
  },
  {
   "cell_type": "code",
   "execution_count": 18,
   "metadata": {},
   "outputs": [
    {
     "data": {
      "image/png": "[encoded data removed]",
      "text/plain": [
       "<Figure size 640x480 with 1 Axes>"
      ]
     },
     "metadata": {},
     "output_type": "display_data"
    }
   ],
   "source": [
    "# Relación entre SalesPrice y SalesQuantity\n",
    "sns.scatterplot(data=df, x='SalesPrice', y='SalesQuantity')\n",
    "plt.show()"
   ]
  },
  {
   "cell_type": "markdown",
   "metadata": {},
   "source": [
    "Datos Estadísticos Básicos:"
   ]
  },
  {
   "cell_type": "code",
   "execution_count": 19,
   "metadata": {},
   "outputs": [
    {
     "name": "stdout",
     "output_type": "stream",
     "text": [
      "Store\n",
      "Mediana: 39.0\n",
      "Varianza:  593.28\n",
      "Rango: 78\n",
      "Moda: 15\n",
      "--------------------------------\n",
      "Brand\n",
      "Mediana: 6296.0\n",
      "Varianza:  154236867.07\n",
      "Rango: 90031\n",
      "Moda: 3606\n",
      "--------------------------------\n",
      "SalesQuantity\n",
      "Mediana: 1.0\n",
      "Varianza:  12.33\n",
      "Rango: 431\n",
      "Moda: 1\n",
      "--------------------------------\n",
      "SalesDollars\n",
      "Mediana: 17.99\n",
      "Varianza:  4316.82\n",
      "Rango: 13279.48\n",
      "Moda: 9.99\n",
      "--------------------------------\n",
      "SalesPrice\n",
      "Mediana: 12.99\n",
      "Varianza:  197.39\n",
      "Rango: 4999.5\n",
      "Moda: 9.99\n",
      "--------------------------------\n",
      "Volume\n",
      "Mediana: 750.0\n",
      "Varianza:  510182.74\n",
      "Rango: 19950\n",
      "Moda: 750\n",
      "--------------------------------\n",
      "Classification\n",
      "Mediana: 1.0\n",
      "Varianza:  0.24\n",
      "Rango: 1\n",
      "Moda: 1\n",
      "--------------------------------\n",
      "ExciseTax\n",
      "Mediana: 0.68\n",
      "Varianza:  11.61\n",
      "Rango: 378.51\n",
      "Moda: 0.79\n",
      "--------------------------------\n",
      "VendorNo\n",
      "Mediana: 4425.0\n",
      "Varianza:  71009874.8\n",
      "Rango: 173355\n",
      "Moda: 3960\n",
      "--------------------------------\n"
     ]
    }
   ],
   "source": [
    "def calcular_estadisticas(data): \n",
    "    for columna in data.columns:\n",
    "        if data[columna].dtype == 'float64' or data[columna].dtype == 'int64':\n",
    "            print(columna)\n",
    "            print('Mediana:', data[columna].median())\n",
    "            print('Varianza: ', np.around((data[columna].var()),decimals=2)) # Casteo (redondeo) a 2 decimales\n",
    "            print('Rango:', data[columna].max() - data[columna].min())\n",
    "            print('Moda:', data[columna].mode()[0])\n",
    "            print('--------------------------------')\n",
    "\n",
    "calcular_estadisticas(df)"
   ]
  },
  {
   "cell_type": "markdown",
   "metadata": {},
   "source": [
    "Guardado del Dataframe en un archivo .CSV:"
   ]
  },
  {
   "cell_type": "code",
   "execution_count": 20,
   "metadata": {},
   "outputs": [],
   "source": [
    "# Guardar el DataFrame transformado\n",
    "df.to_csv('SalesFINAL31122016_Limpio.csv', index=False)"
   ]
  },
  {
   "cell_type": "code",
   "execution_count": 21,
   "metadata": {},
   "outputs": [],
   "source": [
    "#carga archivo csv\n",
    "df2 = pd.read_csv(r'C:\\Users\\mlope\\OneDrive\\Escritorio\\ProyectoFinalSoyHenry\\ComerLogistics\\Sprint_1\\EDA y ETL\\SalesFINAL31122016_Limpio.csv')"
   ]
  },
  {
   "cell_type": "markdown",
   "metadata": {},
   "source": [
    "Información de Columnas y Tipos de Datos:"
   ]
  },
  {
   "cell_type": "code",
   "execution_count": 22,
   "metadata": {},
   "outputs": [
    {
     "name": "stdout",
     "output_type": "stream",
     "text": [
      "<class 'pandas.core.frame.DataFrame'>\n",
      "RangeIndex: 1048575 entries, 0 to 1048574\n",
      "Data columns (total 14 columns):\n",
      " #   Column          Non-Null Count    Dtype  \n",
      "---  ------          --------------    -----  \n",
      " 0   InventoryId     1048575 non-null  object \n",
      " 1   Store           1048575 non-null  int64  \n",
      " 2   Brand           1048575 non-null  int64  \n",
      " 3   Description     1048575 non-null  object \n",
      " 4   Size            1048575 non-null  object \n",
      " 5   SalesQuantity   1048575 non-null  int64  \n",
      " 6   SalesDollars    1048575 non-null  float64\n",
      " 7   SalesPrice      1048575 non-null  float64\n",
      " 8   SalesDate       1048575 non-null  object \n",
      " 9   Volume          1048575 non-null  int64  \n",
      " 10  Classification  1048575 non-null  int64  \n",
      " 11  ExciseTax       1048575 non-null  float64\n",
      " 12  VendorNo        1048575 non-null  int64  \n",
      " 13  VendorName      1048575 non-null  object \n",
      "dtypes: float64(3), int64(6), object(5)\n",
      "memory usage: 112.0+ MB\n",
      "None\n"
     ]
    }
   ],
   "source": [
    "print(df2.info()) "
   ]
  },
  {
   "cell_type": "markdown",
   "metadata": {},
   "source": [
    "--------------------"
   ]
  },
  {
   "cell_type": "markdown",
   "metadata": {},
   "source": [
    "## ARCHIVO A TRABAJAR : .csv"
   ]
  }
 ],
 "metadata": {
  "kernelspec": {
   "display_name": "Python 3",
   "language": "python",
   "name": "python3"
  },
  "language_info": {
   "codemirror_mode": {
    "name": "ipython",
    "version": 3
   },
   "file_extension": ".py",
   "mimetype": "text/x-python",
   "name": "python",
   "nbconvert_exporter": "python",
   "pygments_lexer": "ipython3",
   "version": "3.12.4"
  }
 },
 "nbformat": 4,
 "nbformat_minor": 2
}
