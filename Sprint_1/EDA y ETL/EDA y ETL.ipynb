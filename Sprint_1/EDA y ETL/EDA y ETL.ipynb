{
 "cells": [
  {
   "cell_type": "markdown",
   "metadata": {},
   "source": [
    "# 🔬EDA Y ETL PARA BASE DE DATOS COMER LOGISTICS: 🖥️"
   ]
  },
  {
   "cell_type": "markdown",
   "metadata": {},
   "source": [
    "## ARCHIVO A TRABAJAR : 2017PurchasePricesDec.csv"
   ]
  },
  {
   "cell_type": "code",
   "execution_count": 1,
   "metadata": {},
   "outputs": [
    {
     "name": "stdout",
     "output_type": "stream",
     "text": [
      "Requirement already satisfied: pandas in c:\\users\\danie\\appdata\\local\\programs\\python\\python312\\lib\\site-packages (2.2.2)\n",
      "Requirement already satisfied: numpy in c:\\users\\danie\\appdata\\local\\programs\\python\\python312\\lib\\site-packages (2.0.0)\n",
      "Requirement already satisfied: matplotlib in c:\\users\\danie\\appdata\\local\\programs\\python\\python312\\lib\\site-packages (3.9.1)\n",
      "Requirement already satisfied: seaborn in c:\\users\\danie\\appdata\\local\\programs\\python\\python312\\lib\\site-packages (0.13.2)\n",
      "Requirement already satisfied: python-dateutil>=2.8.2 in c:\\users\\danie\\appdata\\roaming\\python\\python312\\site-packages (from pandas) (2.9.0.post0)\n",
      "Requirement already satisfied: pytz>=2020.1 in c:\\users\\danie\\appdata\\local\\programs\\python\\python312\\lib\\site-packages (from pandas) (2024.1)\n",
      "Requirement already satisfied: tzdata>=2022.7 in c:\\users\\danie\\appdata\\local\\programs\\python\\python312\\lib\\site-packages (from pandas) (2024.1)\n",
      "Requirement already satisfied: contourpy>=1.0.1 in c:\\users\\danie\\appdata\\local\\programs\\python\\python312\\lib\\site-packages (from matplotlib) (1.2.1)\n",
      "Requirement already satisfied: cycler>=0.10 in c:\\users\\danie\\appdata\\local\\programs\\python\\python312\\lib\\site-packages (from matplotlib) (0.12.1)\n",
      "Requirement already satisfied: fonttools>=4.22.0 in c:\\users\\danie\\appdata\\local\\programs\\python\\python312\\lib\\site-packages (from matplotlib) (4.53.1)\n",
      "Requirement already satisfied: kiwisolver>=1.3.1 in c:\\users\\danie\\appdata\\local\\programs\\python\\python312\\lib\\site-packages (from matplotlib) (1.4.5)\n",
      "Requirement already satisfied: packaging>=20.0 in c:\\users\\danie\\appdata\\roaming\\python\\python312\\site-packages (from matplotlib) (24.1)\n",
      "Requirement already satisfied: pillow>=8 in c:\\users\\danie\\appdata\\local\\programs\\python\\python312\\lib\\site-packages (from matplotlib) (10.4.0)\n",
      "Requirement already satisfied: pyparsing>=2.3.1 in c:\\users\\danie\\appdata\\local\\programs\\python\\python312\\lib\\site-packages (from matplotlib) (3.1.2)\n",
      "Requirement already satisfied: six>=1.5 in c:\\users\\danie\\appdata\\roaming\\python\\python312\\site-packages (from python-dateutil>=2.8.2->pandas) (1.16.0)\n",
      "Note: you may need to restart the kernel to use updated packages.\n"
     ]
    },
    {
     "name": "stderr",
     "output_type": "stream",
     "text": [
      "\n",
      "[notice] A new release of pip is available: 24.0 -> 24.2\n",
      "[notice] To update, run: python.exe -m pip install --upgrade pip\n"
     ]
    }
   ],
   "source": [
    "pip install pandas numpy matplotlib seaborn "
   ]
  },
  {
   "cell_type": "code",
   "execution_count": 2,
   "metadata": {},
   "outputs": [],
   "source": [
    "! pip freeze > requirements.txt "
   ]
  },
  {
   "cell_type": "code",
   "execution_count": 3,
   "metadata": {},
   "outputs": [],
   "source": [
    "import pandas as pd "
   ]
  },
  {
   "cell_type": "markdown",
   "metadata": {},
   "source": [
    "##### CARGA Y LIMPIEZA DE DATOS - Limpiar datos, manejar valores nulos, transformar formatos y preparar los datos para análisis más profundos:"
   ]
  },
  {
   "cell_type": "code",
   "execution_count": 4,
   "metadata": {},
   "outputs": [],
   "source": [
    "#carga archivo csv\n",
    "df = pd.read_csv(r'C:\\Users\\danie\\OneDrive\\Escritorio\\GitProyectoFinal\\ComerLogistics\\EDA y ETL Dani\\2017PurchasePricesDec.csv')"
   ]
  },
  {
   "cell_type": "code",
   "execution_count": 5,
   "metadata": {},
   "outputs": [
    {
     "name": "stdout",
     "output_type": "stream",
     "text": [
      "   Brand                  Description  Price   Size Volume  Classification  \\\n",
      "0     58  Gekkeikan Black & Gold Sake  12.99  750mL    750               1   \n",
      "1     62     Herradura Silver Tequila  36.99  750mL    750               1   \n",
      "2     63   Herradura Reposado Tequila  38.99  750mL    750               1   \n",
      "3     72         No. 3 London Dry Gin  34.99  750mL    750               1   \n",
      "4     75    Three Olives Tomato Vodka  14.99  750mL    750               1   \n",
      "\n",
      "   PurchasePrice  VendorNumber                   VendorName  \n",
      "0           9.28          8320  SHAW ROSS INT L IMP LTD      \n",
      "1          28.67          1128  BROWN-FORMAN CORP            \n",
      "2          30.46          1128  BROWN-FORMAN CORP            \n",
      "3          26.11          9165  ULTRA BEVERAGE COMPANY LLP   \n",
      "4          10.94          7245  PROXIMO SPIRITS INC.         \n"
     ]
    }
   ],
   "source": [
    "print(df.head())"
   ]
  },
  {
   "cell_type": "code",
   "execution_count": 6,
   "metadata": {},
   "outputs": [
    {
     "name": "stdout",
     "output_type": "stream",
     "text": [
      "<class 'pandas.core.frame.DataFrame'>\n",
      "RangeIndex: 12261 entries, 0 to 12260\n",
      "Data columns (total 9 columns):\n",
      " #   Column          Non-Null Count  Dtype  \n",
      "---  ------          --------------  -----  \n",
      " 0   Brand           12261 non-null  int64  \n",
      " 1   Description     12260 non-null  object \n",
      " 2   Price           12261 non-null  float64\n",
      " 3   Size            12260 non-null  object \n",
      " 4   Volume          12260 non-null  object \n",
      " 5   Classification  12261 non-null  int64  \n",
      " 6   PurchasePrice   12261 non-null  float64\n",
      " 7   VendorNumber    12261 non-null  int64  \n",
      " 8   VendorName      12261 non-null  object \n",
      "dtypes: float64(2), int64(3), object(4)\n",
      "memory usage: 862.2+ KB\n",
      "None\n"
     ]
    }
   ],
   "source": [
    "print(df.info())"
   ]
  },
  {
   "cell_type": "code",
   "execution_count": 7,
   "metadata": {},
   "outputs": [
    {
     "name": "stdout",
     "output_type": "stream",
     "text": [
      "              Brand         Price  Classification  PurchasePrice  \\\n",
      "count  12261.000000  12261.000000    12261.000000   12261.000000   \n",
      "mean   17989.067123     38.640240        1.708996      26.488220   \n",
      "std    12528.503464    206.151172        0.454244     156.182948   \n",
      "min       58.000000      0.000000        1.000000       0.000000   \n",
      "25%     5990.000000     10.990000        1.000000       6.890000   \n",
      "50%    18788.000000     15.990000        2.000000      10.650000   \n",
      "75%    25117.000000     29.990000        2.000000      20.130000   \n",
      "max    90631.000000  13999.900000        2.000000   11111.030000   \n",
      "\n",
      "        VendorNumber  \n",
      "count   12261.000000  \n",
      "mean    10814.861757  \n",
      "std     19007.682322  \n",
      "min         2.000000  \n",
      "25%      3960.000000  \n",
      "50%      7153.000000  \n",
      "75%      9552.000000  \n",
      "max    173357.000000  \n"
     ]
    }
   ],
   "source": [
    "print(df.describe()) # # Obtener estadísticas descriptivas de las variables numéricas"
   ]
  },
  {
   "cell_type": "code",
   "execution_count": 8,
   "metadata": {},
   "outputs": [
    {
     "name": "stdout",
     "output_type": "stream",
     "text": [
      "Valores nulos antes de la limpieza:\n",
      " Brand             0\n",
      "Description       1\n",
      "Price             0\n",
      "Size              1\n",
      "Volume            1\n",
      "Classification    0\n",
      "PurchasePrice     0\n",
      "VendorNumber      0\n",
      "VendorName        0\n",
      "dtype: int64\n"
     ]
    }
   ],
   "source": [
    "# Identificar la cantidad de valores nulos en cada columna\n",
    "print(\"Valores nulos antes de la limpieza:\\n\", df.isnull().sum())"
   ]
  },
  {
   "cell_type": "markdown",
   "metadata": {},
   "source": [
    "### Limpieza de Datos (ETL). Manejo de valores nulos : "
   ]
  },
  {
   "cell_type": "code",
   "execution_count": 9,
   "metadata": {},
   "outputs": [],
   "source": [
    "# Limpiar valores nulos\n",
    "df['Description'] = df['Description'].fillna('Unknown')\n",
    "df['Size'] = df['Size'].fillna('Unknown')\n",
    "df['Volume'] = df['Volume'].fillna('Unknown')"
   ]
  },
  {
   "cell_type": "code",
   "execution_count": 10,
   "metadata": {},
   "outputs": [
    {
     "name": "stdout",
     "output_type": "stream",
     "text": [
      "Valores nulos después de la limpieza:\n",
      " Brand             0\n",
      "Description       0\n",
      "Price             0\n",
      "Size              0\n",
      "Volume            0\n",
      "Classification    0\n",
      "PurchasePrice     0\n",
      "VendorNumber      0\n",
      "VendorName        0\n",
      "dtype: int64\n"
     ]
    }
   ],
   "source": [
    "# Verificar que no queden valores nulos\n",
    "print(\"Valores nulos después de la limpieza:\\n\", df.isnull().sum())"
   ]
  },
  {
   "cell_type": "markdown",
   "metadata": {},
   "source": [
    "###  Análisis de Relaciones entre Variables y Visualización de Distribuciones"
   ]
  },
  {
   "cell_type": "code",
   "execution_count": 11,
   "metadata": {},
   "outputs": [],
   "source": [
    "import seaborn as sns\n",
    "import matplotlib.pyplot as plt"
   ]
  },
  {
   "cell_type": "code",
   "execution_count": 12,
   "metadata": {},
   "outputs": [
    {
     "data": {
      "image/png": "[encoded data removed]",
      "text/plain": [
       "<Figure size 640x480 with 1 Axes>"
      ]
     },
     "metadata": {},
     "output_type": "display_data"
    }
   ],
   "source": [
    "# Relación entre Price y PurchasePrice\n",
    "sns.scatterplot(data=df, x='Price', y='PurchasePrice')\n",
    "plt.show()"
   ]
  },
  {
   "cell_type": "code",
   "execution_count": 13,
   "metadata": {},
   "outputs": [
    {
     "data": {
      "image/png": "[encoded data removed]",
      "text/plain": [
       "<Figure size 640x480 with 1 Axes>"
      ]
     },
     "metadata": {},
     "output_type": "display_data"
    }
   ],
   "source": [
    "# Relación entre VendorNumber y PurchasePrice\n",
    "sns.scatterplot(data=df, x='VendorNumber', y='PurchasePrice')\n",
    "plt.xticks (rotation=45)\n",
    "plt.show()"
   ]
  },
  {
   "cell_type": "code",
   "execution_count": 16,
   "metadata": {},
   "outputs": [
    {
     "data": {
      "image/png": "[encoded data removed]",
      "text/plain": [
       "<Figure size 500x300 with 1 Axes>"
      ]
     },
     "metadata": {},
     "output_type": "display_data"
    }
   ],
   "source": [
    "# Distribución de la columna 'Price'\n",
    "plt.figure(figsize=(5, 3))\n",
    "sns.histplot(df['Price'], kde=True)\n",
    "plt.title('Distribución de los Precios')\n",
    "plt.show()"
   ]
  },
  {
   "cell_type": "code",
   "execution_count": 17,
   "metadata": {},
   "outputs": [
    {
     "data": {
      "image/png": "[encoded data removed]",
      "text/plain": [
       "<Figure size 800x600 with 1 Axes>"
      ]
     },
     "metadata": {},
     "output_type": "display_data"
    }
   ],
   "source": [
    "# Boxplot para analizar la dispersión de 'Price' y 'PurchasePrice'\n",
    "plt.figure(figsize=(8, 6))\n",
    "sns.boxplot(data=df[['Price', 'PurchasePrice']])\n",
    "plt.title('Boxplot de Precios y Precios de Compra')\n",
    "plt.show()"
   ]
  },
  {
   "cell_type": "markdown",
   "metadata": {},
   "source": [
    "### Transformaciones ETL"
   ]
  },
  {
   "cell_type": "code",
   "execution_count": 18,
   "metadata": {},
   "outputs": [],
   "source": [
    "# Crear una nueva columna 'ProfitMargin' calculada como la diferencia entre Price y PurchasePrice\n",
    "df['ProfitMargin'] = df['Price'] - df['PurchasePrice']"
   ]
  },
  {
   "cell_type": "code",
   "execution_count": 19,
   "metadata": {},
   "outputs": [],
   "source": [
    "# Convertir la columna 'Size' en un número\n",
    "df['SizeNumeric'] = df['Size'].str.extract(r'(\\d+)').astype(float)"
   ]
  },
  {
   "cell_type": "markdown",
   "metadata": {},
   "source": [
    "#### Guardar el dataset limpio"
   ]
  },
  {
   "cell_type": "code",
   "execution_count": 20,
   "metadata": {},
   "outputs": [],
   "source": [
    "# Guardar el DataFrame transformado\n",
    "df.to_csv('purchasePricesDec_new.csv', index=False)"
   ]
  },
  {
   "cell_type": "code",
   "execution_count": 21,
   "metadata": {},
   "outputs": [],
   "source": [
    "#carga archivo csv\n",
    "df1 = pd.read_csv(r'C:\\Users\\danie\\OneDrive\\Escritorio\\GitProyectoFinal\\ComerLogistics\\EDA y ETL Dani\\purchasePricesDec_new.csv')"
   ]
  },
  {
   "cell_type": "code",
   "execution_count": 22,
   "metadata": {},
   "outputs": [
    {
     "name": "stdout",
     "output_type": "stream",
     "text": [
      "<class 'pandas.core.frame.DataFrame'>\n",
      "RangeIndex: 12261 entries, 0 to 12260\n",
      "Data columns (total 11 columns):\n",
      " #   Column          Non-Null Count  Dtype  \n",
      "---  ------          --------------  -----  \n",
      " 0   Brand           12261 non-null  int64  \n",
      " 1   Description     12261 non-null  object \n",
      " 2   Price           12261 non-null  float64\n",
      " 3   Size            12261 non-null  object \n",
      " 4   Volume          12261 non-null  object \n",
      " 5   Classification  12261 non-null  int64  \n",
      " 6   PurchasePrice   12261 non-null  float64\n",
      " 7   VendorNumber    12261 non-null  int64  \n",
      " 8   VendorName      12261 non-null  object \n",
      " 9   ProfitMargin    12261 non-null  float64\n",
      " 10  SizeNumeric     12256 non-null  float64\n",
      "dtypes: float64(4), int64(3), object(4)\n",
      "memory usage: 1.0+ MB\n",
      "None\n"
     ]
    }
   ],
   "source": [
    "print(df1.info())"
   ]
  },
  {
   "cell_type": "markdown",
   "metadata": {},
   "source": [
    "----"
   ]
  },
  {
   "cell_type": "markdown",
   "metadata": {},
   "source": [
    "## ARCHIVO A TRABAJAR : SalesFINAL31122016.csv"
   ]
  },
  {
   "cell_type": "markdown",
   "metadata": {},
   "source": [
    "## 1 - Configuración del Entorno en Visual Studio Code"
   ]
  },
  {
   "cell_type": "markdown",
   "metadata": {},
   "source": [
    " Instalación de las librerías necesarias"
   ]
  },
  {
   "cell_type": "code",
   "execution_count": 1,
   "metadata": {},
   "outputs": [
    {
     "name": "stdout",
     "output_type": "stream",
     "text": [
      "Requirement already satisfied: pandas in c:\\users\\mlope\\appdata\\local\\programs\\python\\python312\\lib\\site-packages (2.2.2)\n",
      "Requirement already satisfied: numpy in c:\\users\\mlope\\appdata\\local\\programs\\python\\python312\\lib\\site-packages (2.0.0)\n",
      "Requirement already satisfied: matplotlib in c:\\users\\mlope\\appdata\\local\\programs\\python\\python312\\lib\\site-packages (3.9.0)\n",
      "Requirement already satisfied: seaborn in c:\\users\\mlope\\appdata\\local\\programs\\python\\python312\\lib\\site-packages (0.13.2)\n",
      "Requirement already satisfied: sqlalchemy in c:\\users\\mlope\\appdata\\local\\programs\\python\\python312\\lib\\site-packages (2.0.31)\n",
      "Requirement already satisfied: pyodbc in c:\\users\\mlope\\appdata\\local\\programs\\python\\python312\\lib\\site-packages (5.1.0)\n",
      "Requirement already satisfied: python-dateutil>=2.8.2 in c:\\users\\mlope\\appdata\\roaming\\python\\python312\\site-packages (from pandas) (2.9.0.post0)\n",
      "Requirement already satisfied: pytz>=2020.1 in c:\\users\\mlope\\appdata\\local\\programs\\python\\python312\\lib\\site-packages (from pandas) (2024.1)\n",
      "Requirement already satisfied: tzdata>=2022.7 in c:\\users\\mlope\\appdata\\local\\programs\\python\\python312\\lib\\site-packages (from pandas) (2024.1)\n",
      "Requirement already satisfied: contourpy>=1.0.1 in c:\\users\\mlope\\appdata\\local\\programs\\python\\python312\\lib\\site-packages (from matplotlib) (1.2.1)\n",
      "Requirement already satisfied: cycler>=0.10 in c:\\users\\mlope\\appdata\\local\\programs\\python\\python312\\lib\\site-packages (from matplotlib) (0.12.1)\n",
      "Requirement already satisfied: fonttools>=4.22.0 in c:\\users\\mlope\\appdata\\local\\programs\\python\\python312\\lib\\site-packages (from matplotlib) (4.53.0)\n",
      "Requirement already satisfied: kiwisolver>=1.3.1 in c:\\users\\mlope\\appdata\\local\\programs\\python\\python312\\lib\\site-packages (from matplotlib) (1.4.5)\n",
      "Requirement already satisfied: packaging>=20.0 in c:\\users\\mlope\\appdata\\roaming\\python\\python312\\site-packages (from matplotlib) (24.1)\n",
      "Requirement already satisfied: pillow>=8 in c:\\users\\mlope\\appdata\\local\\programs\\python\\python312\\lib\\site-packages (from matplotlib) (10.4.0)\n",
      "Requirement already satisfied: pyparsing>=2.3.1 in c:\\users\\mlope\\appdata\\local\\programs\\python\\python312\\lib\\site-packages (from matplotlib) (3.1.2)\n",
      "Requirement already satisfied: typing-extensions>=4.6.0 in c:\\users\\mlope\\appdata\\local\\programs\\python\\python312\\lib\\site-packages (from sqlalchemy) (4.12.2)\n",
      "Requirement already satisfied: greenlet!=0.4.17 in c:\\users\\mlope\\appdata\\local\\programs\\python\\python312\\lib\\site-packages (from sqlalchemy) (3.0.3)\n",
      "Requirement already satisfied: six>=1.5 in c:\\users\\mlope\\appdata\\roaming\\python\\python312\\site-packages (from python-dateutil>=2.8.2->pandas) (1.16.0)\n"
     ]
    },
    {
     "name": "stderr",
     "output_type": "stream",
     "text": [
      "\n",
      "[notice] A new release of pip is available: 24.0 -> 24.2\n",
      "[notice] To update, run: python.exe -m pip install --upgrade pip\n"
     ]
    }
   ],
   "source": [
    "! pip install pandas numpy matplotlib seaborn sqlalchemy pyodbc"
   ]
  },
  {
   "cell_type": "code",
   "execution_count": 2,
   "metadata": {},
   "outputs": [],
   "source": [
    "! pip freeze > requirements.txt"
   ]
  },
  {
   "cell_type": "markdown",
   "metadata": {},
   "source": [
    "## 2 - Carga y Limpieza de los Datos (ETL) "
   ]
  },
  {
   "cell_type": "markdown",
   "metadata": {},
   "source": [
    "Carga del archivo CSV en un Dataframe de Pandas:"
   ]
  },
  {
   "cell_type": "code",
   "execution_count": 4,
   "metadata": {},
   "outputs": [],
   "source": [
    "import pandas as pd\n",
    "\n",
    "# Carga del archivo CSV\n",
    "df = pd.read_csv(r'C:\\Users\\mlope\\OneDrive\\Escritorio\\PROYECTO FINAL\\DataBase_PF\\SalesFINAL12312016.csv')"
   ]
  },
  {
   "cell_type": "markdown",
   "metadata": {},
   "source": [
    "Inspección de datos:"
   ]
  },
  {
   "cell_type": "code",
   "execution_count": 5,
   "metadata": {},
   "outputs": [
    {
     "name": "stdout",
     "output_type": "stream",
     "text": [
      "           InventoryId  Store  Brand                 Description        Size  \\\n",
      "0  1_HARDERSFIELD_1004      1   1004  Jim Beam w/2 Rocks Glasses       750mL   \n",
      "1  1_HARDERSFIELD_1004      1   1004  Jim Beam w/2 Rocks Glasses       750mL   \n",
      "2  1_HARDERSFIELD_1004      1   1004  Jim Beam w/2 Rocks Glasses       750mL   \n",
      "3  1_HARDERSFIELD_1004      1   1004  Jim Beam w/2 Rocks Glasses       750mL   \n",
      "4  1_HARDERSFIELD_1005      1   1005     Maker's Mark Combo Pack  375mL 2 Pk   \n",
      "\n",
      "   SalesQuantity  SalesDollars  SalesPrice SalesDate  Volume  Classification  \\\n",
      "0              1         16.49       16.49  1/1/2016     750               1   \n",
      "1              2         32.98       16.49  1/2/2016     750               1   \n",
      "2              1         16.49       16.49  1/3/2016     750               1   \n",
      "3              1         14.49       14.49  1/8/2016     750               1   \n",
      "4              2         69.98       34.99  1/9/2016     375               1   \n",
      "\n",
      "   ExciseTax  VendorNo                   VendorName  \n",
      "0       0.79     12546  JIM BEAM BRANDS COMPANY      \n",
      "1       1.57     12546  JIM BEAM BRANDS COMPANY      \n",
      "2       0.79     12546  JIM BEAM BRANDS COMPANY      \n",
      "3       0.79     12546  JIM BEAM BRANDS COMPANY      \n",
      "4       0.79     12546  JIM BEAM BRANDS COMPANY      \n"
     ]
    }
   ],
   "source": [
    "print(df.head())  # Muestra las primeras filas"
   ]
  },
  {
   "cell_type": "markdown",
   "metadata": {},
   "source": [
    "Creación de Archivo Requirements:"
   ]
  },
  {
   "cell_type": "code",
   "execution_count": 6,
   "metadata": {},
   "outputs": [],
   "source": [
    "! pip freeze > requirements.txt"
   ]
  },
  {
   "cell_type": "markdown",
   "metadata": {},
   "source": [
    "## 2 - Carga y Limpieza de los Datos (ETL) "
   ]
  },
  {
   "cell_type": "markdown",
   "metadata": {},
   "source": [
    "Carga del archivo CSV en un Dataframe de Pandas:"
   ]
  },
  {
   "cell_type": "code",
   "execution_count": 8,
   "metadata": {},
   "outputs": [],
   "source": [
    "import pandas as pd\n",
    "\n",
    "# Carga del archivo CSV\n",
    "df = pd.read_csv(r'C:\\Users\\mlope\\OneDrive\\Escritorio\\PROYECTO FINAL\\DataBase_PF\\SalesFINAL12312016.csv')"
   ]
  },
  {
   "cell_type": "markdown",
   "metadata": {},
   "source": [
    "Inspección de datos:"
   ]
  },
  {
   "cell_type": "code",
   "execution_count": 9,
   "metadata": {},
   "outputs": [
    {
     "name": "stdout",
     "output_type": "stream",
     "text": [
      "           InventoryId  Store  Brand                 Description        Size  \\\n",
      "0  1_HARDERSFIELD_1004      1   1004  Jim Beam w/2 Rocks Glasses       750mL   \n",
      "1  1_HARDERSFIELD_1004      1   1004  Jim Beam w/2 Rocks Glasses       750mL   \n",
      "2  1_HARDERSFIELD_1004      1   1004  Jim Beam w/2 Rocks Glasses       750mL   \n",
      "3  1_HARDERSFIELD_1004      1   1004  Jim Beam w/2 Rocks Glasses       750mL   \n",
      "4  1_HARDERSFIELD_1005      1   1005     Maker's Mark Combo Pack  375mL 2 Pk   \n",
      "\n",
      "   SalesQuantity  SalesDollars  SalesPrice SalesDate  Volume  Classification  \\\n",
      "0              1         16.49       16.49  1/1/2016     750               1   \n",
      "1              2         32.98       16.49  1/2/2016     750               1   \n",
      "2              1         16.49       16.49  1/3/2016     750               1   \n",
      "3              1         14.49       14.49  1/8/2016     750               1   \n",
      "4              2         69.98       34.99  1/9/2016     375               1   \n",
      "\n",
      "   ExciseTax  VendorNo                   VendorName  \n",
      "0       0.79     12546  JIM BEAM BRANDS COMPANY      \n",
      "1       1.57     12546  JIM BEAM BRANDS COMPANY      \n",
      "2       0.79     12546  JIM BEAM BRANDS COMPANY      \n",
      "3       0.79     12546  JIM BEAM BRANDS COMPANY      \n",
      "4       0.79     12546  JIM BEAM BRANDS COMPANY      \n"
     ]
    }
   ],
   "source": [
    "print(df.head())  # Muestra las primeras filas"
   ]
  },
  {
   "cell_type": "code",
   "execution_count": 10,
   "metadata": {},
   "outputs": [
    {
     "name": "stdout",
     "output_type": "stream",
     "text": [
      "<class 'pandas.core.frame.DataFrame'>\n",
      "RangeIndex: 1048575 entries, 0 to 1048574\n",
      "Data columns (total 14 columns):\n",
      " #   Column          Non-Null Count    Dtype  \n",
      "---  ------          --------------    -----  \n",
      " 0   InventoryId     1048575 non-null  object \n",
      " 1   Store           1048575 non-null  int64  \n",
      " 2   Brand           1048575 non-null  int64  \n",
      " 3   Description     1048575 non-null  object \n",
      " 4   Size            1048575 non-null  object \n",
      " 5   SalesQuantity   1048575 non-null  int64  \n",
      " 6   SalesDollars    1048575 non-null  float64\n",
      " 7   SalesPrice      1048575 non-null  float64\n",
      " 8   SalesDate       1048575 non-null  object \n",
      " 9   Volume          1048575 non-null  int64  \n",
      " 10  Classification  1048575 non-null  int64  \n",
      " 11  ExciseTax       1048575 non-null  float64\n",
      " 12  VendorNo        1048575 non-null  int64  \n",
      " 13  VendorName      1048575 non-null  object \n",
      "dtypes: float64(3), int64(6), object(5)\n",
      "memory usage: 112.0+ MB\n",
      "None\n"
     ]
    }
   ],
   "source": [
    "print(df.info())  # Información de columnas y tipos de datos"
   ]
  },
  {
   "cell_type": "code",
   "execution_count": 11,
   "metadata": {},
   "outputs": [
    {
     "name": "stdout",
     "output_type": "stream",
     "text": [
      "              Store         Brand  SalesQuantity  SalesDollars    SalesPrice  \\\n",
      "count  1.048575e+06  1.048575e+06   1.048575e+06  1.048575e+06  1.048575e+06   \n",
      "mean   4.008063e+01  1.216959e+04   2.337619e+00  3.160420e+01  1.543162e+01   \n",
      "std    2.435739e+01  1.241921e+04   3.511492e+00  6.570249e+01  1.404967e+01   \n",
      "min    1.000000e+00  5.800000e+01   1.000000e+00  4.900000e-01  4.900000e-01   \n",
      "25%    1.500000e+01  3.680000e+03   1.000000e+00  1.099000e+01  8.990000e+00   \n",
      "50%    3.900000e+01  6.296000e+03   1.000000e+00  1.799000e+01  1.299000e+01   \n",
      "75%    6.400000e+01  1.795400e+04   2.000000e+00  3.199000e+01  1.899000e+01   \n",
      "max    7.900000e+01  9.008900e+04   4.320000e+02  1.327997e+04  4.999990e+03   \n",
      "\n",
      "             Volume  Classification     ExciseTax      VendorNo  \n",
      "count  1.048575e+06    1.048575e+06  1.048575e+06  1.048575e+06  \n",
      "mean   9.500280e+02    1.416550e+00  1.326847e+00  6.995043e+03  \n",
      "std    7.142708e+02    4.929872e-01  3.407898e+00  8.426736e+03  \n",
      "min    5.000000e+01    1.000000e+00  1.000000e-02  2.000000e+00  \n",
      "25%    7.500000e+02    1.000000e+00  1.600000e-01  3.252000e+03  \n",
      "50%    7.500000e+02    1.000000e+00  6.800000e-01  4.425000e+03  \n",
      "75%    1.500000e+03    2.000000e+00  1.570000e+00  9.552000e+03  \n",
      "max    2.000000e+04    2.000000e+00  3.785200e+02  1.733570e+05  \n"
     ]
    }
   ],
   "source": [
    "print(df.describe())  # Estadísticas descriptivas"
   ]
  },
  {
   "cell_type": "markdown",
   "metadata": {},
   "source": [
    "Visualización del tamaño del Dataframe (Filas y Columnas):"
   ]
  },
  {
   "cell_type": "code",
   "execution_count": 12,
   "metadata": {},
   "outputs": [],
   "source": [
    "import numpy as np"
   ]
  },
  {
   "cell_type": "code",
   "execution_count": 13,
   "metadata": {},
   "outputs": [
    {
     "data": {
      "text/plain": [
       "(1048575, 14)"
      ]
     },
     "execution_count": 13,
     "metadata": {},
     "output_type": "execute_result"
    }
   ],
   "source": [
    "np.shape(df)"
   ]
  },
  {
   "cell_type": "markdown",
   "metadata": {},
   "source": [
    "# Limpieza de Datos:"
   ]
  },
  {
   "cell_type": "markdown",
   "metadata": {},
   "source": [
    "1 - Conversión del tipo de datos:"
   ]
  },
  {
   "cell_type": "code",
   "execution_count": 14,
   "metadata": {},
   "outputs": [],
   "source": [
    "df['SalesDate'] = pd.to_datetime(df['SalesDate'], format='%m/%d/%Y')\n",
    "df['SalesQuantity'] = pd.to_numeric(df['SalesQuantity'], errors='coerce')\n",
    "df['SalesDollars'] = pd.to_numeric(df['SalesDollars'], errors='coerce')\n",
    "df['SalesPrice'] = pd.to_numeric(df['SalesPrice'], errors='coerce')\n",
    "df['Volume'] = pd.to_numeric(df['Volume'], errors='coerce')\n",
    "df['ExciseTax'] = pd.to_numeric(df['ExciseTax'], errors='coerce')"
   ]
  },
  {
   "cell_type": "markdown",
   "metadata": {},
   "source": [
    "2 - Busqueda de Nulos:"
   ]
  },
  {
   "cell_type": "code",
   "execution_count": 15,
   "metadata": {},
   "outputs": [
    {
     "data": {
      "text/plain": [
       "InventoryId       0\n",
       "Store             0\n",
       "Brand             0\n",
       "Description       0\n",
       "Size              0\n",
       "SalesQuantity     0\n",
       "SalesDollars      0\n",
       "SalesPrice        0\n",
       "SalesDate         0\n",
       "Volume            0\n",
       "Classification    0\n",
       "ExciseTax         0\n",
       "VendorNo          0\n",
       "VendorName        0\n",
       "dtype: int64"
      ]
     },
     "execution_count": 15,
     "metadata": {},
     "output_type": "execute_result"
    }
   ],
   "source": [
    "df.isnull().sum()"
   ]
  },
  {
   "cell_type": "markdown",
   "metadata": {},
   "source": [
    "No se encontraron nulos"
   ]
  },
  {
   "cell_type": "markdown",
   "metadata": {},
   "source": [
    "3 - Búsqueda de Duplicados:"
   ]
  },
  {
   "cell_type": "code",
   "execution_count": 16,
   "metadata": {},
   "outputs": [
    {
     "name": "stdout",
     "output_type": "stream",
     "text": [
      "Empty DataFrame\n",
      "Columns: [InventoryId, Store, Brand, Description, Size, SalesQuantity, SalesDollars, SalesPrice, SalesDate, Volume, Classification, ExciseTax, VendorNo, VendorName]\n",
      "Index: []\n"
     ]
    }
   ],
   "source": [
    "duplicados = df[df.duplicated()]\n",
    "\n",
    "print(duplicados)"
   ]
  },
  {
   "cell_type": "markdown",
   "metadata": {},
   "source": [
    "No se encontraron duplicados"
   ]
  },
  {
   "cell_type": "markdown",
   "metadata": {},
   "source": [
    "## Paso 3: Análisis Exploratorio de Datos (EDA)"
   ]
  },
  {
   "cell_type": "markdown",
   "metadata": {},
   "source": [
    "1 - Análisis básico:"
   ]
  },
  {
   "cell_type": "code",
   "execution_count": 17,
   "metadata": {},
   "outputs": [],
   "source": [
    "import matplotlib.pyplot as plt\n",
    "import seaborn as sns"
   ]
  },
  {
   "cell_type": "markdown",
   "metadata": {},
   "source": [
    "Gráfico de Distribución de Ventas por Precio de Producto:"
   ]
  },
  {
   "cell_type": "code",
   "execution_count": 18,
   "metadata": {},
   "outputs": [
    {
     "data": {
      "image/png": "[encoded data removed]",
      "text/plain": [
       "<Figure size 640x480 with 1 Axes>"
      ]
     },
     "metadata": {},
     "output_type": "display_data"
    }
   ],
   "source": [
    "import seaborn as sns\n",
    "import matplotlib.pyplot as plt\n",
    "\n",
    "sns.histplot(df['SalesDollars'], binwidth=10, binrange=(0, 300))  # Ajusta los valores según tus datos\n",
    "plt.title('Distribución de las Ventas')\n",
    "plt.xlabel('SalesDollars')\n",
    "plt.ylabel('Frecuencia')\n",
    "plt.show()"
   ]
  },
  {
   "cell_type": "markdown",
   "metadata": {},
   "source": [
    "Relación entre SalesPrice y SalesQuantity:"
   ]
  },
  {
   "cell_type": "code",
   "execution_count": 20,
   "metadata": {},
   "outputs": [
    {
     "data": {
      "image/png": "[encoded data removed]",
      "text/plain": [
       "<Figure size 640x480 with 1 Axes>"
      ]
     },
     "metadata": {},
     "output_type": "display_data"
    }
   ],
   "source": [
    "# Relación entre SalesPrice y SalesQuantity\n",
    "sns.scatterplot(data=df, x='SalesPrice', y='SalesQuantity')\n",
    "plt.show()"
   ]
  },
  {
   "cell_type": "markdown",
   "metadata": {},
   "source": [
    "Datos Estadísticos Básicos:"
   ]
  },
  {
   "cell_type": "code",
   "execution_count": 21,
   "metadata": {},
   "outputs": [
    {
     "name": "stdout",
     "output_type": "stream",
     "text": [
      "Store\n",
      "Mediana: 39.0\n",
      "Varianza:  593.28\n",
      "Rango: 78\n",
      "Moda: 15\n",
      "--------------------------------\n",
      "Brand\n",
      "Mediana: 6296.0\n",
      "Varianza:  154236867.07\n",
      "Rango: 90031\n",
      "Moda: 3606\n",
      "--------------------------------\n",
      "SalesQuantity\n",
      "Mediana: 1.0\n",
      "Varianza:  12.33\n",
      "Rango: 431\n",
      "Moda: 1\n",
      "--------------------------------\n",
      "SalesDollars\n",
      "Mediana: 17.99\n",
      "Varianza:  4316.82\n",
      "Rango: 13279.48\n",
      "Moda: 9.99\n",
      "--------------------------------\n",
      "SalesPrice\n",
      "Mediana: 12.99\n",
      "Varianza:  197.39\n",
      "Rango: 4999.5\n",
      "Moda: 9.99\n",
      "--------------------------------\n",
      "Volume\n",
      "Mediana: 750.0\n",
      "Varianza:  510182.74\n",
      "Rango: 19950\n",
      "Moda: 750\n",
      "--------------------------------\n",
      "Classification\n",
      "Mediana: 1.0\n",
      "Varianza:  0.24\n",
      "Rango: 1\n",
      "Moda: 1\n",
      "--------------------------------\n",
      "ExciseTax\n",
      "Mediana: 0.68\n",
      "Varianza:  11.61\n",
      "Rango: 378.51\n",
      "Moda: 0.79\n",
      "--------------------------------\n",
      "VendorNo\n",
      "Mediana: 4425.0\n",
      "Varianza:  71009874.8\n",
      "Rango: 173355\n",
      "Moda: 3960\n",
      "--------------------------------\n"
     ]
    }
   ],
   "source": [
    "def calcular_estadisticas(data): \n",
    "    for columna in data.columns:\n",
    "        if data[columna].dtype == 'float64' or data[columna].dtype == 'int64':\n",
    "            print(columna)\n",
    "            print('Mediana:', data[columna].median())\n",
    "            print('Varianza: ', np.around((data[columna].var()),decimals=2)) # Casteo (redondeo) a 2 decimales\n",
    "            print('Rango:', data[columna].max() - data[columna].min())\n",
    "            print('Moda:', data[columna].mode()[0])\n",
    "            print('--------------------------------')\n",
    "\n",
    "calcular_estadisticas(df)"
   ]
  },
  {
   "cell_type": "markdown",
   "metadata": {},
   "source": [
    "Guardado del Dataframe en un archivo .CSV:"
   ]
  },
  {
   "cell_type": "code",
   "execution_count": 22,
   "metadata": {},
   "outputs": [],
   "source": [
    "df.to_csv('C:/Users/mlope/OneDrive/Escritorio/PROYECTO FINAL/DataBase_PF/SalesFINAL_Limpio.csv', index=False)"
   ]
  },
  {
   "cell_type": "markdown",
   "metadata": {},
   "source": [
    "Información de Columnas y Tipos de Datos:"
   ]
  },
  {
   "cell_type": "code",
   "execution_count": 23,
   "metadata": {},
   "outputs": [
    {
     "name": "stdout",
     "output_type": "stream",
     "text": [
      "<class 'pandas.core.frame.DataFrame'>\n",
      "RangeIndex: 1048575 entries, 0 to 1048574\n",
      "Data columns (total 14 columns):\n",
      " #   Column          Non-Null Count    Dtype         \n",
      "---  ------          --------------    -----         \n",
      " 0   InventoryId     1048575 non-null  object        \n",
      " 1   Store           1048575 non-null  int64         \n",
      " 2   Brand           1048575 non-null  int64         \n",
      " 3   Description     1048575 non-null  object        \n",
      " 4   Size            1048575 non-null  object        \n",
      " 5   SalesQuantity   1048575 non-null  int64         \n",
      " 6   SalesDollars    1048575 non-null  float64       \n",
      " 7   SalesPrice      1048575 non-null  float64       \n",
      " 8   SalesDate       1048575 non-null  datetime64[ns]\n",
      " 9   Volume          1048575 non-null  int64         \n",
      " 10  Classification  1048575 non-null  int64         \n",
      " 11  ExciseTax       1048575 non-null  float64       \n",
      " 12  VendorNo        1048575 non-null  int64         \n",
      " 13  VendorName      1048575 non-null  object        \n",
      "dtypes: datetime64[ns](1), float64(3), int64(6), object(4)\n",
      "memory usage: 112.0+ MB\n",
      "None\n"
     ]
    }
   ],
   "source": [
    "print(df.info()) "
   ]
  },
  {
   "cell_type": "markdown",
   "metadata": {},
   "source": [
    "--------------------"
   ]
  },
  {
   "cell_type": "markdown",
   "metadata": {},
   "source": [
    "## 👩‍💻 Vamos a Trabajar con el archivo de InvoicePurchases12312016.csv🛠️"
   ]
  },
  {
   "cell_type": "markdown",
   "metadata": {},
   "source": [
    "### 👉1. Preparación del entorno"
   ]
  },
  {
   "cell_type": "code",
   "execution_count": 16,
   "metadata": {},
   "outputs": [],
   "source": [
    "# Importar librerías necesarias 📊\n",
    "import pandas as pd\n",
    "import numpy as np\n",
    "import matplotlib.pyplot as plt\n",
    "import seaborn as sns"
   ]
  },
  {
   "cell_type": "markdown",
   "metadata": {},
   "source": [
    "### 💾Grabar Librerias"
   ]
  },
  {
   "cell_type": "code",
   "execution_count": 17,
   "metadata": {},
   "outputs": [],
   "source": [
    "# Grabar las dependencias a utilizar para su posterior uso automatizado.\n",
    "! pip freeze > requirements.txt"
   ]
  },
  {
   "cell_type": "code",
   "execution_count": null,
   "metadata": {},
   "outputs": [],
   "source": [
    "# Si quieren intalar las dependencias a usar usen el siguiente comando⚠️⚠️⚠️\n",
    "! pip install -r requirements.txt"
   ]
  },
  {
   "cell_type": "markdown",
   "metadata": {},
   "source": [
    "### 👉2. Carga de los archivo CSV a trabajar"
   ]
  },
  {
   "cell_type": "code",
   "execution_count": 18,
   "metadata": {},
   "outputs": [
    {
     "data": {
      "text/html": [
       "<div>\n",
       "<style scoped>\n",
       "    .dataframe tbody tr th:only-of-type {\n",
       "        vertical-align: middle;\n",
       "    }\n",
       "\n",
       "    .dataframe tbody tr th {\n",
       "        vertical-align: top;\n",
       "    }\n",
       "\n",
       "    .dataframe thead th {\n",
       "        text-align: right;\n",
       "    }\n",
       "</style>\n",
       "<table border=\"1\" class=\"dataframe\">\n",
       "  <thead>\n",
       "    <tr style=\"text-align: right;\">\n",
       "      <th></th>\n",
       "      <th>VendorNumber</th>\n",
       "      <th>VendorName</th>\n",
       "      <th>InvoiceDate</th>\n",
       "      <th>PONumber</th>\n",
       "      <th>PODate</th>\n",
       "      <th>PayDate</th>\n",
       "      <th>Quantity</th>\n",
       "      <th>Dollars</th>\n",
       "      <th>Freight</th>\n",
       "      <th>Approval</th>\n",
       "    </tr>\n",
       "  </thead>\n",
       "  <tbody>\n",
       "    <tr>\n",
       "      <th>0</th>\n",
       "      <td>105</td>\n",
       "      <td>ALTAMAR BRANDS LLC</td>\n",
       "      <td>2016-01-04</td>\n",
       "      <td>8124</td>\n",
       "      <td>2015-12-21</td>\n",
       "      <td>2016-02-16</td>\n",
       "      <td>6</td>\n",
       "      <td>214.26</td>\n",
       "      <td>3.47</td>\n",
       "      <td>NaN</td>\n",
       "    </tr>\n",
       "    <tr>\n",
       "      <th>1</th>\n",
       "      <td>4466</td>\n",
       "      <td>AMERICAN VINTAGE BEVERAGE</td>\n",
       "      <td>2016-01-07</td>\n",
       "      <td>8137</td>\n",
       "      <td>2015-12-22</td>\n",
       "      <td>2016-02-21</td>\n",
       "      <td>15</td>\n",
       "      <td>140.55</td>\n",
       "      <td>8.57</td>\n",
       "      <td>NaN</td>\n",
       "    </tr>\n",
       "    <tr>\n",
       "      <th>2</th>\n",
       "      <td>388</td>\n",
       "      <td>ATLANTIC IMPORTING COMPANY</td>\n",
       "      <td>2016-01-09</td>\n",
       "      <td>8169</td>\n",
       "      <td>2015-12-24</td>\n",
       "      <td>2016-02-16</td>\n",
       "      <td>5</td>\n",
       "      <td>106.60</td>\n",
       "      <td>4.61</td>\n",
       "      <td>NaN</td>\n",
       "    </tr>\n",
       "    <tr>\n",
       "      <th>3</th>\n",
       "      <td>480</td>\n",
       "      <td>BACARDI USA INC</td>\n",
       "      <td>2016-01-12</td>\n",
       "      <td>8106</td>\n",
       "      <td>2015-12-20</td>\n",
       "      <td>2016-02-05</td>\n",
       "      <td>10100</td>\n",
       "      <td>137483.78</td>\n",
       "      <td>2935.20</td>\n",
       "      <td>NaN</td>\n",
       "    </tr>\n",
       "    <tr>\n",
       "      <th>4</th>\n",
       "      <td>516</td>\n",
       "      <td>BANFI PRODUCTS CORP</td>\n",
       "      <td>2016-01-07</td>\n",
       "      <td>8170</td>\n",
       "      <td>2015-12-24</td>\n",
       "      <td>2016-02-12</td>\n",
       "      <td>1935</td>\n",
       "      <td>15527.25</td>\n",
       "      <td>429.20</td>\n",
       "      <td>NaN</td>\n",
       "    </tr>\n",
       "  </tbody>\n",
       "</table>\n",
       "</div>"
      ],
      "text/plain": [
       "   VendorNumber                   VendorName InvoiceDate  PONumber  \\\n",
       "0           105  ALTAMAR BRANDS LLC           2016-01-04      8124   \n",
       "1          4466  AMERICAN VINTAGE BEVERAGE    2016-01-07      8137   \n",
       "2           388  ATLANTIC IMPORTING COMPANY   2016-01-09      8169   \n",
       "3           480  BACARDI USA INC              2016-01-12      8106   \n",
       "4           516  BANFI PRODUCTS CORP          2016-01-07      8170   \n",
       "\n",
       "       PODate     PayDate  Quantity    Dollars  Freight Approval  \n",
       "0  2015-12-21  2016-02-16         6     214.26     3.47      NaN  \n",
       "1  2015-12-22  2016-02-21        15     140.55     8.57      NaN  \n",
       "2  2015-12-24  2016-02-16         5     106.60     4.61      NaN  \n",
       "3  2015-12-20  2016-02-05     10100  137483.78  2935.20      NaN  \n",
       "4  2015-12-24  2016-02-12      1935   15527.25   429.20      NaN  "
      ]
     },
     "execution_count": 18,
     "metadata": {},
     "output_type": "execute_result"
    }
   ],
   "source": [
    "# Cargar archivos CSV\n",
    "invoice_purchases_df = pd.read_csv('C:/Users/hernan/Desktop/Hernan/henry/Proyecto Final/dataset/archive/InvoicePurchases12312016.csv')\n",
    "# Mostrar las primeras filas del DataFrame\n",
    "invoice_purchases_df.head()"
   ]
  },
  {
   "cell_type": "markdown",
   "metadata": {},
   "source": [
    "### 👉3. Inspección inicial del DataFrame🕵️\n",
    "📝Revisión inicial de las características del DataFrame, incluyendo el número de filas y columnas, tipos de datos y estadísticas descriptivas."
   ]
  },
  {
   "cell_type": "code",
   "execution_count": 19,
   "metadata": {},
   "outputs": [
    {
     "name": "stdout",
     "output_type": "stream",
     "text": [
      "Tamaño del DataFrame: (5543, 10)\n",
      "\n",
      "Tipos de datos:\n",
      "VendorNumber      int64\n",
      "VendorName       object\n",
      "InvoiceDate      object\n",
      "PONumber          int64\n",
      "PODate           object\n",
      "PayDate          object\n",
      "Quantity          int64\n",
      "Dollars         float64\n",
      "Freight         float64\n",
      "Approval         object\n",
      "dtype: object\n",
      "\n",
      "Estadísticas descriptivas:\n",
      "VendorNumber\n",
      "count      5543.00000\n",
      "mean      20662.75212\n",
      "std       34582.15841\n",
      "min           2.00000\n",
      "25%        3089.00000\n",
      "50%        7240.00000\n",
      "75%       10754.00000\n",
      "max      201359.00000\n",
      "Name: VendorNumber, dtype: float64\n",
      "--------------------------------\n",
      "VendorName\n",
      "count                            5543\n",
      "unique                            129\n",
      "top       AMERICAN VINTAGE BEVERAGE  \n",
      "freq                               55\n",
      "Name: VendorName, dtype: object\n",
      "--------------------------------\n",
      "InvoiceDate\n",
      "count           5543\n",
      "unique           373\n",
      "top       2016-07-04\n",
      "freq              43\n",
      "Name: InvoiceDate, dtype: object\n",
      "--------------------------------\n",
      "PONumber\n",
      "count     5543.000000\n",
      "mean     10889.419087\n",
      "std       1600.859969\n",
      "min       8106.000000\n",
      "25%       9503.500000\n",
      "50%      10890.000000\n",
      "75%      12275.500000\n",
      "max      13661.000000\n",
      "Name: PONumber, dtype: float64\n",
      "--------------------------------\n",
      "PODate\n",
      "count           5543\n",
      "unique           319\n",
      "top       2016-06-25\n",
      "freq              86\n",
      "Name: PODate, dtype: object\n",
      "--------------------------------\n",
      "PayDate\n",
      "count           5543\n",
      "unique           382\n",
      "top       2016-08-14\n",
      "freq              31\n",
      "Name: PayDate, dtype: object\n",
      "--------------------------------\n",
      "Quantity\n",
      "count      5543.000000\n",
      "mean       6058.880931\n",
      "std       14453.338164\n",
      "min           1.000000\n",
      "25%          83.000000\n",
      "50%         423.000000\n",
      "75%        5100.500000\n",
      "max      141660.000000\n",
      "Name: Quantity, dtype: float64\n",
      "--------------------------------\n",
      "Dollars\n",
      "count    5.543000e+03\n",
      "mean     5.807338e+04\n",
      "std      1.402340e+05\n",
      "min      4.140000e+00\n",
      "25%      9.678100e+02\n",
      "50%      4.765450e+03\n",
      "75%      4.458718e+04\n",
      "max      1.660436e+06\n",
      "Name: Dollars, dtype: float64\n",
      "--------------------------------\n",
      "Freight\n",
      "count    5543.000000\n",
      "mean      295.954301\n",
      "std       713.585093\n",
      "min         0.020000\n",
      "25%         5.020000\n",
      "50%        24.730000\n",
      "75%       229.660000\n",
      "max      8468.220000\n",
      "Name: Freight, dtype: float64\n",
      "--------------------------------\n",
      "Approval\n",
      "count                374\n",
      "unique                 1\n",
      "top       Frank Delahunt\n",
      "freq                 374\n",
      "Name: Approval, dtype: object\n",
      "--------------------------------\n"
     ]
    }
   ],
   "source": [
    "# Tamaño del DataFrame\n",
    "print(f\"Tamaño del DataFrame: {invoice_purchases_df.shape}\")\n",
    "\n",
    "# Tipos de datos\n",
    "print(\"\\nTipos de datos:\")\n",
    "print(invoice_purchases_df.dtypes)\n",
    "\n",
    "# Estadísticas descriptivas 📊\n",
    "print(\"\\nEstadísticas descriptivas:\")\n",
    "for estadisticas in invoice_purchases_df.columns:\n",
    "    print(estadisticas)\n",
    "    print(invoice_purchases_df[estadisticas].describe())\n",
    "    print('--------------------------------')"
   ]
  },
  {
   "cell_type": "code",
   "execution_count": 20,
   "metadata": {},
   "outputs": [
    {
     "name": "stdout",
     "output_type": "stream",
     "text": [
      "\n",
      "Informacion de culumnas y tipos de datos:\n",
      "<class 'pandas.core.frame.DataFrame'>\n",
      "RangeIndex: 5543 entries, 0 to 5542\n",
      "Data columns (total 10 columns):\n",
      " #   Column        Non-Null Count  Dtype  \n",
      "---  ------        --------------  -----  \n",
      " 0   VendorNumber  5543 non-null   int64  \n",
      " 1   VendorName    5543 non-null   object \n",
      " 2   InvoiceDate   5543 non-null   object \n",
      " 3   PONumber      5543 non-null   int64  \n",
      " 4   PODate        5543 non-null   object \n",
      " 5   PayDate       5543 non-null   object \n",
      " 6   Quantity      5543 non-null   int64  \n",
      " 7   Dollars       5543 non-null   float64\n",
      " 8   Freight       5543 non-null   float64\n",
      " 9   Approval      374 non-null    object \n",
      "dtypes: float64(2), int64(3), object(5)\n",
      "memory usage: 433.2+ KB\n",
      "None\n"
     ]
    }
   ],
   "source": [
    "# Información básica del dataset 🧐\n",
    "print(\"\\nInformacion de culumnas y tipos de datos:\")\n",
    "print(invoice_purchases_df.info())"
   ]
  },
  {
   "cell_type": "markdown",
   "metadata": {},
   "source": [
    "### 👉4. Detección de valores nulos y vacíos"
   ]
  },
  {
   "cell_type": "code",
   "execution_count": 21,
   "metadata": {},
   "outputs": [
    {
     "name": "stdout",
     "output_type": "stream",
     "text": [
      "Valores nulos por columna:\n",
      "VendorNumber       0\n",
      "VendorName         0\n",
      "InvoiceDate        0\n",
      "PONumber           0\n",
      "PODate             0\n",
      "PayDate            0\n",
      "Quantity           0\n",
      "Dollars            0\n",
      "Freight            0\n",
      "Approval        5169\n",
      "dtype: int64\n",
      "\n",
      "Porcentaje de valores nulos por columna:\n",
      "VendorNumber     0.000000\n",
      "VendorName       0.000000\n",
      "InvoiceDate      0.000000\n",
      "PONumber         0.000000\n",
      "PODate           0.000000\n",
      "PayDate          0.000000\n",
      "Quantity         0.000000\n",
      "Dollars          0.000000\n",
      "Freight          0.000000\n",
      "Approval        93.252751\n",
      "dtype: float64\n"
     ]
    }
   ],
   "source": [
    "# Cantidad de valores nulos por columna 🤔\n",
    "print(\"Valores nulos por columna:\")\n",
    "print(invoice_purchases_df.isnull().sum())\n",
    "\n",
    "# Porcentaje de valores nulos por columna 🤔\n",
    "print(\"\\nPorcentaje de valores nulos por columna:\")\n",
    "print(invoice_purchases_df.isnull().mean() * 100)"
   ]
  },
  {
   "cell_type": "markdown",
   "metadata": {},
   "source": [
    "📝No se detectaron nulos, Proseguimos con el analisis"
   ]
  },
  {
   "cell_type": "markdown",
   "metadata": {},
   "source": [
    "### 👉5. Detección de Duplicados"
   ]
  },
  {
   "cell_type": "code",
   "execution_count": 22,
   "metadata": {},
   "outputs": [
    {
     "name": "stdout",
     "output_type": "stream",
     "text": [
      "Duplicados encontrados: 0\n"
     ]
    }
   ],
   "source": [
    "# Detección de duplicados 🔍\n",
    "duplicados = invoice_purchases_df.duplicated()\n",
    "print(f\"Duplicados encontrados: {duplicados.sum()}\")"
   ]
  },
  {
   "cell_type": "markdown",
   "metadata": {},
   "source": [
    "📝No se detectaron Duplicados "
   ]
  },
  {
   "cell_type": "markdown",
   "metadata": {},
   "source": [
    "### 👉6. Transformacion de tipos de columnas 📝\n",
    "📝Por el analisis que pudimos observar vemos que solo tenemos mal definidos los tipos de datos de las columnas InvoiceDate, PODate, y PayDate deberían ser de tipo datetime."
   ]
  },
  {
   "cell_type": "code",
   "execution_count": 23,
   "metadata": {},
   "outputs": [],
   "source": [
    "# Convertir las columnas de fechas a formato datetime 📅\n",
    "invoice_purchases_df['InvoiceDate'] = pd.to_datetime(invoice_purchases_df['InvoiceDate'])\n",
    "invoice_purchases_df['PODate'] = pd.to_datetime(invoice_purchases_df['PODate'])\n",
    "invoice_purchases_df['PayDate'] = pd.to_datetime(invoice_purchases_df['PayDate'])"
   ]
  },
  {
   "cell_type": "markdown",
   "metadata": {},
   "source": [
    "📝La columna Approval, aunque tiene valores faltantes (NaN), debería ser de tipo string o boolean si solo indica aprobación (True/False)."
   ]
  },
  {
   "cell_type": "code",
   "execution_count": 31,
   "metadata": {},
   "outputs": [],
   "source": [
    "# Revisar la columna Approval: \n",
    "# Convertir los valores a True/False si es una columna de aprobación ✅\n",
    "invoice_purchases_df['Approval'] = invoice_purchases_df['Approval'].apply(lambda x: True if pd.notnull(x) else False)"
   ]
  },
  {
   "cell_type": "code",
   "execution_count": 32,
   "metadata": {},
   "outputs": [
    {
     "name": "stdout",
     "output_type": "stream",
     "text": [
      "\n",
      "Información después de la corrección de tipos:\n",
      "<class 'pandas.core.frame.DataFrame'>\n",
      "RangeIndex: 5543 entries, 0 to 5542\n",
      "Data columns (total 10 columns):\n",
      " #   Column        Non-Null Count  Dtype         \n",
      "---  ------        --------------  -----         \n",
      " 0   VendorNumber  5543 non-null   int64         \n",
      " 1   VendorName    5543 non-null   object        \n",
      " 2   InvoiceDate   5543 non-null   datetime64[ns]\n",
      " 3   PONumber      5543 non-null   int64         \n",
      " 4   PODate        5543 non-null   datetime64[ns]\n",
      " 5   PayDate       5543 non-null   datetime64[ns]\n",
      " 6   Quantity      5543 non-null   int64         \n",
      " 7   Dollars       5543 non-null   float64       \n",
      " 8   Freight       5543 non-null   float64       \n",
      " 9   Approval      5543 non-null   bool          \n",
      "dtypes: bool(1), datetime64[ns](3), float64(2), int64(3), object(1)\n",
      "memory usage: 395.3+ KB\n",
      "None\n",
      "\n",
      "Primeras filas del DataFrame corregido:\n",
      "   VendorNumber                   VendorName InvoiceDate  PONumber     PODate  \\\n",
      "0           105  ALTAMAR BRANDS LLC           2016-01-04      8124 2015-12-21   \n",
      "1          4466  AMERICAN VINTAGE BEVERAGE    2016-01-07      8137 2015-12-22   \n",
      "2           388  ATLANTIC IMPORTING COMPANY   2016-01-09      8169 2015-12-24   \n",
      "3           480  BACARDI USA INC              2016-01-12      8106 2015-12-20   \n",
      "4           516  BANFI PRODUCTS CORP          2016-01-07      8170 2015-12-24   \n",
      "\n",
      "     PayDate  Quantity    Dollars  Freight  Approval  \n",
      "0 2016-02-16         6     214.26     3.47      True  \n",
      "1 2016-02-21        15     140.55     8.57      True  \n",
      "2 2016-02-16         5     106.60     4.61      True  \n",
      "3 2016-02-05     10100  137483.78  2935.20      True  \n",
      "4 2016-02-12      1935   15527.25   429.20      True  \n"
     ]
    }
   ],
   "source": [
    "# Verificamos nuevamente la estructura y tipos de datos\n",
    "print(\"\\nInformación después de la corrección de tipos:\")\n",
    "print(invoice_purchases_df.info())\n",
    "\n",
    "# Mostramos las primeras filas para verificar las conversiones\n",
    "print(\"\\nPrimeras filas del DataFrame corregido:\")\n",
    "print(invoice_purchases_df.head())"
   ]
  },
  {
   "cell_type": "markdown",
   "metadata": {},
   "source": [
    "### 👉7.Guardamos el Nuevo Archivo Limpio📂"
   ]
  },
  {
   "cell_type": "code",
   "execution_count": 25,
   "metadata": {},
   "outputs": [],
   "source": [
    "# Guardar el archivo limpio si es necesario\n",
    "invoice_purchases_df.to_csv('InvoicePurchases12312016_clean.csv', index=False)"
   ]
  },
  {
   "cell_type": "markdown",
   "metadata": {},
   "source": [
    "### 👉8.Cargar Nuevo Archivo para usar 🔄"
   ]
  },
  {
   "cell_type": "code",
   "execution_count": 26,
   "metadata": {},
   "outputs": [],
   "source": [
    "# Cargar el archivo CSV limpio\n",
    "invoice_purchases_df1 = pd.read_csv(r'C:\\Users\\hernan\\Desktop\\Hernan\\henry\\Proyecto Final\\ComerLogistics\\Sprint_1\\EDA y ETL\\InvoicePurchases12312016_clean.csv')"
   ]
  },
  {
   "cell_type": "code",
   "execution_count": 33,
   "metadata": {},
   "outputs": [
    {
     "name": "stdout",
     "output_type": "stream",
     "text": [
      "\n",
      "Información después de la corrección de tipos:\n",
      "<class 'pandas.core.frame.DataFrame'>\n",
      "RangeIndex: 5543 entries, 0 to 5542\n",
      "Data columns (total 10 columns):\n",
      " #   Column        Non-Null Count  Dtype         \n",
      "---  ------        --------------  -----         \n",
      " 0   VendorNumber  5543 non-null   int64         \n",
      " 1   VendorName    5543 non-null   object        \n",
      " 2   InvoiceDate   5543 non-null   datetime64[ns]\n",
      " 3   PONumber      5543 non-null   int64         \n",
      " 4   PODate        5543 non-null   object        \n",
      " 5   PayDate       5543 non-null   object        \n",
      " 6   Quantity      5543 non-null   int64         \n",
      " 7   Dollars       5543 non-null   float64       \n",
      " 8   Freight       5543 non-null   float64       \n",
      " 9   Approval      5543 non-null   bool          \n",
      "dtypes: bool(1), datetime64[ns](1), float64(2), int64(3), object(3)\n",
      "memory usage: 395.3+ KB\n",
      "None\n",
      "\n",
      "Primeras filas del DataFrame corregido:\n",
      "   VendorNumber                   VendorName InvoiceDate  PONumber  \\\n",
      "0           105  ALTAMAR BRANDS LLC           2016-01-04      8124   \n",
      "1          4466  AMERICAN VINTAGE BEVERAGE    2016-01-07      8137   \n",
      "2           388  ATLANTIC IMPORTING COMPANY   2016-01-09      8169   \n",
      "3           480  BACARDI USA INC              2016-01-12      8106   \n",
      "4           516  BANFI PRODUCTS CORP          2016-01-07      8170   \n",
      "\n",
      "       PODate     PayDate  Quantity    Dollars  Freight  Approval  \n",
      "0  2015-12-21  2016-02-16         6     214.26     3.47     False  \n",
      "1  2015-12-22  2016-02-21        15     140.55     8.57     False  \n",
      "2  2015-12-24  2016-02-16         5     106.60     4.61     False  \n",
      "3  2015-12-20  2016-02-05     10100  137483.78  2935.20     False  \n",
      "4  2015-12-24  2016-02-12      1935   15527.25   429.20     False  \n"
     ]
    }
   ],
   "source": [
    "# Verificamos nuevamente la estructura y tipos de datos\n",
    "print(\"\\nInformación después de la corrección de tipos:\")\n",
    "print(invoice_purchases_df1.info())\n",
    "\n",
    "# Mostramos las primeras filas para verificar las conversiones\n",
    "print(\"\\nPrimeras filas del DataFrame corregido:\")\n",
    "print(invoice_purchases_df1.head())"
   ]
  },
  {
   "cell_type": "markdown",
   "metadata": {},
   "source": [
    "### 👉9. Analisis con Graficos ✅\n",
    "### 📉1.Histograma de la columna Dollars 💵\n",
    "📝Distribución de la columna Dollars: Un histograma para ver la distribución de los montos facturados."
   ]
  },
  {
   "cell_type": "code",
   "execution_count": 27,
   "metadata": {},
   "outputs": [
    {
     "name": "stderr",
     "output_type": "stream",
     "text": [
      "C:\\Users\\hernan\\AppData\\Roaming\\Python\\Python312\\site-packages\\IPython\\core\\pylabtools.py:170: UserWarning: Glyph 128201 (\\N{CHART WITH DOWNWARDS TREND}) missing from font(s) Arial.\n",
      "  fig.canvas.print_figure(bytes_io, **kw)\n"
     ]
    },
    {
     "data": {
      "image/png": "[encoded data removed]",
      "text/plain": [
       "<Figure size 1000x600 with 1 Axes>"
      ]
     },
     "metadata": {},
     "output_type": "display_data"
    }
   ],
   "source": [
    "# Configurar el estilo de Seaborn\n",
    "sns.set(style=\"whitegrid\")\n",
    "\n",
    "# 1. Histograma de la columna Dollars 💵\n",
    "plt.figure(figsize=(10, 6))\n",
    "sns.histplot(invoice_purchases_df1['Dollars'], bins=30, kde=True, color='blue')\n",
    "plt.title('📉Distribución de Montos Facturados (Dollars)📉', fontsize=16)\n",
    "plt.xlabel('Dollars', fontsize=14)\n",
    "plt.ylabel('Frecuencia', fontsize=14)\n",
    "plt.show()"
   ]
  },
  {
   "cell_type": "markdown",
   "metadata": {},
   "source": [
    "📝Histograma de Dollars: Este gráfico muestra la distribución de los montos facturados, permitiendo observar la dispersión y la frecuencia de los valores."
   ]
  },
  {
   "cell_type": "markdown",
   "metadata": {},
   "source": [
    "### 📈2. Gráfico de dispersión entre Quantity y Dollars 📈\n",
    "📝Relación entre Quantity y Dollars: Un gráfico de dispersión para analizar la relación entre la cantidad comprada y el valor total de la compra."
   ]
  },
  {
   "cell_type": "code",
   "execution_count": 28,
   "metadata": {},
   "outputs": [
    {
     "data": {
      "image/png": "[encoded data removed]",
      "text/plain": [
       "<Figure size 1000x600 with 1 Axes>"
      ]
     },
     "metadata": {},
     "output_type": "display_data"
    }
   ],
   "source": [
    "# 2. Gráfico de dispersión entre Quantity y Dollars 📈\n",
    "plt.figure(figsize=(10, 6))\n",
    "sns.scatterplot(data=invoice_purchases_df1, x='Quantity', y='Dollars', hue='VendorName', palette='Set2', legend=False)\n",
    "plt.title('Relación entre Cantidad Comprada y Montos Facturados', fontsize=16)\n",
    "plt.xlabel('Cantidad Comprada', fontsize=14)\n",
    "plt.ylabel('Dollars', fontsize=14)\n",
    "plt.show()"
   ]
  },
  {
   "cell_type": "markdown",
   "metadata": {},
   "source": [
    "📝Gráfico de dispersión Quantity vs. Dollars: Este gráfico permite visualizar la relación entre la cantidad de unidades compradas y el total facturado, detectando posibles patrones o anomalías."
   ]
  },
  {
   "cell_type": "markdown",
   "metadata": {},
   "source": [
    "### 📊3. Gráfico de barras de montos por proveedor 🏢\n",
    "📝Montos por proveedor (VendorName): Un gráfico de barras para visualizar los montos totales por proveedor."
   ]
  },
  {
   "cell_type": "code",
   "execution_count": 29,
   "metadata": {},
   "outputs": [
    {
     "name": "stderr",
     "output_type": "stream",
     "text": [
      "C:\\Users\\hernan\\AppData\\Local\\Temp\\ipykernel_9048\\1044103059.py:4: FutureWarning: \n",
      "\n",
      "Passing `palette` without assigning `hue` is deprecated and will be removed in v0.14.0. Assign the `y` variable to `hue` and set `legend=False` for the same effect.\n",
      "\n",
      "  sns.barplot(x=top_vendors.values, y=top_vendors.index, palette='Set1')\n"
     ]
    },
    {
     "data": {
      "image/png": "[encoded data removed]",
      "text/plain": [
       "<Figure size 1400x800 with 1 Axes>"
      ]
     },
     "metadata": {},
     "output_type": "display_data"
    }
   ],
   "source": [
    "# 3. Gráfico de barras de montos por proveedor 🏢\n",
    "plt.figure(figsize=(14, 8))\n",
    "top_vendors = invoice_purchases_df1.groupby('VendorName')['Dollars'].sum().nlargest(10)\n",
    "sns.barplot(x=top_vendors.values, y=top_vendors.index, palette='Set1')\n",
    "plt.title('Top 10 Proveedores por Montos Totales Facturados', fontsize=16)\n",
    "plt.xlabel('Total Dollars', fontsize=14)\n",
    "plt.ylabel('Proveedor', fontsize=14)\n",
    "plt.show()"
   ]
  },
  {
   "cell_type": "markdown",
   "metadata": {},
   "source": [
    "📝Gráfico de barras de montos por proveedor: Visualiza los 10 proveedores principales por el monto total facturado, útil para identificar los proveedores más relevantes."
   ]
  },
  {
   "cell_type": "markdown",
   "metadata": {},
   "source": [
    "### 📈4. Gráfico de línea de tendencia temporal de las compras ⏰\n",
    "📝Tendencia temporal de las compras (InvoiceDate): Un gráfico de línea para ver cómo evolucionan los montos de las compras a lo largo del tiempo."
   ]
  },
  {
   "cell_type": "code",
   "execution_count": 30,
   "metadata": {},
   "outputs": [
    {
     "data": {
      "image/png": "[encoded data removed]",
      "text/plain": [
       "<Figure size 1200x600 with 1 Axes>"
      ]
     },
     "metadata": {},
     "output_type": "display_data"
    }
   ],
   "source": [
    "# 4. Gráfico de línea de tendencia temporal de las compras ⏰\n",
    "invoice_purchases_df1['InvoiceDate'] = pd.to_datetime(invoice_purchases_df1['InvoiceDate'])\n",
    "monthly_totals = invoice_purchases_df1.resample('ME', on='InvoiceDate')['Dollars'].sum()\n",
    "\n",
    "plt.figure(figsize=(12, 6))\n",
    "sns.lineplot(data=monthly_totals, marker='o', color='green')\n",
    "plt.title('Tendencia Temporal de los Montos de Compras', fontsize=16)\n",
    "plt.xlabel('Fecha', fontsize=14)\n",
    "plt.ylabel('Total Dollars', fontsize=14)\n",
    "plt.xticks(rotation=45)\n",
    "plt.show()"
   ]
  },
  {
   "cell_type": "markdown",
   "metadata": {},
   "source": [
    "📝Gráfico de línea de tendencia temporal: Este gráfico muestra cómo han variado los montos de compras a lo largo del tiempo, lo que puede indicar patrones estacionales o tendencias generales."
   ]
  },
  {
   "cell_type": "markdown",
   "metadata": {},
   "source": [
    "-----"
   ]
  },
  {
   "cell_type": "markdown",
   "metadata": {},
   "source": [
    "### Trabajar"
   ]
  },
  {
   "cell_type": "code",
   "execution_count": null,
   "metadata": {},
   "outputs": [],
   "source": []
  },
  {
   "cell_type": "markdown",
   "metadata": {},
   "source": [
    "# EDA archivos BegInvFinal12312016.csv y EndInvFinal12312016.csv"
   ]
  },
  {
   "cell_type": "markdown",
   "metadata": {},
   "source": [
    "## Preparamos el entorno"
   ]
  },
  {
   "cell_type": "code",
   "execution_count": 3,
   "metadata": {},
   "outputs": [
    {
     "name": "stdout",
     "output_type": "stream",
     "text": [
      "Requirement already satisfied: seaborn in c:\\users\\administrator\\appdata\\local\\programs\\python\\python312\\lib\\site-packages (0.13.2)\n",
      "Requirement already satisfied: numpy!=1.24.0,>=1.20 in c:\\users\\administrator\\appdata\\local\\programs\\python\\python312\\lib\\site-packages (from seaborn) (2.0.0)\n",
      "Requirement already satisfied: pandas>=1.2 in c:\\users\\administrator\\appdata\\local\\programs\\python\\python312\\lib\\site-packages (from seaborn) (2.2.2)\n",
      "Requirement already satisfied: matplotlib!=3.6.1,>=3.4 in c:\\users\\administrator\\appdata\\local\\programs\\python\\python312\\lib\\site-packages (from seaborn) (3.9.0)\n",
      "Requirement already satisfied: contourpy>=1.0.1 in c:\\users\\administrator\\appdata\\local\\programs\\python\\python312\\lib\\site-packages (from matplotlib!=3.6.1,>=3.4->seaborn) (1.2.1)\n",
      "Requirement already satisfied: cycler>=0.10 in c:\\users\\administrator\\appdata\\local\\programs\\python\\python312\\lib\\site-packages (from matplotlib!=3.6.1,>=3.4->seaborn) (0.12.1)\n",
      "Requirement already satisfied: fonttools>=4.22.0 in c:\\users\\administrator\\appdata\\local\\programs\\python\\python312\\lib\\site-packages (from matplotlib!=3.6.1,>=3.4->seaborn) (4.53.0)\n",
      "Requirement already satisfied: kiwisolver>=1.3.1 in c:\\users\\administrator\\appdata\\local\\programs\\python\\python312\\lib\\site-packages (from matplotlib!=3.6.1,>=3.4->seaborn) (1.4.5)\n",
      "Requirement already satisfied: packaging>=20.0 in c:\\users\\administrator\\appdata\\roaming\\python\\python312\\site-packages (from matplotlib!=3.6.1,>=3.4->seaborn) (24.1)\n",
      "Requirement already satisfied: pillow>=8 in c:\\users\\administrator\\appdata\\local\\programs\\python\\python312\\lib\\site-packages (from matplotlib!=3.6.1,>=3.4->seaborn) (10.3.0)\n",
      "Requirement already satisfied: pyparsing>=2.3.1 in c:\\users\\administrator\\appdata\\local\\programs\\python\\python312\\lib\\site-packages (from matplotlib!=3.6.1,>=3.4->seaborn) (3.1.2)\n",
      "Requirement already satisfied: python-dateutil>=2.7 in c:\\users\\administrator\\appdata\\roaming\\python\\python312\\site-packages (from matplotlib!=3.6.1,>=3.4->seaborn) (2.9.0.post0)\n",
      "Requirement already satisfied: pytz>=2020.1 in c:\\users\\administrator\\appdata\\local\\programs\\python\\python312\\lib\\site-packages (from pandas>=1.2->seaborn) (2024.1)\n",
      "Requirement already satisfied: tzdata>=2022.7 in c:\\users\\administrator\\appdata\\local\\programs\\python\\python312\\lib\\site-packages (from pandas>=1.2->seaborn) (2024.1)\n",
      "Requirement already satisfied: six>=1.5 in c:\\users\\administrator\\appdata\\roaming\\python\\python312\\site-packages (from python-dateutil>=2.7->matplotlib!=3.6.1,>=3.4->seaborn) (1.16.0)\n"
     ]
    },
    {
     "name": "stderr",
     "output_type": "stream",
     "text": [
      "\n",
      "[notice] A new release of pip is available: 24.1.2 -> 24.2\n",
      "[notice] To update, run: python.exe -m pip install --upgrade pip\n"
     ]
    }
   ],
   "source": [
    "# Instalamos seaborn\n",
    "! pip install seaborn"
   ]
  },
  {
   "cell_type": "code",
   "execution_count": 4,
   "metadata": {},
   "outputs": [],
   "source": [
    "# Carga de librerías\n",
    "import pandas as pd\n",
    "import numpy as np\n",
    "import matplotlib  # Para poder establecer la version que se maneja, aunque no es necesario importar\n",
    "import matplotlib.pyplot as plt\n",
    "import seaborn as sns\n",
    "import os"
   ]
  },
  {
   "cell_type": "code",
   "execution_count": 5,
   "metadata": {},
   "outputs": [
    {
     "name": "stdout",
     "output_type": "stream",
     "text": [
      "Pandas version: 2.2.2\n",
      "Numpy version: 2.0.0\n",
      "Matplotlib version: 3.9.0\n",
      "Seaborn version: 0.13.2\n"
     ]
    }
   ],
   "source": [
    "# Imprimir versiones para asegurarnos de que estamos utilizando las correctas\n",
    "print(f\"Pandas version: {pd.__version__}\")\n",
    "print(f\"Numpy version: {np.__version__}\")\n",
    "print(f\"Matplotlib version: {matplotlib.__version__}\")\n",
    "print(f\"Seaborn version: {sns.__version__}\")"
   ]
  },
  {
   "cell_type": "code",
   "execution_count": 6,
   "metadata": {},
   "outputs": [],
   "source": [
    "# Establecemos el estado de dependencia\n",
    "! pip freeze > requirementscfdr.txt # Para actualizar mi estado de dependencia"
   ]
  },
  {
   "cell_type": "markdown",
   "metadata": {},
   "source": [
    "## Leemos el archivo"
   ]
  },
  {
   "cell_type": "code",
   "execution_count": 7,
   "metadata": {},
   "outputs": [],
   "source": [
    "df_BegInvFINAL = pd.read_csv('BegInvFinal12312016.csv',sep=',')"
   ]
  },
  {
   "cell_type": "code",
   "execution_count": 8,
   "metadata": {},
   "outputs": [],
   "source": [
    "df_EndInvFINAL = pd.read_csv('EndInvFinal12312016.csv',sep=',')"
   ]
  },
  {
   "cell_type": "code",
   "execution_count": 9,
   "metadata": {},
   "outputs": [
    {
     "data": {
      "text/html": [
       "<div>\n",
       "<style scoped>\n",
       "    .dataframe tbody tr th:only-of-type {\n",
       "        vertical-align: middle;\n",
       "    }\n",
       "\n",
       "    .dataframe tbody tr th {\n",
       "        vertical-align: top;\n",
       "    }\n",
       "\n",
       "    .dataframe thead th {\n",
       "        text-align: right;\n",
       "    }\n",
       "</style>\n",
       "<table border=\"1\" class=\"dataframe\">\n",
       "  <thead>\n",
       "    <tr style=\"text-align: right;\">\n",
       "      <th></th>\n",
       "      <th>InventoryId</th>\n",
       "      <th>Store</th>\n",
       "      <th>City</th>\n",
       "      <th>Brand</th>\n",
       "      <th>Description</th>\n",
       "      <th>Size</th>\n",
       "      <th>onHand</th>\n",
       "      <th>Price</th>\n",
       "      <th>startDate</th>\n",
       "    </tr>\n",
       "  </thead>\n",
       "  <tbody>\n",
       "    <tr>\n",
       "      <th>0</th>\n",
       "      <td>1_HARDERSFIELD_58</td>\n",
       "      <td>1</td>\n",
       "      <td>HARDERSFIELD</td>\n",
       "      <td>58</td>\n",
       "      <td>Gekkeikan Black &amp; Gold Sake</td>\n",
       "      <td>750mL</td>\n",
       "      <td>8</td>\n",
       "      <td>12.99</td>\n",
       "      <td>2016-01-01</td>\n",
       "    </tr>\n",
       "    <tr>\n",
       "      <th>1</th>\n",
       "      <td>1_HARDERSFIELD_60</td>\n",
       "      <td>1</td>\n",
       "      <td>HARDERSFIELD</td>\n",
       "      <td>60</td>\n",
       "      <td>Canadian Club 1858 VAP</td>\n",
       "      <td>750mL</td>\n",
       "      <td>7</td>\n",
       "      <td>10.99</td>\n",
       "      <td>2016-01-01</td>\n",
       "    </tr>\n",
       "    <tr>\n",
       "      <th>2</th>\n",
       "      <td>1_HARDERSFIELD_62</td>\n",
       "      <td>1</td>\n",
       "      <td>HARDERSFIELD</td>\n",
       "      <td>62</td>\n",
       "      <td>Herradura Silver Tequila</td>\n",
       "      <td>750mL</td>\n",
       "      <td>6</td>\n",
       "      <td>36.99</td>\n",
       "      <td>2016-01-01</td>\n",
       "    </tr>\n",
       "    <tr>\n",
       "      <th>3</th>\n",
       "      <td>1_HARDERSFIELD_63</td>\n",
       "      <td>1</td>\n",
       "      <td>HARDERSFIELD</td>\n",
       "      <td>63</td>\n",
       "      <td>Herradura Reposado Tequila</td>\n",
       "      <td>750mL</td>\n",
       "      <td>3</td>\n",
       "      <td>38.99</td>\n",
       "      <td>2016-01-01</td>\n",
       "    </tr>\n",
       "    <tr>\n",
       "      <th>4</th>\n",
       "      <td>1_HARDERSFIELD_72</td>\n",
       "      <td>1</td>\n",
       "      <td>HARDERSFIELD</td>\n",
       "      <td>72</td>\n",
       "      <td>No. 3 London Dry Gin</td>\n",
       "      <td>750mL</td>\n",
       "      <td>6</td>\n",
       "      <td>34.99</td>\n",
       "      <td>2016-01-01</td>\n",
       "    </tr>\n",
       "  </tbody>\n",
       "</table>\n",
       "</div>"
      ],
      "text/plain": [
       "         InventoryId  Store          City  Brand                  Description  \\\n",
       "0  1_HARDERSFIELD_58      1  HARDERSFIELD     58  Gekkeikan Black & Gold Sake   \n",
       "1  1_HARDERSFIELD_60      1  HARDERSFIELD     60       Canadian Club 1858 VAP   \n",
       "2  1_HARDERSFIELD_62      1  HARDERSFIELD     62     Herradura Silver Tequila   \n",
       "3  1_HARDERSFIELD_63      1  HARDERSFIELD     63   Herradura Reposado Tequila   \n",
       "4  1_HARDERSFIELD_72      1  HARDERSFIELD     72         No. 3 London Dry Gin   \n",
       "\n",
       "    Size  onHand  Price   startDate  \n",
       "0  750mL       8  12.99  2016-01-01  \n",
       "1  750mL       7  10.99  2016-01-01  \n",
       "2  750mL       6  36.99  2016-01-01  \n",
       "3  750mL       3  38.99  2016-01-01  \n",
       "4  750mL       6  34.99  2016-01-01  "
      ]
     },
     "execution_count": 9,
     "metadata": {},
     "output_type": "execute_result"
    }
   ],
   "source": [
    "df_BegInvFINAL.head()"
   ]
  },
  {
   "cell_type": "code",
   "execution_count": 10,
   "metadata": {},
   "outputs": [
    {
     "data": {
      "text/html": [
       "<div>\n",
       "<style scoped>\n",
       "    .dataframe tbody tr th:only-of-type {\n",
       "        vertical-align: middle;\n",
       "    }\n",
       "\n",
       "    .dataframe tbody tr th {\n",
       "        vertical-align: top;\n",
       "    }\n",
       "\n",
       "    .dataframe thead th {\n",
       "        text-align: right;\n",
       "    }\n",
       "</style>\n",
       "<table border=\"1\" class=\"dataframe\">\n",
       "  <thead>\n",
       "    <tr style=\"text-align: right;\">\n",
       "      <th></th>\n",
       "      <th>InventoryId</th>\n",
       "      <th>Store</th>\n",
       "      <th>City</th>\n",
       "      <th>Brand</th>\n",
       "      <th>Description</th>\n",
       "      <th>Size</th>\n",
       "      <th>onHand</th>\n",
       "      <th>Price</th>\n",
       "      <th>endDate</th>\n",
       "    </tr>\n",
       "  </thead>\n",
       "  <tbody>\n",
       "    <tr>\n",
       "      <th>0</th>\n",
       "      <td>1_HARDERSFIELD_58</td>\n",
       "      <td>1</td>\n",
       "      <td>HARDERSFIELD</td>\n",
       "      <td>58</td>\n",
       "      <td>Gekkeikan Black &amp; Gold Sake</td>\n",
       "      <td>750mL</td>\n",
       "      <td>11</td>\n",
       "      <td>12.99</td>\n",
       "      <td>2016-12-31</td>\n",
       "    </tr>\n",
       "    <tr>\n",
       "      <th>1</th>\n",
       "      <td>1_HARDERSFIELD_62</td>\n",
       "      <td>1</td>\n",
       "      <td>HARDERSFIELD</td>\n",
       "      <td>62</td>\n",
       "      <td>Herradura Silver Tequila</td>\n",
       "      <td>750mL</td>\n",
       "      <td>7</td>\n",
       "      <td>36.99</td>\n",
       "      <td>2016-12-31</td>\n",
       "    </tr>\n",
       "    <tr>\n",
       "      <th>2</th>\n",
       "      <td>1_HARDERSFIELD_63</td>\n",
       "      <td>1</td>\n",
       "      <td>HARDERSFIELD</td>\n",
       "      <td>63</td>\n",
       "      <td>Herradura Reposado Tequila</td>\n",
       "      <td>750mL</td>\n",
       "      <td>7</td>\n",
       "      <td>38.99</td>\n",
       "      <td>2016-12-31</td>\n",
       "    </tr>\n",
       "    <tr>\n",
       "      <th>3</th>\n",
       "      <td>1_HARDERSFIELD_72</td>\n",
       "      <td>1</td>\n",
       "      <td>HARDERSFIELD</td>\n",
       "      <td>72</td>\n",
       "      <td>No. 3 London Dry Gin</td>\n",
       "      <td>750mL</td>\n",
       "      <td>4</td>\n",
       "      <td>34.99</td>\n",
       "      <td>2016-12-31</td>\n",
       "    </tr>\n",
       "    <tr>\n",
       "      <th>4</th>\n",
       "      <td>1_HARDERSFIELD_75</td>\n",
       "      <td>1</td>\n",
       "      <td>HARDERSFIELD</td>\n",
       "      <td>75</td>\n",
       "      <td>Three Olives Tomato Vodka</td>\n",
       "      <td>750mL</td>\n",
       "      <td>7</td>\n",
       "      <td>14.99</td>\n",
       "      <td>2016-12-31</td>\n",
       "    </tr>\n",
       "  </tbody>\n",
       "</table>\n",
       "</div>"
      ],
      "text/plain": [
       "         InventoryId  Store          City  Brand                  Description  \\\n",
       "0  1_HARDERSFIELD_58      1  HARDERSFIELD     58  Gekkeikan Black & Gold Sake   \n",
       "1  1_HARDERSFIELD_62      1  HARDERSFIELD     62     Herradura Silver Tequila   \n",
       "2  1_HARDERSFIELD_63      1  HARDERSFIELD     63   Herradura Reposado Tequila   \n",
       "3  1_HARDERSFIELD_72      1  HARDERSFIELD     72         No. 3 London Dry Gin   \n",
       "4  1_HARDERSFIELD_75      1  HARDERSFIELD     75    Three Olives Tomato Vodka   \n",
       "\n",
       "    Size  onHand  Price     endDate  \n",
       "0  750mL      11  12.99  2016-12-31  \n",
       "1  750mL       7  36.99  2016-12-31  \n",
       "2  750mL       7  38.99  2016-12-31  \n",
       "3  750mL       4  34.99  2016-12-31  \n",
       "4  750mL       7  14.99  2016-12-31  "
      ]
     },
     "execution_count": 10,
     "metadata": {},
     "output_type": "execute_result"
    }
   ],
   "source": [
    "df_EndInvFINAL.head()"
   ]
  },
  {
   "cell_type": "markdown",
   "metadata": {},
   "source": [
    "## Conocemos los data frames"
   ]
  },
  {
   "cell_type": "code",
   "execution_count": 11,
   "metadata": {},
   "outputs": [
    {
     "name": "stdout",
     "output_type": "stream",
     "text": [
      "Registros: 206529\n",
      "Columnas: 9\n"
     ]
    }
   ],
   "source": [
    "# Verificar la cantidad de registros y columnas\n",
    "print(f\"Registros: {df_BegInvFINAL.shape[0]}\")\n",
    "print(f\"Columnas: {df_BegInvFINAL.shape[1]}\")"
   ]
  },
  {
   "cell_type": "code",
   "execution_count": 12,
   "metadata": {},
   "outputs": [
    {
     "name": "stdout",
     "output_type": "stream",
     "text": [
      "Registros: 224489\n",
      "Columnas: 9\n"
     ]
    }
   ],
   "source": [
    "# Verificar la cantidad de registros y columnas\n",
    "print(f\"Registros: {df_EndInvFINAL.shape[0]}\")\n",
    "print(f\"Columnas: {df_EndInvFINAL.shape[1]}\")"
   ]
  },
  {
   "cell_type": "code",
   "execution_count": 13,
   "metadata": {},
   "outputs": [
    {
     "name": "stdout",
     "output_type": "stream",
     "text": [
      "<class 'pandas.core.frame.DataFrame'>\n",
      "RangeIndex: 206529 entries, 0 to 206528\n",
      "Data columns (total 9 columns):\n",
      " #   Column       Non-Null Count   Dtype  \n",
      "---  ------       --------------   -----  \n",
      " 0   InventoryId  206529 non-null  object \n",
      " 1   Store        206529 non-null  int64  \n",
      " 2   City         206529 non-null  object \n",
      " 3   Brand        206529 non-null  int64  \n",
      " 4   Description  206529 non-null  object \n",
      " 5   Size         206529 non-null  object \n",
      " 6   onHand       206529 non-null  int64  \n",
      " 7   Price        206529 non-null  float64\n",
      " 8   startDate    206529 non-null  object \n",
      "dtypes: float64(1), int64(3), object(5)\n",
      "memory usage: 14.2+ MB\n"
     ]
    }
   ],
   "source": [
    "df_BegInvFINAL.info()"
   ]
  },
  {
   "cell_type": "code",
   "execution_count": 14,
   "metadata": {},
   "outputs": [
    {
     "name": "stdout",
     "output_type": "stream",
     "text": [
      "<class 'pandas.core.frame.DataFrame'>\n",
      "RangeIndex: 224489 entries, 0 to 224488\n",
      "Data columns (total 9 columns):\n",
      " #   Column       Non-Null Count   Dtype  \n",
      "---  ------       --------------   -----  \n",
      " 0   InventoryId  224489 non-null  object \n",
      " 1   Store        224489 non-null  int64  \n",
      " 2   City         223205 non-null  object \n",
      " 3   Brand        224489 non-null  int64  \n",
      " 4   Description  224489 non-null  object \n",
      " 5   Size         224489 non-null  object \n",
      " 6   onHand       224489 non-null  int64  \n",
      " 7   Price        224489 non-null  float64\n",
      " 8   endDate      224489 non-null  object \n",
      "dtypes: float64(1), int64(3), object(5)\n",
      "memory usage: 15.4+ MB\n"
     ]
    }
   ],
   "source": [
    "df_EndInvFINAL.info()"
   ]
  },
  {
   "cell_type": "code",
   "execution_count": 15,
   "metadata": {},
   "outputs": [
    {
     "data": {
      "text/plain": [
       "Series([], dtype: int64)"
      ]
     },
     "execution_count": 15,
     "metadata": {},
     "output_type": "execute_result"
    }
   ],
   "source": [
    "# Vemos que columnas tienen nulos\n",
    "df_BegInvFINAL.isnull().sum()[df_BegInvFINAL.isnull().sum()>0]"
   ]
  },
  {
   "cell_type": "code",
   "execution_count": 16,
   "metadata": {},
   "outputs": [
    {
     "data": {
      "text/plain": [
       "City    1284\n",
       "dtype: int64"
      ]
     },
     "execution_count": 16,
     "metadata": {},
     "output_type": "execute_result"
    }
   ],
   "source": [
    "# Vemos que columnas tienen nulos\n",
    "df_EndInvFINAL.isnull().sum()[df_EndInvFINAL.isnull().sum()>0]"
   ]
  },
  {
   "cell_type": "code",
   "execution_count": 17,
   "metadata": {},
   "outputs": [
    {
     "data": {
      "text/plain": [
       "InventoryId    0\n",
       "Store          0\n",
       "City           0\n",
       "Brand          0\n",
       "Description    0\n",
       "Size           0\n",
       "onHand         0\n",
       "Price          0\n",
       "startDate      0\n",
       "dtype: int64"
      ]
     },
     "execution_count": 17,
     "metadata": {},
     "output_type": "execute_result"
    }
   ],
   "source": [
    "#Confirmamos los nulos de cada columna\n",
    "df_BegInvFINAL.isnull().sum()"
   ]
  },
  {
   "cell_type": "markdown",
   "metadata": {},
   "source": [
    "Podemos concluir que df_BegInvFINA no tiene valores nulos."
   ]
  },
  {
   "cell_type": "code",
   "execution_count": 18,
   "metadata": {},
   "outputs": [
    {
     "data": {
      "text/plain": [
       "InventoryId       0\n",
       "Store             0\n",
       "City           1284\n",
       "Brand             0\n",
       "Description       0\n",
       "Size              0\n",
       "onHand            0\n",
       "Price             0\n",
       "endDate           0\n",
       "dtype: int64"
      ]
     },
     "execution_count": 18,
     "metadata": {},
     "output_type": "execute_result"
    }
   ],
   "source": [
    "#Confirmamos los nulos de cada columna\n",
    "df_EndInvFINAL.isnull().sum()"
   ]
  },
  {
   "cell_type": "markdown",
   "metadata": {},
   "source": [
    "Podemos concluir que df_EndInvFINAL tiene valores nulos, solo en la columna City."
   ]
  },
  {
   "cell_type": "markdown",
   "metadata": {},
   "source": [
    "#### Exploramos los datos antes de tomar una decision sobre que hacer con los nulos"
   ]
  },
  {
   "cell_type": "code",
   "execution_count": 19,
   "metadata": {},
   "outputs": [
    {
     "name": "stdout",
     "output_type": "stream",
     "text": [
      "InventoryId\n",
      "count                 206529\n",
      "unique                206529\n",
      "top       79_BALLYMENA_90089\n",
      "freq                       1\n",
      "Name: InventoryId, dtype: object\n",
      "--------------------------------\n",
      "Store\n",
      "count    206529.000000\n",
      "mean         42.122457\n",
      "std          23.191393\n",
      "min           1.000000\n",
      "25%          22.000000\n",
      "50%          42.000000\n",
      "75%          64.000000\n",
      "max          79.000000\n",
      "Name: Store, dtype: float64\n",
      "--------------------------------\n",
      "City\n",
      "count        206529\n",
      "unique           67\n",
      "top       MOUNTMEND\n",
      "freq          14264\n",
      "Name: City, dtype: object\n",
      "--------------------------------\n",
      "Brand\n",
      "count    206529.000000\n",
      "mean      13761.482320\n",
      "std       13059.429355\n",
      "min          58.000000\n",
      "25%        3746.000000\n",
      "50%        8010.000000\n",
      "75%       22143.000000\n",
      "max       90090.000000\n",
      "Name: Brand, dtype: float64\n",
      "--------------------------------\n",
      "Description\n",
      "count                   206529\n",
      "unique                    7291\n",
      "top       Jagermeister Liqueur\n",
      "freq                       459\n",
      "Name: Description, dtype: object\n",
      "--------------------------------\n",
      "Size\n",
      "count     206529\n",
      "unique        41\n",
      "top        750mL\n",
      "freq      144514\n",
      "Name: Size, dtype: object\n",
      "--------------------------------\n",
      "onHand\n",
      "count    206529.000000\n",
      "mean         20.429455\n",
      "std          31.467342\n",
      "min           0.000000\n",
      "25%           7.000000\n",
      "50%          12.000000\n",
      "75%          21.000000\n",
      "max        1251.000000\n",
      "Name: onHand, dtype: float64\n",
      "--------------------------------\n",
      "Price\n",
      "count    206529.000000\n",
      "mean         22.253910\n",
      "std          70.178964\n",
      "min           0.000000\n",
      "25%           9.990000\n",
      "50%          14.990000\n",
      "75%          21.990000\n",
      "max       13999.900000\n",
      "Name: Price, dtype: float64\n",
      "--------------------------------\n",
      "startDate\n",
      "count         206529\n",
      "unique             1\n",
      "top       2016-01-01\n",
      "freq          206529\n",
      "Name: startDate, dtype: object\n",
      "--------------------------------\n"
     ]
    }
   ],
   "source": [
    "# Ver información de las columnas\n",
    "for columna in df_BegInvFINAL.columns:\n",
    "    print(columna)\n",
    "    print(df_BegInvFINAL[columna].describe())\n",
    "    print('--------------------------------')"
   ]
  },
  {
   "cell_type": "code",
   "execution_count": 20,
   "metadata": {},
   "outputs": [
    {
     "name": "stdout",
     "output_type": "stream",
     "text": [
      "InventoryId\n",
      "count                224489\n",
      "unique               224489\n",
      "top       81_PEMBROKE_90604\n",
      "freq                      1\n",
      "Name: InventoryId, dtype: object\n",
      "--------------------------------\n",
      "Store\n",
      "count    224489.000000\n",
      "mean         43.505740\n",
      "std          23.326415\n",
      "min           1.000000\n",
      "25%          23.000000\n",
      "50%          44.000000\n",
      "75%          66.000000\n",
      "max          81.000000\n",
      "Name: Store, dtype: float64\n",
      "--------------------------------\n",
      "City\n",
      "count        223205\n",
      "unique           67\n",
      "top       MOUNTMEND\n",
      "freq          18065\n",
      "Name: City, dtype: object\n",
      "--------------------------------\n",
      "Brand\n",
      "count    224489.000000\n",
      "mean      14356.370513\n",
      "std       13118.467851\n",
      "min          58.000000\n",
      "25%        3798.000000\n",
      "50%        8259.000000\n",
      "75%       23965.000000\n",
      "max       90631.000000\n",
      "Name: Brand, dtype: float64\n",
      "--------------------------------\n",
      "Description\n",
      "count                   224489\n",
      "unique                    8732\n",
      "top       Jagermeister Liqueur\n",
      "freq                       462\n",
      "Name: Description, dtype: object\n",
      "--------------------------------\n",
      "Size\n",
      "count     224489\n",
      "unique        47\n",
      "top        750mL\n",
      "freq      158227\n",
      "Name: Size, dtype: object\n",
      "--------------------------------\n",
      "onHand\n",
      "count    224489.000000\n",
      "mean         21.763988\n",
      "std          37.233576\n",
      "min           0.000000\n",
      "25%           7.000000\n",
      "50%          12.000000\n",
      "75%          22.000000\n",
      "max        3676.000000\n",
      "Name: onHand, dtype: float64\n",
      "--------------------------------\n",
      "Price\n",
      "count    224489.000000\n",
      "mean         23.585583\n",
      "std          79.202775\n",
      "min           0.490000\n",
      "25%           9.990000\n",
      "50%          14.990000\n",
      "75%          23.490000\n",
      "max       13999.900000\n",
      "Name: Price, dtype: float64\n",
      "--------------------------------\n",
      "endDate\n",
      "count         224489\n",
      "unique             1\n",
      "top       2016-12-31\n",
      "freq          224489\n",
      "Name: endDate, dtype: object\n",
      "--------------------------------\n"
     ]
    }
   ],
   "source": [
    "# Ver información de las columnas\n",
    "for columna in df_EndInvFINAL.columns:\n",
    "    print(columna)\n",
    "    print(df_EndInvFINAL[columna].describe())\n",
    "    print('--------------------------------')"
   ]
  },
  {
   "cell_type": "markdown",
   "metadata": {},
   "source": [
    "### Buscamos determinar si cada codigo de Store corresponde a una City. Es decir si cada tienda corresponde a un punto especifico (lo que nos lleva a concluir que fisicamente no puede estar en dos ciudades al tiempo). En otras palabras es una tienda y no una cadena."
   ]
  },
  {
   "cell_type": "code",
   "execution_count": 21,
   "metadata": {},
   "outputs": [
    {
     "data": {
      "text/html": [
       "<div>\n",
       "<style scoped>\n",
       "    .dataframe tbody tr th:only-of-type {\n",
       "        vertical-align: middle;\n",
       "    }\n",
       "\n",
       "    .dataframe tbody tr th {\n",
       "        vertical-align: top;\n",
       "    }\n",
       "\n",
       "    .dataframe thead th {\n",
       "        text-align: right;\n",
       "    }\n",
       "</style>\n",
       "<table border=\"1\" class=\"dataframe\">\n",
       "  <thead>\n",
       "    <tr style=\"text-align: right;\">\n",
       "      <th></th>\n",
       "      <th>Store</th>\n",
       "      <th>City</th>\n",
       "      <th>Brand</th>\n",
       "    </tr>\n",
       "  </thead>\n",
       "  <tbody>\n",
       "    <tr>\n",
       "      <th>0</th>\n",
       "      <td>1</td>\n",
       "      <td>HARDERSFIELD</td>\n",
       "      <td>3255</td>\n",
       "    </tr>\n",
       "    <tr>\n",
       "      <th>1</th>\n",
       "      <td>2</td>\n",
       "      <td>ASHBORNE</td>\n",
       "      <td>2689</td>\n",
       "    </tr>\n",
       "    <tr>\n",
       "      <th>2</th>\n",
       "      <td>3</td>\n",
       "      <td>HORNSEY</td>\n",
       "      <td>481</td>\n",
       "    </tr>\n",
       "    <tr>\n",
       "      <th>3</th>\n",
       "      <td>4</td>\n",
       "      <td>EANVERNESS</td>\n",
       "      <td>2871</td>\n",
       "    </tr>\n",
       "    <tr>\n",
       "      <th>4</th>\n",
       "      <td>5</td>\n",
       "      <td>SUTTON</td>\n",
       "      <td>1467</td>\n",
       "    </tr>\n",
       "    <tr>\n",
       "      <th>...</th>\n",
       "      <td>...</td>\n",
       "      <td>...</td>\n",
       "      <td>...</td>\n",
       "    </tr>\n",
       "    <tr>\n",
       "      <th>74</th>\n",
       "      <td>75</td>\n",
       "      <td>BARNCOMBE</td>\n",
       "      <td>2141</td>\n",
       "    </tr>\n",
       "    <tr>\n",
       "      <th>75</th>\n",
       "      <td>76</td>\n",
       "      <td>DONCASTER</td>\n",
       "      <td>5115</td>\n",
       "    </tr>\n",
       "    <tr>\n",
       "      <th>76</th>\n",
       "      <td>77</td>\n",
       "      <td>TAMWORTH</td>\n",
       "      <td>2465</td>\n",
       "    </tr>\n",
       "    <tr>\n",
       "      <th>77</th>\n",
       "      <td>78</td>\n",
       "      <td>EASTHAVEN</td>\n",
       "      <td>1225</td>\n",
       "    </tr>\n",
       "    <tr>\n",
       "      <th>78</th>\n",
       "      <td>79</td>\n",
       "      <td>BALLYMENA</td>\n",
       "      <td>3166</td>\n",
       "    </tr>\n",
       "  </tbody>\n",
       "</table>\n",
       "<p>79 rows × 3 columns</p>\n",
       "</div>"
      ],
      "text/plain": [
       "    Store          City  Brand\n",
       "0       1  HARDERSFIELD   3255\n",
       "1       2      ASHBORNE   2689\n",
       "2       3       HORNSEY    481\n",
       "3       4    EANVERNESS   2871\n",
       "4       5        SUTTON   1467\n",
       "..    ...           ...    ...\n",
       "74     75     BARNCOMBE   2141\n",
       "75     76     DONCASTER   5115\n",
       "76     77      TAMWORTH   2465\n",
       "77     78     EASTHAVEN   1225\n",
       "78     79     BALLYMENA   3166\n",
       "\n",
       "[79 rows x 3 columns]"
      ]
     },
     "execution_count": 21,
     "metadata": {},
     "output_type": "execute_result"
    }
   ],
   "source": [
    "# Realizo un nuevo DataFrame agrupado por 'Store' y por 'City'. La finalidad es determinar si cada numero de Store le corresponde una City.\n",
    "StoreAndCity=df_BegInvFINAL.groupby(['Store','City'])[['Brand']].count().reset_index()\n",
    "StoreAndCity"
   ]
  },
  {
   "cell_type": "markdown",
   "metadata": {},
   "source": [
    "Podemos determinar que cada Store esta ubicado en una ciudad determinada"
   ]
  },
  {
   "cell_type": "code",
   "execution_count": 36,
   "metadata": {},
   "outputs": [
    {
     "data": {
      "text/html": [
       "<div>\n",
       "<style scoped>\n",
       "    .dataframe tbody tr th:only-of-type {\n",
       "        vertical-align: middle;\n",
       "    }\n",
       "\n",
       "    .dataframe tbody tr th {\n",
       "        vertical-align: top;\n",
       "    }\n",
       "\n",
       "    .dataframe thead th {\n",
       "        text-align: right;\n",
       "    }\n",
       "</style>\n",
       "<table border=\"1\" class=\"dataframe\">\n",
       "  <thead>\n",
       "    <tr style=\"text-align: right;\">\n",
       "      <th></th>\n",
       "      <th>Store</th>\n",
       "      <th>City</th>\n",
       "      <th>Brand</th>\n",
       "    </tr>\n",
       "  </thead>\n",
       "  <tbody>\n",
       "    <tr>\n",
       "      <th>0</th>\n",
       "      <td>1</td>\n",
       "      <td>HARDERSFIELD</td>\n",
       "      <td>3192</td>\n",
       "    </tr>\n",
       "    <tr>\n",
       "      <th>1</th>\n",
       "      <td>2</td>\n",
       "      <td>ASHBORNE</td>\n",
       "      <td>2719</td>\n",
       "    </tr>\n",
       "    <tr>\n",
       "      <th>2</th>\n",
       "      <td>3</td>\n",
       "      <td>HORNSEY</td>\n",
       "      <td>463</td>\n",
       "    </tr>\n",
       "    <tr>\n",
       "      <th>3</th>\n",
       "      <td>4</td>\n",
       "      <td>EANVERNESS</td>\n",
       "      <td>2851</td>\n",
       "    </tr>\n",
       "    <tr>\n",
       "      <th>4</th>\n",
       "      <td>5</td>\n",
       "      <td>SUTTON</td>\n",
       "      <td>1506</td>\n",
       "    </tr>\n",
       "    <tr>\n",
       "      <th>...</th>\n",
       "      <td>...</td>\n",
       "      <td>...</td>\n",
       "      <td>...</td>\n",
       "    </tr>\n",
       "    <tr>\n",
       "      <th>75</th>\n",
       "      <td>76</td>\n",
       "      <td>DONCASTER</td>\n",
       "      <td>5120</td>\n",
       "    </tr>\n",
       "    <tr>\n",
       "      <th>76</th>\n",
       "      <td>77</td>\n",
       "      <td>TAMWORTH</td>\n",
       "      <td>2512</td>\n",
       "    </tr>\n",
       "    <tr>\n",
       "      <th>77</th>\n",
       "      <td>78</td>\n",
       "      <td>EASTHAVEN</td>\n",
       "      <td>1762</td>\n",
       "    </tr>\n",
       "    <tr>\n",
       "      <th>78</th>\n",
       "      <td>79</td>\n",
       "      <td>BALLYMENA</td>\n",
       "      <td>3904</td>\n",
       "    </tr>\n",
       "    <tr>\n",
       "      <th>79</th>\n",
       "      <td>81</td>\n",
       "      <td>PEMBROKE</td>\n",
       "      <td>3589</td>\n",
       "    </tr>\n",
       "  </tbody>\n",
       "</table>\n",
       "<p>80 rows × 3 columns</p>\n",
       "</div>"
      ],
      "text/plain": [
       "    Store          City  Brand\n",
       "0       1  HARDERSFIELD   3192\n",
       "1       2      ASHBORNE   2719\n",
       "2       3       HORNSEY    463\n",
       "3       4    EANVERNESS   2851\n",
       "4       5        SUTTON   1506\n",
       "..    ...           ...    ...\n",
       "75     76     DONCASTER   5120\n",
       "76     77      TAMWORTH   2512\n",
       "77     78     EASTHAVEN   1762\n",
       "78     79     BALLYMENA   3904\n",
       "79     81      PEMBROKE   3589\n",
       "\n",
       "[80 rows x 3 columns]"
      ]
     },
     "execution_count": 36,
     "metadata": {},
     "output_type": "execute_result"
    }
   ],
   "source": [
    "# Determinado que a cada Store le corresponde una unica City, analizo cuales Store no tienen City\n",
    "# Realizo un nuevo DataFrame agrupado por 'Store' y por 'City'.\n",
    "df_EndInvFINAL.groupby(['Store','City'])[['Brand']].count().reset_index()"
   ]
  },
  {
   "cell_type": "markdown",
   "metadata": {},
   "source": [
    "Al corroborar que el codigo de Store hace referencia a una tienda y no una cadena de tiendas, buscamos determinar que tiendas tienen valores nulos en City"
   ]
  },
  {
   "cell_type": "code",
   "execution_count": 23,
   "metadata": {},
   "outputs": [
    {
     "data": {
      "text/plain": [
       "Store\n",
       "46    1284\n",
       "dtype: int64"
      ]
     },
     "execution_count": 23,
     "metadata": {},
     "output_type": "execute_result"
    }
   ],
   "source": [
    "# Determino cuantos nulos de City hay agrupados por City\n",
    "df_EndInvFINAL[df_EndInvFINAL['City'].isnull()].groupby('Store').size()\n"
   ]
  },
  {
   "cell_type": "markdown",
   "metadata": {},
   "source": [
    "Se puede terminar que la unica Store con City nulos es la 46"
   ]
  },
  {
   "cell_type": "markdown",
   "metadata": {},
   "source": [
    "Procedemos a detirminar en que ciudad (City) esta ubicada la tienda 46. Para eso utilizamos el archivo StoreAndCity resultante del goupby de df_BegInvFINAL, el cual no tiene valores nulos."
   ]
  },
  {
   "cell_type": "code",
   "execution_count": 24,
   "metadata": {},
   "outputs": [
    {
     "data": {
      "text/html": [
       "<div>\n",
       "<style scoped>\n",
       "    .dataframe tbody tr th:only-of-type {\n",
       "        vertical-align: middle;\n",
       "    }\n",
       "\n",
       "    .dataframe tbody tr th {\n",
       "        vertical-align: top;\n",
       "    }\n",
       "\n",
       "    .dataframe thead th {\n",
       "        text-align: right;\n",
       "    }\n",
       "</style>\n",
       "<table border=\"1\" class=\"dataframe\">\n",
       "  <thead>\n",
       "    <tr style=\"text-align: right;\">\n",
       "      <th></th>\n",
       "      <th>Store</th>\n",
       "      <th>City</th>\n",
       "      <th>Brand</th>\n",
       "    </tr>\n",
       "  </thead>\n",
       "  <tbody>\n",
       "    <tr>\n",
       "      <th>45</th>\n",
       "      <td>46</td>\n",
       "      <td>TYWARDREATH</td>\n",
       "      <td>1880</td>\n",
       "    </tr>\n",
       "  </tbody>\n",
       "</table>\n",
       "</div>"
      ],
      "text/plain": [
       "    Store         City  Brand\n",
       "45     46  TYWARDREATH   1880"
      ]
     },
     "execution_count": 24,
     "metadata": {},
     "output_type": "execute_result"
    }
   ],
   "source": [
    "# Filtrar el resultado para Store igual a 46, para determinar el nombre de la City\n",
    "StoreAndCity[StoreAndCity['Store'] == 46]\n"
   ]
  },
  {
   "cell_type": "markdown",
   "metadata": {},
   "source": [
    "Determinada la City vacia, hacemos el correspondiente reemplazo"
   ]
  },
  {
   "cell_type": "code",
   "execution_count": 25,
   "metadata": {},
   "outputs": [],
   "source": [
    "df_EndInvFINAL.loc[(df_EndInvFINAL['Store'] == 46) & (df_EndInvFINAL['City'].isnull()), 'City'] = 'TYWARDREATH'\n"
   ]
  },
  {
   "cell_type": "markdown",
   "metadata": {},
   "source": [
    "Verificamos que no queden nulos."
   ]
  },
  {
   "cell_type": "code",
   "execution_count": 26,
   "metadata": {},
   "outputs": [
    {
     "data": {
      "text/plain": [
       "InventoryId    0\n",
       "Store          0\n",
       "City           0\n",
       "Brand          0\n",
       "Description    0\n",
       "Size           0\n",
       "onHand         0\n",
       "Price          0\n",
       "endDate        0\n",
       "dtype: int64"
      ]
     },
     "execution_count": 26,
     "metadata": {},
     "output_type": "execute_result"
    }
   ],
   "source": [
    "#Verificamos si todos siguen existiendo nulos\n",
    "df_EndInvFINAL.isnull().sum()"
   ]
  },
  {
   "cell_type": "markdown",
   "metadata": {},
   "source": [
    "Verificamos el tipo de dato de los archivos con fecha"
   ]
  },
  {
   "cell_type": "code",
   "execution_count": 27,
   "metadata": {},
   "outputs": [
    {
     "data": {
      "text/plain": [
       "count         206529\n",
       "unique             1\n",
       "top       2016-01-01\n",
       "freq          206529\n",
       "Name: startDate, dtype: object"
      ]
     },
     "execution_count": 27,
     "metadata": {},
     "output_type": "execute_result"
    }
   ],
   "source": [
    "df_BegInvFINAL['startDate'].describe()"
   ]
  },
  {
   "cell_type": "code",
   "execution_count": 28,
   "metadata": {},
   "outputs": [],
   "source": [
    "# Ponemos como índice la columna \"startDate\" para poder hacer un análisis de los datos a lo largo del tiempo.\n",
    "df_BegInvFINAL['startDate'] = pd.to_datetime(df_BegInvFINAL['startDate'])\n",
    "df_BegInvFINAL.set_index('startDate', inplace=True)"
   ]
  },
  {
   "cell_type": "code",
   "execution_count": 29,
   "metadata": {},
   "outputs": [
    {
     "data": {
      "text/html": [
       "<div>\n",
       "<style scoped>\n",
       "    .dataframe tbody tr th:only-of-type {\n",
       "        vertical-align: middle;\n",
       "    }\n",
       "\n",
       "    .dataframe tbody tr th {\n",
       "        vertical-align: top;\n",
       "    }\n",
       "\n",
       "    .dataframe thead th {\n",
       "        text-align: right;\n",
       "    }\n",
       "</style>\n",
       "<table border=\"1\" class=\"dataframe\">\n",
       "  <thead>\n",
       "    <tr style=\"text-align: right;\">\n",
       "      <th></th>\n",
       "      <th>InventoryId</th>\n",
       "      <th>Store</th>\n",
       "      <th>City</th>\n",
       "      <th>Brand</th>\n",
       "      <th>Description</th>\n",
       "      <th>Size</th>\n",
       "      <th>onHand</th>\n",
       "      <th>Price</th>\n",
       "    </tr>\n",
       "    <tr>\n",
       "      <th>startDate</th>\n",
       "      <th></th>\n",
       "      <th></th>\n",
       "      <th></th>\n",
       "      <th></th>\n",
       "      <th></th>\n",
       "      <th></th>\n",
       "      <th></th>\n",
       "      <th></th>\n",
       "    </tr>\n",
       "  </thead>\n",
       "  <tbody>\n",
       "    <tr>\n",
       "      <th>2016-01-01</th>\n",
       "      <td>1_HARDERSFIELD_58</td>\n",
       "      <td>1</td>\n",
       "      <td>HARDERSFIELD</td>\n",
       "      <td>58</td>\n",
       "      <td>Gekkeikan Black &amp; Gold Sake</td>\n",
       "      <td>750mL</td>\n",
       "      <td>8</td>\n",
       "      <td>12.99</td>\n",
       "    </tr>\n",
       "    <tr>\n",
       "      <th>2016-01-01</th>\n",
       "      <td>1_HARDERSFIELD_60</td>\n",
       "      <td>1</td>\n",
       "      <td>HARDERSFIELD</td>\n",
       "      <td>60</td>\n",
       "      <td>Canadian Club 1858 VAP</td>\n",
       "      <td>750mL</td>\n",
       "      <td>7</td>\n",
       "      <td>10.99</td>\n",
       "    </tr>\n",
       "    <tr>\n",
       "      <th>2016-01-01</th>\n",
       "      <td>1_HARDERSFIELD_62</td>\n",
       "      <td>1</td>\n",
       "      <td>HARDERSFIELD</td>\n",
       "      <td>62</td>\n",
       "      <td>Herradura Silver Tequila</td>\n",
       "      <td>750mL</td>\n",
       "      <td>6</td>\n",
       "      <td>36.99</td>\n",
       "    </tr>\n",
       "    <tr>\n",
       "      <th>2016-01-01</th>\n",
       "      <td>1_HARDERSFIELD_63</td>\n",
       "      <td>1</td>\n",
       "      <td>HARDERSFIELD</td>\n",
       "      <td>63</td>\n",
       "      <td>Herradura Reposado Tequila</td>\n",
       "      <td>750mL</td>\n",
       "      <td>3</td>\n",
       "      <td>38.99</td>\n",
       "    </tr>\n",
       "    <tr>\n",
       "      <th>2016-01-01</th>\n",
       "      <td>1_HARDERSFIELD_72</td>\n",
       "      <td>1</td>\n",
       "      <td>HARDERSFIELD</td>\n",
       "      <td>72</td>\n",
       "      <td>No. 3 London Dry Gin</td>\n",
       "      <td>750mL</td>\n",
       "      <td>6</td>\n",
       "      <td>34.99</td>\n",
       "    </tr>\n",
       "  </tbody>\n",
       "</table>\n",
       "</div>"
      ],
      "text/plain": [
       "                  InventoryId  Store          City  Brand  \\\n",
       "startDate                                                   \n",
       "2016-01-01  1_HARDERSFIELD_58      1  HARDERSFIELD     58   \n",
       "2016-01-01  1_HARDERSFIELD_60      1  HARDERSFIELD     60   \n",
       "2016-01-01  1_HARDERSFIELD_62      1  HARDERSFIELD     62   \n",
       "2016-01-01  1_HARDERSFIELD_63      1  HARDERSFIELD     63   \n",
       "2016-01-01  1_HARDERSFIELD_72      1  HARDERSFIELD     72   \n",
       "\n",
       "                            Description   Size  onHand  Price  \n",
       "startDate                                                      \n",
       "2016-01-01  Gekkeikan Black & Gold Sake  750mL       8  12.99  \n",
       "2016-01-01       Canadian Club 1858 VAP  750mL       7  10.99  \n",
       "2016-01-01     Herradura Silver Tequila  750mL       6  36.99  \n",
       "2016-01-01   Herradura Reposado Tequila  750mL       3  38.99  \n",
       "2016-01-01         No. 3 London Dry Gin  750mL       6  34.99  "
      ]
     },
     "execution_count": 29,
     "metadata": {},
     "output_type": "execute_result"
    }
   ],
   "source": [
    "df_BegInvFINAL.head()"
   ]
  },
  {
   "cell_type": "code",
   "execution_count": 30,
   "metadata": {},
   "outputs": [
    {
     "data": {
      "text/plain": [
       "count         224489\n",
       "unique             1\n",
       "top       2016-12-31\n",
       "freq          224489\n",
       "Name: endDate, dtype: object"
      ]
     },
     "execution_count": 30,
     "metadata": {},
     "output_type": "execute_result"
    }
   ],
   "source": [
    "df_EndInvFINAL['endDate'].describe()"
   ]
  },
  {
   "cell_type": "code",
   "execution_count": 31,
   "metadata": {},
   "outputs": [],
   "source": [
    "# Ponemos como índice la columna \"startDate\" para poder hacer un análisis de los datos a lo largo del tiempo.\n",
    "df_EndInvFINAL['endDate'] = pd.to_datetime(df_EndInvFINAL['endDate'])\n",
    "df_EndInvFINAL.set_index('endDate', inplace=True)"
   ]
  },
  {
   "cell_type": "code",
   "execution_count": 32,
   "metadata": {},
   "outputs": [
    {
     "data": {
      "text/html": [
       "<div>\n",
       "<style scoped>\n",
       "    .dataframe tbody tr th:only-of-type {\n",
       "        vertical-align: middle;\n",
       "    }\n",
       "\n",
       "    .dataframe tbody tr th {\n",
       "        vertical-align: top;\n",
       "    }\n",
       "\n",
       "    .dataframe thead th {\n",
       "        text-align: right;\n",
       "    }\n",
       "</style>\n",
       "<table border=\"1\" class=\"dataframe\">\n",
       "  <thead>\n",
       "    <tr style=\"text-align: right;\">\n",
       "      <th></th>\n",
       "      <th>InventoryId</th>\n",
       "      <th>Store</th>\n",
       "      <th>City</th>\n",
       "      <th>Brand</th>\n",
       "      <th>Description</th>\n",
       "      <th>Size</th>\n",
       "      <th>onHand</th>\n",
       "      <th>Price</th>\n",
       "    </tr>\n",
       "    <tr>\n",
       "      <th>endDate</th>\n",
       "      <th></th>\n",
       "      <th></th>\n",
       "      <th></th>\n",
       "      <th></th>\n",
       "      <th></th>\n",
       "      <th></th>\n",
       "      <th></th>\n",
       "      <th></th>\n",
       "    </tr>\n",
       "  </thead>\n",
       "  <tbody>\n",
       "    <tr>\n",
       "      <th>2016-12-31</th>\n",
       "      <td>1_HARDERSFIELD_58</td>\n",
       "      <td>1</td>\n",
       "      <td>HARDERSFIELD</td>\n",
       "      <td>58</td>\n",
       "      <td>Gekkeikan Black &amp; Gold Sake</td>\n",
       "      <td>750mL</td>\n",
       "      <td>11</td>\n",
       "      <td>12.99</td>\n",
       "    </tr>\n",
       "    <tr>\n",
       "      <th>2016-12-31</th>\n",
       "      <td>1_HARDERSFIELD_62</td>\n",
       "      <td>1</td>\n",
       "      <td>HARDERSFIELD</td>\n",
       "      <td>62</td>\n",
       "      <td>Herradura Silver Tequila</td>\n",
       "      <td>750mL</td>\n",
       "      <td>7</td>\n",
       "      <td>36.99</td>\n",
       "    </tr>\n",
       "    <tr>\n",
       "      <th>2016-12-31</th>\n",
       "      <td>1_HARDERSFIELD_63</td>\n",
       "      <td>1</td>\n",
       "      <td>HARDERSFIELD</td>\n",
       "      <td>63</td>\n",
       "      <td>Herradura Reposado Tequila</td>\n",
       "      <td>750mL</td>\n",
       "      <td>7</td>\n",
       "      <td>38.99</td>\n",
       "    </tr>\n",
       "    <tr>\n",
       "      <th>2016-12-31</th>\n",
       "      <td>1_HARDERSFIELD_72</td>\n",
       "      <td>1</td>\n",
       "      <td>HARDERSFIELD</td>\n",
       "      <td>72</td>\n",
       "      <td>No. 3 London Dry Gin</td>\n",
       "      <td>750mL</td>\n",
       "      <td>4</td>\n",
       "      <td>34.99</td>\n",
       "    </tr>\n",
       "    <tr>\n",
       "      <th>2016-12-31</th>\n",
       "      <td>1_HARDERSFIELD_75</td>\n",
       "      <td>1</td>\n",
       "      <td>HARDERSFIELD</td>\n",
       "      <td>75</td>\n",
       "      <td>Three Olives Tomato Vodka</td>\n",
       "      <td>750mL</td>\n",
       "      <td>7</td>\n",
       "      <td>14.99</td>\n",
       "    </tr>\n",
       "  </tbody>\n",
       "</table>\n",
       "</div>"
      ],
      "text/plain": [
       "                  InventoryId  Store          City  Brand  \\\n",
       "endDate                                                     \n",
       "2016-12-31  1_HARDERSFIELD_58      1  HARDERSFIELD     58   \n",
       "2016-12-31  1_HARDERSFIELD_62      1  HARDERSFIELD     62   \n",
       "2016-12-31  1_HARDERSFIELD_63      1  HARDERSFIELD     63   \n",
       "2016-12-31  1_HARDERSFIELD_72      1  HARDERSFIELD     72   \n",
       "2016-12-31  1_HARDERSFIELD_75      1  HARDERSFIELD     75   \n",
       "\n",
       "                            Description   Size  onHand  Price  \n",
       "endDate                                                        \n",
       "2016-12-31  Gekkeikan Black & Gold Sake  750mL      11  12.99  \n",
       "2016-12-31     Herradura Silver Tequila  750mL       7  36.99  \n",
       "2016-12-31   Herradura Reposado Tequila  750mL       7  38.99  \n",
       "2016-12-31         No. 3 London Dry Gin  750mL       4  34.99  \n",
       "2016-12-31    Three Olives Tomato Vodka  750mL       7  14.99  "
      ]
     },
     "execution_count": 32,
     "metadata": {},
     "output_type": "execute_result"
    }
   ],
   "source": [
    "df_EndInvFINAL.head()"
   ]
  },
  {
   "cell_type": "markdown",
   "metadata": {},
   "source": [
    "Verificamos que 'InventoryId' sea un identificador unico en ambos data frame."
   ]
  },
  {
   "cell_type": "code",
   "execution_count": 33,
   "metadata": {},
   "outputs": [
    {
     "data": {
      "text/plain": [
       "count                 206529\n",
       "unique                206529\n",
       "top       79_BALLYMENA_90089\n",
       "freq                       1\n",
       "Name: InventoryId, dtype: object"
      ]
     },
     "execution_count": 33,
     "metadata": {},
     "output_type": "execute_result"
    }
   ],
   "source": [
    "df_BegInvFINAL['InventoryId'].describe()"
   ]
  },
  {
   "cell_type": "code",
   "execution_count": 34,
   "metadata": {},
   "outputs": [
    {
     "data": {
      "text/plain": [
       "count                224489\n",
       "unique               224489\n",
       "top       81_PEMBROKE_90604\n",
       "freq                      1\n",
       "Name: InventoryId, dtype: object"
      ]
     },
     "execution_count": 34,
     "metadata": {},
     "output_type": "execute_result"
    }
   ],
   "source": [
    "df_EndInvFINAL['InventoryId'].describe()"
   ]
  },
  {
   "cell_type": "markdown",
   "metadata": {},
   "source": [
    "Se puede determinar que son valores unicos"
   ]
  },
  {
   "cell_type": "markdown",
   "metadata": {},
   "source": [
    "#### Analizamos otras columnas para tomar algunas decisiones."
   ]
  },
  {
   "cell_type": "code",
   "execution_count": 37,
   "metadata": {},
   "outputs": [
    {
     "data": {
      "text/plain": [
       "count    206529.000000\n",
       "mean      13761.482320\n",
       "std       13059.429355\n",
       "min          58.000000\n",
       "25%        3746.000000\n",
       "50%        8010.000000\n",
       "75%       22143.000000\n",
       "max       90090.000000\n",
       "Name: Brand, dtype: float64"
      ]
     },
     "execution_count": 37,
     "metadata": {},
     "output_type": "execute_result"
    }
   ],
   "source": [
    "df_BegInvFINAL['Brand'].describe()"
   ]
  },
  {
   "cell_type": "code",
   "execution_count": 38,
   "metadata": {},
   "outputs": [
    {
     "data": {
      "text/plain": [
       "count    224489.000000\n",
       "mean      14356.370513\n",
       "std       13118.467851\n",
       "min          58.000000\n",
       "25%        3798.000000\n",
       "50%        8259.000000\n",
       "75%       23965.000000\n",
       "max       90631.000000\n",
       "Name: Brand, dtype: float64"
      ]
     },
     "execution_count": 38,
     "metadata": {},
     "output_type": "execute_result"
    }
   ],
   "source": [
    "df_EndInvFINAL['Brand'].describe()"
   ]
  },
  {
   "cell_type": "code",
   "execution_count": 40,
   "metadata": {},
   "outputs": [
    {
     "data": {
      "text/plain": [
       "8094"
      ]
     },
     "execution_count": 40,
     "metadata": {},
     "output_type": "execute_result"
    }
   ],
   "source": [
    "df_BegInvFINAL['Brand'].nunique()"
   ]
  },
  {
   "cell_type": "code",
   "execution_count": 39,
   "metadata": {},
   "outputs": [
    {
     "data": {
      "text/plain": [
       "9653"
      ]
     },
     "execution_count": 39,
     "metadata": {},
     "output_type": "execute_result"
    }
   ],
   "source": [
    "df_EndInvFINAL['Brand'].nunique()"
   ]
  },
  {
   "cell_type": "markdown",
   "metadata": {},
   "source": [
    "Se puede determinar que en el inventario inicial existe una menor variabilidad de porductos con respecto al inventario final"
   ]
  },
  {
   "cell_type": "code",
   "execution_count": 41,
   "metadata": {},
   "outputs": [
    {
     "data": {
      "text/plain": [
       "79"
      ]
     },
     "execution_count": 41,
     "metadata": {},
     "output_type": "execute_result"
    }
   ],
   "source": [
    "df_BegInvFINAL['Store'].nunique()"
   ]
  },
  {
   "cell_type": "code",
   "execution_count": 42,
   "metadata": {},
   "outputs": [
    {
     "data": {
      "text/plain": [
       "80"
      ]
     },
     "execution_count": 42,
     "metadata": {},
     "output_type": "execute_result"
    }
   ],
   "source": [
    "df_EndInvFINAL['Store'].nunique()"
   ]
  },
  {
   "cell_type": "markdown",
   "metadata": {},
   "source": [
    "Vemos que en el inventario inicial solo tenemos 79 tiendas operativas miemtras que en el final 80. Procedemos a determinar cual es la tienda adicional que nos aparece en el inventario final."
   ]
  },
  {
   "cell_type": "code",
   "execution_count": 43,
   "metadata": {},
   "outputs": [
    {
     "name": "stdout",
     "output_type": "stream",
     "text": [
      "Las 'Store' que están en df_EndInvFINAL pero no en df_BegInvFINAL son: {np.int64(81)}\n",
      "Las 'Store' que están en df_BegInvFINAL pero no en df_EndInvFINAL son: set()\n"
     ]
    }
   ],
   "source": [
    "# Obtener los valores únicos de 'Store' en cada DataFrame\n",
    "stores_beg = set(df_BegInvFINAL['Store'].unique())\n",
    "stores_end = set(df_EndInvFINAL['Store'].unique())\n",
    "\n",
    "# Determinar qué 'Store' está en df_EndInvFINAL pero no en df_BegInvFINAL\n",
    "stores_only_in_end = stores_end - stores_beg\n",
    "print(f\"Las 'Store' que están en df_EndInvFINAL pero no en df_BegInvFINAL son: {stores_only_in_end}\")\n",
    "\n",
    "# Determinar qué 'Store' está en df_BegInvFINAL pero no en df_EndInvFINAL\n",
    "stores_only_in_beg = stores_beg - stores_end\n",
    "print(f\"Las 'Store' que están en df_BegInvFINAL pero no en df_EndInvFINAL son: {stores_only_in_beg}\")\n"
   ]
  },
  {
   "cell_type": "markdown",
   "metadata": {},
   "source": [
    "Se puede determinar que la tienda 81 no esta en el inventario inicial pero si en el final y que todas las tiendas del inventario inicial estan dentro del inventario final. Nos indica que posiblemente se abrio una tienda nueva (o no tenia inventario al inicio) y no se cerro ninguna tienda y estan operativas con inventario. "
   ]
  },
  {
   "cell_type": "code",
   "execution_count": 44,
   "metadata": {},
   "outputs": [
    {
     "name": "stdout",
     "output_type": "stream",
     "text": [
      "Las 'City' que están en df_EndInvFINAL pero no en df_BegInvFINAL son: {'PEMBROKE'}\n",
      "Las 'City' que están en df_BegInvFINAL pero no en df_EndInvFINAL son: set()\n"
     ]
    }
   ],
   "source": [
    "# Obtener los valores únicos de 'City' en cada DataFrame\n",
    "cities_beg = set(df_BegInvFINAL['City'].unique())\n",
    "cities_end = set(df_EndInvFINAL['City'].unique())\n",
    "\n",
    "# Determinar qué 'City' está en df_EndInvFINAL pero no en df_BegInvFINAL\n",
    "cities_only_in_end = cities_end - cities_beg\n",
    "print(f\"Las 'City' que están en df_EndInvFINAL pero no en df_BegInvFINAL son: {cities_only_in_end}\")\n",
    "\n",
    "# Determinar qué 'City' está en df_BegInvFINAL pero no en df_EndInvFINAL\n",
    "cities_only_in_beg = cities_beg - cities_end\n",
    "print(f\"Las 'City' que están en df_BegInvFINAL pero no en df_EndInvFINAL son: {cities_only_in_beg}\")\n"
   ]
  },
  {
   "cell_type": "markdown",
   "metadata": {},
   "source": [
    "Se determina que la ciudad de PEMBROKE esta operativa en el inventario final pero no en el inicial."
   ]
  },
  {
   "cell_type": "markdown",
   "metadata": {},
   "source": [
    "-----"
   ]
  }
 ],
 "metadata": {
  "kernelspec": {
   "display_name": "Python 3",
   "language": "python",
   "name": "python3"
  },
  "language_info": {
   "codemirror_mode": {
    "name": "ipython",
    "version": 3
   },
   "file_extension": ".py",
   "mimetype": "text/x-python",
   "name": "python",
   "nbconvert_exporter": "python",
   "pygments_lexer": "ipython3",
   "version": "3.12.4"
  }
 },
 "nbformat": 4,
 "nbformat_minor": 2
}
