{
 "cells": [
  {
   "cell_type": "markdown",
   "metadata": {},
   "source": [
    "# 🔧Configuración del entorno y conexión a SQL Server✅"
   ]
  },
  {
   "cell_type": "code",
   "execution_count": 1,
   "metadata": {},
   "outputs": [
    {
     "name": "stdout",
     "output_type": "stream",
     "text": [
      "Collecting sqlalchemy\n",
      "  Downloading SQLAlchemy-2.0.32-cp312-cp312-win_amd64.whl.metadata (9.8 kB)\n",
      "Requirement already satisfied: pyodbc in c:\\users\\hernan\\appdata\\local\\programs\\python\\python312\\lib\\site-packages (5.1.0)\n",
      "Requirement already satisfied: pandas in c:\\users\\hernan\\appdata\\local\\programs\\python\\python312\\lib\\site-packages (2.2.2)\n",
      "Collecting typing-extensions>=4.6.0 (from sqlalchemy)\n",
      "  Downloading typing_extensions-4.12.2-py3-none-any.whl.metadata (3.0 kB)\n",
      "Collecting greenlet!=0.4.17 (from sqlalchemy)\n",
      "  Downloading greenlet-3.0.3-cp312-cp312-win_amd64.whl.metadata (3.9 kB)\n",
      "Requirement already satisfied: numpy>=1.26.0 in c:\\users\\hernan\\appdata\\local\\programs\\python\\python312\\lib\\site-packages (from pandas) (2.0.0)\n",
      "Requirement already satisfied: python-dateutil>=2.8.2 in c:\\users\\hernan\\appdata\\roaming\\python\\python312\\site-packages (from pandas) (2.9.0.post0)\n",
      "Requirement already satisfied: pytz>=2020.1 in c:\\users\\hernan\\appdata\\local\\programs\\python\\python312\\lib\\site-packages (from pandas) (2024.1)\n",
      "Requirement already satisfied: tzdata>=2022.7 in c:\\users\\hernan\\appdata\\local\\programs\\python\\python312\\lib\\site-packages (from pandas) (2024.1)\n",
      "Requirement already satisfied: six>=1.5 in c:\\users\\hernan\\appdata\\roaming\\python\\python312\\site-packages (from python-dateutil>=2.8.2->pandas) (1.16.0)\n",
      "Downloading SQLAlchemy-2.0.32-cp312-cp312-win_amd64.whl (2.1 MB)\n",
      "   ---------------------------------------- 0.0/2.1 MB ? eta -:--:--\n",
      "   -------- ------------------------------- 0.4/2.1 MB 9.2 MB/s eta 0:00:01\n",
      "   ---------------- ----------------------- 0.9/2.1 MB 10.9 MB/s eta 0:00:01\n",
      "   ------------------------ --------------- 1.3/2.1 MB 11.7 MB/s eta 0:00:01\n",
      "   --------------------------------- ------ 1.7/2.1 MB 11.0 MB/s eta 0:00:01\n",
      "   ---------------------------------------  2.1/2.1 MB 12.0 MB/s eta 0:00:01\n",
      "   ---------------------------------------- 2.1/2.1 MB 11.1 MB/s eta 0:00:00\n",
      "Downloading greenlet-3.0.3-cp312-cp312-win_amd64.whl (293 kB)\n",
      "   ---------------------------------------- 0.0/293.6 kB ? eta -:--:--\n",
      "   ---------------------------------------- 293.6/293.6 kB 9.1 MB/s eta 0:00:00\n",
      "Downloading typing_extensions-4.12.2-py3-none-any.whl (37 kB)\n",
      "Installing collected packages: typing-extensions, greenlet, sqlalchemy\n",
      "Successfully installed greenlet-3.0.3 sqlalchemy-2.0.32 typing-extensions-4.12.2\n"
     ]
    },
    {
     "name": "stderr",
     "output_type": "stream",
     "text": [
      "\n",
      "[notice] A new release of pip is available: 24.1.2 -> 24.2\n",
      "[notice] To update, run: python.exe -m pip install --upgrade pip\n"
     ]
    }
   ],
   "source": [
    "! pip install sqlalchemy pyodbc pandas"
   ]
  },
  {
   "cell_type": "code",
   "execution_count": 2,
   "metadata": {},
   "outputs": [],
   "source": [
    "# Grabar las dependencias a utilizar para su posterior uso automatizado.\n",
    "! pip freeze > requirements.txt"
   ]
  },
  {
   "cell_type": "markdown",
   "metadata": {},
   "source": [
    "# 🔐Importar librerías y configurar la conexión📤"
   ]
  },
  {
   "cell_type": "markdown",
   "metadata": {},
   "source": [
    "# 📝Crear la estructura de la tabla en SQL Server📌"
   ]
  },
  {
   "cell_type": "markdown",
   "metadata": {},
   "source": [
    "# ✅Verificación y cierre de conexión🌐"
   ]
  },
  {
   "cell_type": "code",
   "execution_count": 9,
   "metadata": {},
   "outputs": [
    {
     "name": "stdout",
     "output_type": "stream",
     "text": [
      "✅ Tabla 'InvoicePurchases12312016' creada y datos cargados exitosamente en la base de datos.\n",
      "(105, 'ALTAMAR BRANDS LLC         ', '2016-01-04', 8124, '2015-12-21', '2016-02-16', 6, 214.26, 3.47, False)\n",
      "(4466, 'AMERICAN VINTAGE BEVERAGE  ', '2016-01-07', 8137, '2015-12-22', '2016-02-21', 15, 140.55, 8.57, False)\n",
      "(388, 'ATLANTIC IMPORTING COMPANY ', '2016-01-09', 8169, '2015-12-24', '2016-02-16', 5, 106.6, 4.61, False)\n",
      "(480, 'BACARDI USA INC            ', '2016-01-12', 8106, '2015-12-20', '2016-02-05', 10100, 137483.78, 2935.2, False)\n",
      "(516, 'BANFI PRODUCTS CORP        ', '2016-01-07', 8170, '2015-12-24', '2016-02-12', 1935, 15527.25, 429.2, False)\n"
     ]
    }
   ],
   "source": [
    "import pandas as pd\n",
    "from sqlalchemy import create_engine, text\n",
    "import pyodbc\n",
    "\n",
    "# 🗄️ Parámetros de conexión a la base de datos\n",
    "server_name = '190.172.70.140,1433'  # Dirección IP y puerto del servidor SQL Server\n",
    "database_name = 'COMERLOGISTICS'      # Nombre de la base de datos\n",
    "username = 'Hernan'                   # Tu usuario de SQL Server\n",
    "password = 'Dapt01'                   # Tu contraseña de SQL Server\n",
    "\n",
    "# 🛠️ Configurar la conexión usando pyodbc y sqlalchemy\n",
    "connection_string = f\"mssql+pyodbc://{username}:{password}@{server_name}/{database_name}?driver=ODBC+Driver+17+for+SQL+Server\"\n",
    "engine = create_engine(connection_string)\n",
    "\n",
    "# 📂 Cargar el archivo limpio en un DataFrame\n",
    "invoice_purchases_df = pd.read_csv(r'C:\\Users\\hernan\\Desktop\\Hernan\\henry\\Proyecto Final\\ComerLogistics\\Sprint_1\\EDA y ETL\\InvoicePurchases12312016_clean.csv')\n",
    "\n",
    "# 📊 Crear la tabla en SQL Server\n",
    "invoice_purchases_df.to_sql('InvoicePurchases12312016', con=engine, if_exists='replace', index=False) # Lo primero que agregas dentro del parentesis es el nombre de como se va a llamar la tabla\n",
    "\n",
    "# ✔️ Confirmar que la tabla se ha creado correctamente\n",
    "print(\"✅ Tabla 'InvoicePurchases12312016' creada y datos cargados exitosamente en la base de datos.\")\n",
    "\n",
    "# 🔍 Verificar la carga de datos (opcional)\n",
    "with engine.connect() as connection:\n",
    "    # Utilizar el método text() para ejecutar la consulta SQL\n",
    "    result = connection.execute(text(\"SELECT TOP 5 * FROM InvoicePurchases12312016\"))\n",
    "    for row in result:\n",
    "        print(row)\n",
    "\n",
    "# 🔒 Cerrar la conexión si ya no se va a utilizar\n",
    "engine.dispose()\n"
   ]
  },
  {
   "cell_type": "markdown",
   "metadata": {},
   "source": [
    "------"
   ]
  },
  {
   "cell_type": "markdown",
   "metadata": {},
   "source": [
    "ojo"
   ]
  }
 ],
 "metadata": {
  "kernelspec": {
   "display_name": "Python 3",
   "language": "python",
   "name": "python3"
  },
  "language_info": {
   "codemirror_mode": {
    "name": "ipython",
    "version": 3
   },
   "file_extension": ".py",
   "mimetype": "text/x-python",
   "name": "python",
   "nbconvert_exporter": "python",
   "pygments_lexer": "ipython3",
   "version": "3.12.4"
  }
 },
 "nbformat": 4,
 "nbformat_minor": 2
}
