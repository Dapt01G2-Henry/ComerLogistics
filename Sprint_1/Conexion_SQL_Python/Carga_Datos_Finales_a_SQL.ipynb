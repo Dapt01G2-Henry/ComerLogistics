{
 "cells": [
  {
   "cell_type": "code",
   "execution_count": null,
   "metadata": {},
   "outputs": [],
   "source": []
  },
  {
   "cell_type": "markdown",
   "metadata": {},
   "source": [
    "# 🔧Configuración del entorno y conexión a SQL Server✅"
   ]
  },
  {
   "cell_type": "code",
   "execution_count": 1,
   "metadata": {},
   "outputs": [
    {
     "name": "stdout",
     "output_type": "stream",
     "text": [
      "Collecting sqlalchemy\n",
      "  Downloading SQLAlchemy-2.0.32-cp312-cp312-win_amd64.whl.metadata (9.8 kB)\n",
      "Requirement already satisfied: pyodbc in c:\\users\\administrator\\appdata\\local\\programs\\python\\python312\\lib\\site-packages (5.1.0)\n",
      "Requirement already satisfied: pandas in c:\\users\\administrator\\appdata\\local\\programs\\python\\python312\\lib\\site-packages (2.2.2)\n",
      "Collecting typing-extensions>=4.6.0 (from sqlalchemy)\n",
      "  Downloading typing_extensions-4.12.2-py3-none-any.whl.metadata (3.0 kB)\n",
      "Collecting greenlet!=0.4.17 (from sqlalchemy)\n",
      "  Downloading greenlet-3.0.3-cp312-cp312-win_amd64.whl.metadata (3.9 kB)\n",
      "Requirement already satisfied: numpy>=1.26.0 in c:\\users\\administrator\\appdata\\local\\programs\\python\\python312\\lib\\site-packages (from pandas) (2.0.0)\n",
      "Requirement already satisfied: python-dateutil>=2.8.2 in c:\\users\\administrator\\appdata\\roaming\\python\\python312\\site-packages (from pandas) (2.9.0.post0)\n",
      "Requirement already satisfied: pytz>=2020.1 in c:\\users\\administrator\\appdata\\local\\programs\\python\\python312\\lib\\site-packages (from pandas) (2024.1)\n",
      "Requirement already satisfied: tzdata>=2022.7 in c:\\users\\administrator\\appdata\\local\\programs\\python\\python312\\lib\\site-packages (from pandas) (2024.1)\n",
      "Requirement already satisfied: six>=1.5 in c:\\users\\administrator\\appdata\\roaming\\python\\python312\\site-packages (from python-dateutil>=2.8.2->pandas) (1.16.0)\n",
      "Downloading SQLAlchemy-2.0.32-cp312-cp312-win_amd64.whl (2.1 MB)\n",
      "   ---------------------------------------- 0.0/2.1 MB ? eta -:--:--\n",
      "   ---------------------------------------- 0.0/2.1 MB ? eta -:--:--\n",
      "    --------------------------------------- 0.0/2.1 MB 487.6 kB/s eta 0:00:05\n",
      "   - -------------------------------------- 0.1/2.1 MB 544.7 kB/s eta 0:00:04\n",
      "   - -------------------------------------- 0.1/2.1 MB 581.0 kB/s eta 0:00:04\n",
      "   - -------------------------------------- 0.1/2.1 MB 581.0 kB/s eta 0:00:04\n",
      "   - -------------------------------------- 0.1/2.1 MB 581.0 kB/s eta 0:00:04\n",
      "   --- ------------------------------------ 0.2/2.1 MB 581.0 kB/s eta 0:00:04\n",
      "   --- ------------------------------------ 0.2/2.1 MB 588.9 kB/s eta 0:00:04\n",
      "   ---- ----------------------------------- 0.2/2.1 MB 573.4 kB/s eta 0:00:04\n",
      "   ---- ----------------------------------- 0.3/2.1 MB 582.4 kB/s eta 0:00:04\n",
      "   ---- ----------------------------------- 0.3/2.1 MB 582.4 kB/s eta 0:00:04\n",
      "   ---- ----------------------------------- 0.3/2.1 MB 582.4 kB/s eta 0:00:04\n",
      "   ------ --------------------------------- 0.3/2.1 MB 582.0 kB/s eta 0:00:03\n",
      "   ------- -------------------------------- 0.4/2.1 MB 587.5 kB/s eta 0:00:03\n",
      "   ------- -------------------------------- 0.4/2.1 MB 607.9 kB/s eta 0:00:03\n",
      "   -------- ------------------------------- 0.4/2.1 MB 611.8 kB/s eta 0:00:03\n",
      "   -------- ------------------------------- 0.5/2.1 MB 587.1 kB/s eta 0:00:03\n",
      "   --------- ------------------------------ 0.5/2.1 MB 603.9 kB/s eta 0:00:03\n",
      "   ---------- ----------------------------- 0.5/2.1 MB 606.6 kB/s eta 0:00:03\n",
      "   ---------- ----------------------------- 0.5/2.1 MB 596.8 kB/s eta 0:00:03\n",
      "   ---------- ----------------------------- 0.6/2.1 MB 598.4 kB/s eta 0:00:03\n",
      "   ----------- ---------------------------- 0.6/2.1 MB 582.2 kB/s eta 0:00:03\n",
      "   ----------- ---------------------------- 0.6/2.1 MB 594.6 kB/s eta 0:00:03\n",
      "   ------------ --------------------------- 0.7/2.1 MB 606.9 kB/s eta 0:00:03\n",
      "   ------------- -------------------------- 0.7/2.1 MB 600.7 kB/s eta 0:00:03\n",
      "   ------------- -------------------------- 0.7/2.1 MB 602.9 kB/s eta 0:00:03\n",
      "   -------------- ------------------------- 0.7/2.1 MB 612.0 kB/s eta 0:00:03\n",
      "   -------------- ------------------------- 0.7/2.1 MB 612.0 kB/s eta 0:00:03\n",
      "   -------------- ------------------------- 0.7/2.1 MB 612.0 kB/s eta 0:00:03\n",
      "   --------------- ------------------------ 0.8/2.1 MB 601.9 kB/s eta 0:00:03\n",
      "   ---------------- ----------------------- 0.9/2.1 MB 604.1 kB/s eta 0:00:03\n",
      "   ---------------- ----------------------- 0.9/2.1 MB 599.0 kB/s eta 0:00:03\n",
      "   ----------------- ---------------------- 0.9/2.1 MB 593.9 kB/s eta 0:00:02\n",
      "   ------------------ --------------------- 0.9/2.1 MB 602.4 kB/s eta 0:00:02\n",
      "   ------------------ --------------------- 1.0/2.1 MB 603.5 kB/s eta 0:00:02\n",
      "   ------------------- -------------------- 1.0/2.1 MB 610.6 kB/s eta 0:00:02\n",
      "   ------------------- -------------------- 1.0/2.1 MB 606.3 kB/s eta 0:00:02\n",
      "   -------------------- ------------------- 1.1/2.1 MB 613.6 kB/s eta 0:00:02\n",
      "   -------------------- ------------------- 1.1/2.1 MB 603.0 kB/s eta 0:00:02\n",
      "   --------------------- ------------------ 1.1/2.1 MB 604.3 kB/s eta 0:00:02\n",
      "   --------------------- ------------------ 1.1/2.1 MB 604.3 kB/s eta 0:00:02\n",
      "   --------------------- ------------------ 1.1/2.1 MB 585.3 kB/s eta 0:00:02\n",
      "   ---------------------- ----------------- 1.1/2.1 MB 582.0 kB/s eta 0:00:02\n",
      "   ---------------------- ----------------- 1.2/2.1 MB 577.8 kB/s eta 0:00:02\n",
      "   ---------------------- ----------------- 1.2/2.1 MB 575.3 kB/s eta 0:00:02\n",
      "   ----------------------- ---------------- 1.2/2.1 MB 577.5 kB/s eta 0:00:02\n",
      "   ----------------------- ---------------- 1.2/2.1 MB 573.9 kB/s eta 0:00:02\n",
      "   ------------------------ --------------- 1.3/2.1 MB 571.7 kB/s eta 0:00:02\n",
      "   ------------------------ --------------- 1.3/2.1 MB 572.7 kB/s eta 0:00:02\n",
      "   ------------------------- -------------- 1.3/2.1 MB 569.9 kB/s eta 0:00:02\n",
      "   ------------------------- -------------- 1.3/2.1 MB 571.8 kB/s eta 0:00:02\n",
      "   -------------------------- ------------- 1.4/2.1 MB 578.2 kB/s eta 0:00:02\n",
      "   --------------------------- ------------ 1.4/2.1 MB 583.5 kB/s eta 0:00:02\n",
      "   --------------------------- ------------ 1.5/2.1 MB 581.0 kB/s eta 0:00:02\n",
      "   ---------------------------- ----------- 1.5/2.1 MB 585.7 kB/s eta 0:00:02\n",
      "   ---------------------------- ----------- 1.5/2.1 MB 578.9 kB/s eta 0:00:02\n",
      "   ----------------------------- ---------- 1.5/2.1 MB 576.7 kB/s eta 0:00:01\n",
      "   ----------------------------- ---------- 1.6/2.1 MB 578.7 kB/s eta 0:00:01\n",
      "   ------------------------------ --------- 1.6/2.1 MB 583.7 kB/s eta 0:00:01\n",
      "   ------------------------------- -------- 1.6/2.1 MB 584.6 kB/s eta 0:00:01\n",
      "   ------------------------------- -------- 1.6/2.1 MB 585.2 kB/s eta 0:00:01\n",
      "   -------------------------------- ------- 1.7/2.1 MB 583.6 kB/s eta 0:00:01\n",
      "   --------------------------------- ------ 1.7/2.1 MB 588.3 kB/s eta 0:00:01\n",
      "   --------------------------------- ------ 1.8/2.1 MB 589.5 kB/s eta 0:00:01\n",
      "   --------------------------------- ------ 1.8/2.1 MB 586.6 kB/s eta 0:00:01\n",
      "   ---------------------------------- ----- 1.8/2.1 MB 591.0 kB/s eta 0:00:01\n",
      "   ----------------------------------- ---- 1.8/2.1 MB 589.1 kB/s eta 0:00:01\n",
      "   ----------------------------------- ---- 1.8/2.1 MB 589.4 kB/s eta 0:00:01\n",
      "   ------------------------------------ --- 1.9/2.1 MB 587.8 kB/s eta 0:00:01\n",
      "   ------------------------------------ --- 1.9/2.1 MB 587.8 kB/s eta 0:00:01\n",
      "   ------------------------------------ --- 1.9/2.1 MB 587.8 kB/s eta 0:00:01\n",
      "   ------------------------------------- -- 2.0/2.1 MB 590.4 kB/s eta 0:00:01\n",
      "   ------------------------------------- -- 2.0/2.1 MB 587.9 kB/s eta 0:00:01\n",
      "   ------------------------------------- -- 2.0/2.1 MB 587.9 kB/s eta 0:00:01\n",
      "   -------------------------------------- - 2.0/2.1 MB 578.3 kB/s eta 0:00:01\n",
      "   ---------------------------------------  2.0/2.1 MB 579.6 kB/s eta 0:00:01\n",
      "   ---------------------------------------  2.1/2.1 MB 574.8 kB/s eta 0:00:01\n",
      "   ---------------------------------------  2.1/2.1 MB 573.0 kB/s eta 0:00:01\n",
      "   ---------------------------------------- 2.1/2.1 MB 569.3 kB/s eta 0:00:00\n",
      "Downloading greenlet-3.0.3-cp312-cp312-win_amd64.whl (293 kB)\n",
      "   ---------------------------------------- 0.0/293.6 kB ? eta -:--:--\n",
      "   ---------------------------------------- 0.0/293.6 kB ? eta -:--:--\n",
      "   ----- --------------------------------- 41.0/293.6 kB 991.0 kB/s eta 0:00:01\n",
      "   ----- --------------------------------- 41.0/293.6 kB 991.0 kB/s eta 0:00:01\n",
      "   --------- ----------------------------- 71.7/293.6 kB 435.7 kB/s eta 0:00:01\n",
      "   --------- ----------------------------- 71.7/293.6 kB 435.7 kB/s eta 0:00:01\n",
      "   ---------- ---------------------------- 81.9/293.6 kB 381.3 kB/s eta 0:00:01\n",
      "   ---------- ---------------------------- 81.9/293.6 kB 381.3 kB/s eta 0:00:01\n",
      "   ---------- ---------------------------- 81.9/293.6 kB 381.3 kB/s eta 0:00:01\n",
      "   ---------- ---------------------------- 81.9/293.6 kB 381.3 kB/s eta 0:00:01\n",
      "   ---------- ---------------------------- 81.9/293.6 kB 381.3 kB/s eta 0:00:01\n",
      "   ---------- ---------------------------- 81.9/293.6 kB 381.3 kB/s eta 0:00:01\n",
      "   ------------- ------------------------ 102.4/293.6 kB 190.4 kB/s eta 0:00:02\n",
      "   ------------- ------------------------ 102.4/293.6 kB 190.4 kB/s eta 0:00:02\n",
      "   ------------- ------------------------ 102.4/293.6 kB 190.4 kB/s eta 0:00:02\n",
      "   --------------- ---------------------- 122.9/293.6 kB 180.2 kB/s eta 0:00:01\n",
      "   --------------- ---------------------- 122.9/293.6 kB 180.2 kB/s eta 0:00:01\n",
      "   ----------------- -------------------- 133.1/293.6 kB 170.9 kB/s eta 0:00:01\n",
      "   --------------------- ---------------- 163.8/293.6 kB 196.7 kB/s eta 0:00:01\n",
      "   ----------------------- -------------- 184.3/293.6 kB 210.2 kB/s eta 0:00:01\n",
      "   -------------------------- ----------- 204.8/293.6 kB 218.4 kB/s eta 0:00:01\n",
      "   -------------------------- ----------- 204.8/293.6 kB 218.4 kB/s eta 0:00:01\n",
      "   -------------------------- ----------- 204.8/293.6 kB 218.4 kB/s eta 0:00:01\n",
      "   -------------------------- ----------- 204.8/293.6 kB 218.4 kB/s eta 0:00:01\n",
      "   -------------------------- ----------- 204.8/293.6 kB 218.4 kB/s eta 0:00:01\n",
      "   -------------------------- ----------- 204.8/293.6 kB 218.4 kB/s eta 0:00:01\n",
      "   -------------------------- ----------- 204.8/293.6 kB 218.4 kB/s eta 0:00:01\n",
      "   -------------------------- ----------- 204.8/293.6 kB 218.4 kB/s eta 0:00:01\n",
      "   -------------------------- ----------- 204.8/293.6 kB 218.4 kB/s eta 0:00:01\n",
      "   -------------------------- ----------- 204.8/293.6 kB 218.4 kB/s eta 0:00:01\n",
      "   -------------------------- ----------- 204.8/293.6 kB 218.4 kB/s eta 0:00:01\n",
      "   -------------------------- ----------- 204.8/293.6 kB 218.4 kB/s eta 0:00:01\n",
      "   -------------------------- ----------- 204.8/293.6 kB 218.4 kB/s eta 0:00:01\n",
      "   ---------------------------------- --- 266.2/293.6 kB 170.7 kB/s eta 0:00:01\n",
      "   ---------------------------------- --- 266.2/293.6 kB 170.7 kB/s eta 0:00:01\n",
      "   ---------------------------------- --- 266.2/293.6 kB 170.7 kB/s eta 0:00:01\n",
      "   -------------------------------------  286.7/293.6 kB 170.1 kB/s eta 0:00:01\n",
      "   -------------------------------------  286.7/293.6 kB 170.1 kB/s eta 0:00:01\n",
      "   -------------------------------------- 293.6/293.6 kB 161.9 kB/s eta 0:00:00\n",
      "Downloading typing_extensions-4.12.2-py3-none-any.whl (37 kB)\n",
      "Installing collected packages: typing-extensions, greenlet, sqlalchemy\n",
      "Successfully installed greenlet-3.0.3 sqlalchemy-2.0.32 typing-extensions-4.12.2\n"
     ]
    },
    {
     "name": "stderr",
     "output_type": "stream",
     "text": [
      "\n",
      "[notice] A new release of pip is available: 24.1.2 -> 24.2\n",
      "[notice] To update, run: python.exe -m pip install --upgrade pip\n"
     ]
    }
   ],
   "source": [
    "! pip install sqlalchemy pyodbc pandas"
   ]
  },
  {
   "cell_type": "code",
   "execution_count": 2,
   "metadata": {},
   "outputs": [],
   "source": [
    "# Grabar las dependencias a utilizar para su posterior uso automatizado.\n",
    "! pip freeze > requirements.txt"
   ]
  },
  {
   "cell_type": "markdown",
   "metadata": {},
   "source": [
    "# 🔐Importar librerías y configurar la conexión📤"
   ]
  },
  {
   "cell_type": "markdown",
   "metadata": {},
   "source": [
    "# 📝Crear la estructura de la tabla en SQL Server📌"
   ]
  },
  {
   "cell_type": "markdown",
   "metadata": {},
   "source": [
    "# ✅Verificación y cierre de conexión🌐"
   ]
  },
  {
   "cell_type": "code",
   "execution_count": 9,
   "metadata": {},
   "outputs": [
    {
     "name": "stdout",
     "output_type": "stream",
     "text": [
      "✅ Tabla 'InvoicePurchases12312016' creada y datos cargados exitosamente en la base de datos.\n",
      "(105, 'ALTAMAR BRANDS LLC         ', '2016-01-04', 8124, '2015-12-21', '2016-02-16', 6, 214.26, 3.47, False)\n",
      "(4466, 'AMERICAN VINTAGE BEVERAGE  ', '2016-01-07', 8137, '2015-12-22', '2016-02-21', 15, 140.55, 8.57, False)\n",
      "(388, 'ATLANTIC IMPORTING COMPANY ', '2016-01-09', 8169, '2015-12-24', '2016-02-16', 5, 106.6, 4.61, False)\n",
      "(480, 'BACARDI USA INC            ', '2016-01-12', 8106, '2015-12-20', '2016-02-05', 10100, 137483.78, 2935.2, False)\n",
      "(516, 'BANFI PRODUCTS CORP        ', '2016-01-07', 8170, '2015-12-24', '2016-02-12', 1935, 15527.25, 429.2, False)\n"
     ]
    }
   ],
   "source": [
    "import pandas as pd\n",
    "from sqlalchemy import create_engine, text\n",
    "import pyodbc\n",
    "\n",
    "# 🗄️ Parámetros de conexión a la base de datos\n",
    "server_name = '190.172.70.140,1433'  # Dirección IP y puerto del servidor SQL Server\n",
    "database_name = 'COMERLOGISTICS'      # Nombre de la base de datos\n",
    "username = 'Hernan'                   # Tu usuario de SQL Server\n",
    "password = 'Dapt01'                   # Tu contraseña de SQL Server\n",
    "\n",
    "# 🛠️ Configurar la conexión usando pyodbc y sqlalchemy\n",
    "connection_string = f\"mssql+pyodbc://{username}:{password}@{server_name}/{database_name}?driver=ODBC+Driver+17+for+SQL+Server\"\n",
    "engine = create_engine(connection_string)\n",
    "\n",
    "# 📂 Cargar el archivo limpio en un DataFrame\n",
    "invoice_purchases_df = pd.read_csv(r'C:\\Users\\hernan\\Desktop\\Hernan\\henry\\Proyecto Final\\dataset\\Archivos Limpios\\InvoicePurchases12312016_clean.csv')\n",
    "\n",
    "# 📊 Crear la tabla en SQL Server\n",
    "invoice_purchases_df.to_sql('InvoicePurchases12312016', con=engine, if_exists='replace', index=False) # Lo primero que agregas dentro del parentesis es el nombre de como se va a llamar la tabla\n",
    "\n",
    "# ✔️ Confirmar que la tabla se ha creado correctamente\n",
    "print(\"✅ Tabla 'InvoicePurchases12312016' creada y datos cargados exitosamente en la base de datos.\")\n",
    "\n",
    "# 🔍 Verificar la carga de datos (opcional)\n",
    "with engine.connect() as connection:\n",
    "    # Utilizar el método text() para ejecutar la consulta SQL\n",
    "    result = connection.execute(text(\"SELECT TOP 5 * FROM InvoicePurchases12312016\"))\n",
    "    for row in result:\n",
    "        print(row)\n",
    "\n",
    "# 🔒 Cerrar la conexión si ya no se va a utilizar\n",
    "engine.dispose()\n"
   ]
  },
  {
   "cell_type": "markdown",
   "metadata": {},
   "source": [
    "------"
   ]
  },
  {
   "cell_type": "code",
   "execution_count": 5,
   "metadata": {},
   "outputs": [
    {
     "name": "stdout",
     "output_type": "stream",
     "text": [
      "✅ Tabla 'PurchasePricesDec' creada y datos cargados exitosamente en la base de datos.\n",
      "(58, 'Gekkeikan Black & Gold Sake', 12.99, '750mL', '750', 1, 9.28, 8320, 'SHAW ROSS INT L IMP LTD    ', 3.710000000000001, 750.0)\n",
      "(62, 'Herradura Silver Tequila', 36.99, '750mL', '750', 1, 28.67, 1128, 'BROWN-FORMAN CORP          ', 8.32, 750.0)\n",
      "(63, 'Herradura Reposado Tequila', 38.99, '750mL', '750', 1, 30.46, 1128, 'BROWN-FORMAN CORP          ', 8.530000000000001, 750.0)\n",
      "(72, 'No. 3 London Dry Gin', 34.99, '750mL', '750', 1, 26.11, 9165, 'ULTRA BEVERAGE COMPANY LLP ', 8.880000000000003, 750.0)\n",
      "(75, 'Three Olives Tomato Vodka', 14.99, '750mL', '750', 1, 10.94, 7245, 'PROXIMO SPIRITS INC.       ', 4.050000000000001, 750.0)\n"
     ]
    }
   ],
   "source": [
    "import pandas as pd\n",
    "from sqlalchemy import create_engine, text\n",
    "import pyodbc\n",
    "\n",
    "# 🗄️ Parámetros de conexión a la base de datos\n",
    "server_name = '190.172.70.140,1433'  # Dirección IP y puerto del servidor SQL Server\n",
    "database_name = 'COMERLOGISTICS'      # Nombre de la base de datos\n",
    "username = 'Daniela'                   # Tu usuario de SQL Server\n",
    "password = 'Dapt01'                   # Tu contraseña de SQL Server\n",
    "\n",
    "# 🛠️ Configurar la conexión usando pyodbc y sqlalchemy\n",
    "connection_string = f\"mssql+pyodbc://{username}:{password}@{server_name}/{database_name}?driver=ODBC+Driver+17+for+SQL+Server\"\n",
    "engine = create_engine(connection_string)\n",
    "\n",
    "# 📂 Cargar el archivo limpio en un DataFrame\n",
    "purchasePricesDec_df = pd.read_csv(r'C:\\Users\\danie\\OneDrive\\Escritorio\\GitProyectoFinal\\ComerLogistics\\Sprint_1\\EDA y ETL\\purchasePricesDec_new.csv')\n",
    "\n",
    "# 📊 Crear la tabla en SQL Server\n",
    "purchasePricesDec_df.to_sql('PurchasePricesDec', con=engine, if_exists='replace', index=False) # Lo primero que agregas dentro del parentesis es el nombre de como se va a llamar la tabla\n",
    "\n",
    "# ✔️ Confirmar que la tabla se ha creado correctamente\n",
    "print(\"✅ Tabla 'PurchasePricesDec' creada y datos cargados exitosamente en la base de datos.\")\n",
    "\n",
    "# 🔍 Verificar la carga de datos (opcional)\n",
    "with engine.connect() as connection:\n",
    "    # Utilizar el método text() para ejecutar la consulta SQL\n",
    "    result = connection.execute(text(\"SELECT TOP 5 * FROM PurchasePricesDec\"))\n",
    "    for row in result:\n",
    "        print(row)\n",
    "\n",
    "# 🔒 Cerrar la conexión si ya no se va a utilizar\n",
    "engine.dispose()"
   ]
  },
  {
   "cell_type": "code",
   "execution_count": 2,
   "metadata": {},
   "outputs": [
    {
     "name": "stdout",
     "output_type": "stream",
     "text": [
      "✅ Tabla 'PurchasesFINAL12312016' creada y datos cargados exitosamente en la base de datos.\n",
      "(58, 'Gekkeikan Black & Gold Sake', 12.99, '750mL', '750', 1, 9.28, 8320, 'SHAW ROSS INT L IMP LTD    ', 3.710000000000001, 750.0)\n",
      "(62, 'Herradura Silver Tequila', 36.99, '750mL', '750', 1, 28.67, 1128, 'BROWN-FORMAN CORP          ', 8.32, 750.0)\n",
      "(63, 'Herradura Reposado Tequila', 38.99, '750mL', '750', 1, 30.46, 1128, 'BROWN-FORMAN CORP          ', 8.530000000000001, 750.0)\n",
      "(72, 'No. 3 London Dry Gin', 34.99, '750mL', '750', 1, 26.11, 9165, 'ULTRA BEVERAGE COMPANY LLP ', 8.880000000000003, 750.0)\n",
      "(75, 'Three Olives Tomato Vodka', 14.99, '750mL', '750', 1, 10.94, 7245, 'PROXIMO SPIRITS INC.       ', 4.050000000000001, 750.0)\n"
     ]
    }
   ],
   "source": [
    "import pandas as pd\n",
    "from sqlalchemy import create_engine, text\n",
    "import pyodbc\n",
    "\n",
    "# 🗄️ Parámetros de conexión a la base de datos\n",
    "server_name = '190.172.70.140,1433'  # Dirección IP y puerto del servidor SQL Server\n",
    "database_name = 'COMERLOGISTICS'      # Nombre de la base de datos\n",
    "username = 'Ruben'                   # Tu usuario de SQL Server\n",
    "password = 'Dapt01'                   # Tu contraseña de SQL Server\n",
    "\n",
    "# 🛠️ Configurar la conexión usando pyodbc y sqlalchemy\n",
    "connection_string = f\"mssql+pyodbc://{username}:{password}@{server_name}/{database_name}?driver=ODBC+Driver+17+for+SQL+Server\"\n",
    "engine = create_engine(connection_string)\n",
    "\n",
    "# 📂 Cargar el archivo limpio en un DataFrame\n",
    "PurchasesFINAL12312016_df = pd.read_csv(r'C:\\Users\\hernan\\Desktop\\Hernan\\henry\\Proyecto Final\\dataset\\Archivos Limpios\\PurchasesFINAL12312016.csv')\n",
    "\n",
    "# 📊 Crear la tabla en SQL Server\n",
    "PurchasesFINAL12312016_df.to_sql('PurchasesFINAL12312016', con=engine, if_exists='replace', index=False) # Lo primero que agregas dentro del parentesis es el nombre de como se va a llamar la tabla\n",
    "\n",
    "# ✔️ Confirmar que la tabla se ha creado correctamente\n",
    "print(\"✅ Tabla 'PurchasesFINAL12312016' creada y datos cargados exitosamente en la base de datos.\")\n",
    "\n",
    "# 🔍 Verificar la carga de datos (opcional)\n",
    "with engine.connect() as connection:\n",
    "    # Utilizar el método text() para ejecutar la consulta SQL\n",
    "    result = connection.execute(text(\"SELECT TOP 5 * FROM PurchasesFINAL12312016\"))\n",
    "    for row in result:\n",
    "        print(row)\n",
    "\n",
    "# 🔒 Cerrar la conexión si ya no se va a utilizar\n",
    "engine.dispose()"
   ]
  },
  {
   "cell_type": "markdown",
   "metadata": {},
   "source": [
    "---"
   ]
  },
  {
   "cell_type": "code",
   "execution_count": 1,
   "metadata": {},
   "outputs": [
    {
     "name": "stdout",
     "output_type": "stream",
     "text": [
      "✅ Tabla 'SalesFINAL12312016' creada y datos cargados exitosamente en la base de datos.\n",
      "('42_BLACK HOLLOW_7535', 42, 7535, 'Gekkeikan Sake', '750mL', 1, 5.99, 5.99, '1/20/2016', 750, 1, 0.79, 8320, 'SHAW ROSS INT L IMP LTD    ')\n",
      "('42_BLACK HOLLOW_7535', 42, 7535, 'Gekkeikan Sake', '750mL', 1, 5.99, 5.99, '1/21/2016', 750, 1, 0.79, 8320, 'SHAW ROSS INT L IMP LTD    ')\n",
      "('42_BLACK HOLLOW_7535', 42, 7535, 'Gekkeikan Sake', '750mL', 1, 5.99, 5.99, '1/23/2016', 750, 1, 0.79, 8320, 'SHAW ROSS INT L IMP LTD    ')\n",
      "('42_BLACK HOLLOW_7535', 42, 7535, 'Gekkeikan Sake', '750mL', 1, 5.99, 5.99, '1/31/2016', 750, 1, 0.79, 8320, 'SHAW ROSS INT L IMP LTD    ')\n",
      "('42_BLACK HOLLOW_77', 42, 77, 'Three Olives Espresso Vodka', '750mL', 1, 12.99, 12.99, '1/17/2016', 750, 1, 0.79, 7245, 'PROXIMO SPIRITS INC.       ')\n"
     ]
    }
   ],
   "source": [
    "import pandas as pd\n",
    "from sqlalchemy import create_engine, text\n",
    "import pyodbc\n",
    "\n",
    "# 🗄️ Parámetros de conexión a la base de datos\n",
    "server_name = '190.172.70.140,1433'  # Dirección IP y puerto del servidor SQL Server\n",
    "database_name = 'COMERLOGISTICS'      # Nombre de la base de datos\n",
    "username = 'Marcelo'                  # Tu usuario de SQL Server\n",
    "password = 'Dapt01'                   # Tu contraseña de SQL Server\n",
    "\n",
    "# 🛠️ Configurar la conexión usando pyodbc y sqlalchemy\n",
    "connection_string = f\"mssql+pyodbc://{username}:{password}@{server_name}/{database_name}?driver=ODBC+Driver+17+for+SQL+Server\"\n",
    "engine = create_engine(connection_string)\n",
    "\n",
    "# 📂 Cargar el archivo limpio en un DataFrame\n",
    "SalesFINAL12312016_df = pd.read_csv(r'C:\\Users\\mlope\\OneDrive\\Escritorio\\ProyectoFinalSoyHenry\\ARCHIVOS INICIALES\\SalesFINAL12312016.csv')\n",
    "\n",
    "# 📊 Crear la tabla en SQL Server\n",
    "SalesFINAL12312016_df.to_sql('SalesFINAL12312016', con=engine, if_exists='replace', index=False) # Lo primero que agregas dentro del parentesis es el nombre de como se va a llamar la tabla\n",
    "\n",
    "# ✔️ Confirmar que la tabla se ha creado correctamente\n",
    "print(\"✅ Tabla 'SalesFINAL12312016' creada y datos cargados exitosamente en la base de datos.\")\n",
    "\n",
    "# 🔍 Verificar la carga de datos (opcional)\n",
    "with engine.connect() as connection:\n",
    "    # Utilizar el método text() para ejecutar la consulta SQL\n",
    "    result = connection.execute(text(\"SELECT TOP 5 * FROM SalesFINAL12312016\"))\n",
    "    for row in result:\n",
    "        print(row)\n",
    "\n",
    "# 🔒 Cerrar la conexión si ya no se va a utilizar\n",
    "engine.dispose()"
   ]
  },
  {
   "cell_type": "markdown",
   "metadata": {},
   "source": [
    "--------"
   ]
  },
  {
   "cell_type": "code",
   "execution_count": 3,
   "metadata": {},
   "outputs": [
    {
     "name": "stdout",
     "output_type": "stream",
     "text": [
      "✅ Tabla 'Tabla_InventarioInicial' creada y datos cargados exitosamente en la base de datos.\n",
      "('1_HARDERSFIELD_58', 1, 'HARDERSFIELD', 58, 'Gekkeikan Black & Gold Sake', '750mL', 8, 12.99, '2016-01-01', 103.92)\n",
      "('1_HARDERSFIELD_60', 1, 'HARDERSFIELD', 60, 'Canadian Club 1858 VAP', '750mL', 7, 10.99, '2016-01-01', 76.93)\n",
      "('1_HARDERSFIELD_62', 1, 'HARDERSFIELD', 62, 'Herradura Silver Tequila', '750mL', 6, 36.99, '2016-01-01', 221.94)\n",
      "('1_HARDERSFIELD_63', 1, 'HARDERSFIELD', 63, 'Herradura Reposado Tequila', '750mL', 3, 38.99, '2016-01-01', 116.97)\n",
      "('1_HARDERSFIELD_72', 1, 'HARDERSFIELD', 72, 'No. 3 London Dry Gin', '750mL', 6, 34.99, '2016-01-01', 209.94)\n"
     ]
    }
   ],
   "source": [
    "import pandas as pd\n",
    "from sqlalchemy import create_engine, text\n",
    "import pyodbc\n",
    "\n",
    "# 🗄️ Parámetros de conexión a la base de datos\n",
    "server_name = '190.172.70.140,1433'  # Dirección IP y puerto del servidor SQL Server\n",
    "database_name = 'COMERLOGISTICS'      # Nombre de la base de datos\n",
    "username = 'Carlos'                   # Tu usuario de SQL Server\n",
    "password = 'Dapt01'                   # Tu contraseña de SQL Server\n",
    "\n",
    "# 🛠️ Configurar la conexión usando pyodbc y sqlalchemy\n",
    "connection_string = f\"mssql+pyodbc://{username}:{password}@{server_name}/{database_name}?driver=ODBC+Driver+17+for+SQL+Server\"\n",
    "engine = create_engine(connection_string)\n",
    "\n",
    "# 📂 Cargar el archivo limpio en un DataFrame\n",
    "Inventario_inicial_df = pd.read_csv(r\"C:\\Users\\Administrator\\Documents\\CF\\CIENCIA DE DATOS IA\\Data Analytics\\Trabajo Final\\DataSet\\Tabla_InventarioInicial.csv\")\n",
    "\n",
    "# 📊 Crear la tabla en SQL Server\n",
    "Inventario_inicial_df.to_sql('Tabla_InventarioInicial', con=engine, if_exists='replace', index=False) # Lo primero que agregas dentro del parentesis es el nombre de como se va a llamar la tabla\n",
    "\n",
    "# ✔️ Confirmar que la tabla se ha creado correctamente\n",
    "print(\"✅ Tabla 'Tabla_InventarioInicial' creada y datos cargados exitosamente en la base de datos.\")\n",
    "\n",
    "# 🔍 Verificar la carga de datos (opcional)\n",
    "with engine.connect() as connection:\n",
    "    # Utilizar el método text() para ejecutar la consulta SQL\n",
    "    result = connection.execute(text(\"SELECT TOP 5 * FROM Tabla_InventarioInicial\"))\n",
    "    for row in result:\n",
    "        print(row)\n",
    "\n",
    "# 🔒 Cerrar la conexión si ya no se va a utilizar\n",
    "engine.dispose()"
   ]
  },
  {
   "cell_type": "code",
   "execution_count": 4,
   "metadata": {},
   "outputs": [
    {
     "name": "stdout",
     "output_type": "stream",
     "text": [
      "✅ Tabla 'Tabla_InventarioFinal' creada y datos cargados exitosamente en la base de datos.\n",
      "('1_HARDERSFIELD_58', 1, 'HARDERSFIELD', 58, 'Gekkeikan Black & Gold Sake', '750mL', 11, 12.99, '2016-12-31', 142.89)\n",
      "('1_HARDERSFIELD_62', 1, 'HARDERSFIELD', 62, 'Herradura Silver Tequila', '750mL', 7, 36.99, '2016-12-31', 258.93)\n",
      "('1_HARDERSFIELD_63', 1, 'HARDERSFIELD', 63, 'Herradura Reposado Tequila', '750mL', 7, 38.99, '2016-12-31', 272.93)\n",
      "('1_HARDERSFIELD_72', 1, 'HARDERSFIELD', 72, 'No. 3 London Dry Gin', '750mL', 4, 34.99, '2016-12-31', 139.96)\n",
      "('1_HARDERSFIELD_75', 1, 'HARDERSFIELD', 75, 'Three Olives Tomato Vodka', '750mL', 7, 14.99, '2016-12-31', 104.93)\n"
     ]
    }
   ],
   "source": [
    "import pandas as pd\n",
    "from sqlalchemy import create_engine, text\n",
    "import pyodbc\n",
    "\n",
    "# 🗄️ Parámetros de conexión a la base de datos\n",
    "server_name = '190.172.70.140,1433'  # Dirección IP y puerto del servidor SQL Server\n",
    "database_name = 'COMERLOGISTICS'      # Nombre de la base de datos\n",
    "username = 'Carlos'                   # Tu usuario de SQL Server\n",
    "password = 'Dapt01'                   # Tu contraseña de SQL Server\n",
    "\n",
    "# 🛠️ Configurar la conexión usando pyodbc y sqlalchemy\n",
    "connection_string = f\"mssql+pyodbc://{username}:{password}@{server_name}/{database_name}?driver=ODBC+Driver+17+for+SQL+Server\"\n",
    "engine = create_engine(connection_string)\n",
    "\n",
    "# 📂 Cargar el archivo limpio en un DataFrame\n",
    "Inventario_final_df = pd.read_csv(r\"C:\\Users\\Administrator\\Documents\\CF\\CIENCIA DE DATOS IA\\Data Analytics\\Trabajo Final\\DataSet\\Tabla_InventarioFinal.csv\")\n",
    "\n",
    "# 📊 Crear la tabla en SQL Server\n",
    "Inventario_final_df.to_sql('Tabla_InventarioFinal', con=engine, if_exists='replace', index=False) # Lo primero que agregas dentro del parentesis es el nombre de como se va a llamar la tabla\n",
    "\n",
    "# ✔️ Confirmar que la tabla se ha creado correctamente\n",
    "print(\"✅ Tabla 'Tabla_InventarioFinal' creada y datos cargados exitosamente en la base de datos.\")\n",
    "\n",
    "# 🔍 Verificar la carga de datos (opcional)\n",
    "with engine.connect() as connection:\n",
    "    # Utilizar el método text() para ejecutar la consulta SQL\n",
    "    result = connection.execute(text(\"SELECT TOP 5 * FROM Tabla_InventarioFinal\"))\n",
    "    for row in result:\n",
    "        print(row)\n",
    "\n",
    "# 🔒 Cerrar la conexión si ya no se va a utilizar\n",
    "engine.dispose()"
   ]
  },
  {
   "cell_type": "markdown",
   "metadata": {},
   "source": [
    "--------"
   ]
  }
 ],
 "metadata": {
  "kernelspec": {
   "display_name": "Python 3",
   "language": "python",
   "name": "python3"
  },
  "language_info": {
   "codemirror_mode": {
    "name": "ipython",
    "version": 3
   },
   "file_extension": ".py",
   "mimetype": "text/x-python",
   "name": "python",
   "nbconvert_exporter": "python",
   "pygments_lexer": "ipython3",
   "version": "3.12.4"
  }
 },
 "nbformat": 4,
 "nbformat_minor": 2
}
