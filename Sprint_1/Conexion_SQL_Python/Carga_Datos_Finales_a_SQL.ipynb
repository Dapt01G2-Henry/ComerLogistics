{
 "cells": [
  {
   "cell_type": "markdown",
   "metadata": {},
   "source": [
    "# 🔧Configuración del entorno y conexión a SQL Server✅"
   ]
  },
  {
   "cell_type": "code",
   "execution_count": 1,
   "metadata": {},
   "outputs": [
    {
     "name": "stderr",
     "output_type": "stream",
     "text": [
      "\n",
      "[notice] A new release of pip is available: 24.1.2 -> 24.2\n",
      "[notice] To update, run: python.exe -m pip install --upgrade pip\n"
     ]
    },
    {
     "name": "stdout",
     "output_type": "stream",
     "text": [
      "Requirement already satisfied: sqlalchemy in c:\\users\\hernan\\appdata\\local\\programs\\python\\python312\\lib\\site-packages (2.0.32)\n",
      "Requirement already satisfied: pyodbc in c:\\users\\hernan\\appdata\\local\\programs\\python\\python312\\lib\\site-packages (5.1.0)\n",
      "Requirement already satisfied: pandas in c:\\users\\hernan\\appdata\\local\\programs\\python\\python312\\lib\\site-packages (2.2.2)\n",
      "Requirement already satisfied: typing-extensions>=4.6.0 in c:\\users\\hernan\\appdata\\local\\programs\\python\\python312\\lib\\site-packages (from sqlalchemy) (4.12.2)\n",
      "Requirement already satisfied: greenlet!=0.4.17 in c:\\users\\hernan\\appdata\\local\\programs\\python\\python312\\lib\\site-packages (from sqlalchemy) (3.0.3)\n",
      "Requirement already satisfied: numpy>=1.26.0 in c:\\users\\hernan\\appdata\\local\\programs\\python\\python312\\lib\\site-packages (from pandas) (2.0.0)\n",
      "Requirement already satisfied: python-dateutil>=2.8.2 in c:\\users\\hernan\\appdata\\roaming\\python\\python312\\site-packages (from pandas) (2.9.0.post0)\n",
      "Requirement already satisfied: pytz>=2020.1 in c:\\users\\hernan\\appdata\\local\\programs\\python\\python312\\lib\\site-packages (from pandas) (2024.1)\n",
      "Requirement already satisfied: tzdata>=2022.7 in c:\\users\\hernan\\appdata\\local\\programs\\python\\python312\\lib\\site-packages (from pandas) (2024.1)\n",
      "Requirement already satisfied: six>=1.5 in c:\\users\\hernan\\appdata\\roaming\\python\\python312\\site-packages (from python-dateutil>=2.8.2->pandas) (1.16.0)\n"
     ]
    }
   ],
   "source": [
    "! pip install sqlalchemy pyodbc pandas"
   ]
  },
  {
   "cell_type": "code",
   "execution_count": 2,
   "metadata": {},
   "outputs": [],
   "source": [
    "# Grabar las dependencias a utilizar para su posterior uso automatizado.\n",
    "! pip freeze > requirements.txt"
   ]
  },
  {
   "cell_type": "markdown",
   "metadata": {},
   "source": [
    "# 🔐Importar librerías y configurar la conexión📤"
   ]
  },
  {
   "cell_type": "markdown",
   "metadata": {},
   "source": [
    "# 📝Crear la estructura de la tabla en SQL Server📌"
   ]
  },
  {
   "cell_type": "markdown",
   "metadata": {},
   "source": [
    "# ✅Verificación y cierre de conexión🌐"
   ]
  },
  {
   "cell_type": "code",
   "execution_count": 9,
   "metadata": {},
   "outputs": [
    {
     "name": "stdout",
     "output_type": "stream",
     "text": [
      "✅ Tabla 'InvoicePurchases12312016' creada y datos cargados exitosamente en la base de datos.\n",
      "(105, 'ALTAMAR BRANDS LLC         ', '2016-01-04', 8124, '2015-12-21', '2016-02-16', 6, 214.26, 3.47, False)\n",
      "(4466, 'AMERICAN VINTAGE BEVERAGE  ', '2016-01-07', 8137, '2015-12-22', '2016-02-21', 15, 140.55, 8.57, False)\n",
      "(388, 'ATLANTIC IMPORTING COMPANY ', '2016-01-09', 8169, '2015-12-24', '2016-02-16', 5, 106.6, 4.61, False)\n",
      "(480, 'BACARDI USA INC            ', '2016-01-12', 8106, '2015-12-20', '2016-02-05', 10100, 137483.78, 2935.2, False)\n",
      "(516, 'BANFI PRODUCTS CORP        ', '2016-01-07', 8170, '2015-12-24', '2016-02-12', 1935, 15527.25, 429.2, False)\n"
     ]
    }
   ],
   "source": [
    "import pandas as pd\n",
    "from sqlalchemy import create_engine, text\n",
    "import pyodbc\n",
    "\n",
    "# 🗄️ Parámetros de conexión a la base de datos\n",
    "server_name = '190.172.70.140,1433'  # Dirección IP y puerto del servidor SQL Server\n",
    "database_name = 'COMERLOGISTICS'      # Nombre de la base de datos\n",
    "username = 'Hernan'                   # Tu usuario de SQL Server\n",
    "password = 'Dapt01'                   # Tu contraseña de SQL Server\n",
    "\n",
    "# 🛠️ Configurar la conexión usando pyodbc y sqlalchemy\n",
    "connection_string = f\"mssql+pyodbc://{username}:{password}@{server_name}/{database_name}?driver=ODBC+Driver+17+for+SQL+Server\"\n",
    "engine = create_engine(connection_string)\n",
    "\n",
    "# 📂 Cargar el archivo limpio en un DataFrame\n",
    "invoice_purchases_df = pd.read_csv(r'C:\\Users\\hernan\\Desktop\\Hernan\\henry\\Proyecto Final\\dataset\\Archivos Limpios\\InvoicePurchases12312016_clean.csv')\n",
    "\n",
    "# 📊 Crear la tabla en SQL Server\n",
    "invoice_purchases_df.to_sql('InvoicePurchases12312016', con=engine, if_exists='replace', index=False) # Lo primero que agregas dentro del parentesis es el nombre de como se va a llamar la tabla\n",
    "\n",
    "# ✔️ Confirmar que la tabla se ha creado correctamente\n",
    "print(\"✅ Tabla 'InvoicePurchases12312016' creada y datos cargados exitosamente en la base de datos.\")\n",
    "\n",
    "# 🔍 Verificar la carga de datos (opcional)\n",
    "with engine.connect() as connection:\n",
    "    # Utilizar el método text() para ejecutar la consulta SQL\n",
    "    result = connection.execute(text(\"SELECT TOP 5 * FROM InvoicePurchases12312016\"))\n",
    "    for row in result:\n",
    "        print(row)\n",
    "\n",
    "# 🔒 Cerrar la conexión si ya no se va a utilizar\n",
    "engine.dispose()\n"
   ]
  },
  {
   "cell_type": "markdown",
   "metadata": {},
   "source": [
    "------"
   ]
  },
  {
   "cell_type": "code",
   "execution_count": 5,
   "metadata": {},
   "outputs": [
    {
     "name": "stdout",
     "output_type": "stream",
     "text": [
      "✅ Tabla 'PurchasePricesDec' creada y datos cargados exitosamente en la base de datos.\n",
      "(58, 'Gekkeikan Black & Gold Sake', 12.99, '750mL', '750', 1, 9.28, 8320, 'SHAW ROSS INT L IMP LTD    ', 3.710000000000001, 750.0)\n",
      "(62, 'Herradura Silver Tequila', 36.99, '750mL', '750', 1, 28.67, 1128, 'BROWN-FORMAN CORP          ', 8.32, 750.0)\n",
      "(63, 'Herradura Reposado Tequila', 38.99, '750mL', '750', 1, 30.46, 1128, 'BROWN-FORMAN CORP          ', 8.530000000000001, 750.0)\n",
      "(72, 'No. 3 London Dry Gin', 34.99, '750mL', '750', 1, 26.11, 9165, 'ULTRA BEVERAGE COMPANY LLP ', 8.880000000000003, 750.0)\n",
      "(75, 'Three Olives Tomato Vodka', 14.99, '750mL', '750', 1, 10.94, 7245, 'PROXIMO SPIRITS INC.       ', 4.050000000000001, 750.0)\n"
     ]
    }
   ],
   "source": [
    "import pandas as pd\n",
    "from sqlalchemy import create_engine, text\n",
    "import pyodbc\n",
    "\n",
    "# 🗄️ Parámetros de conexión a la base de datos\n",
    "server_name = '190.172.70.140,1433'  # Dirección IP y puerto del servidor SQL Server\n",
    "database_name = 'COMERLOGISTICS'      # Nombre de la base de datos\n",
    "username = 'Daniela'                   # Tu usuario de SQL Server\n",
    "password = 'Dapt01'                   # Tu contraseña de SQL Server\n",
    "\n",
    "# 🛠️ Configurar la conexión usando pyodbc y sqlalchemy\n",
    "connection_string = f\"mssql+pyodbc://{username}:{password}@{server_name}/{database_name}?driver=ODBC+Driver+17+for+SQL+Server\"\n",
    "engine = create_engine(connection_string)\n",
    "\n",
    "# 📂 Cargar el archivo limpio en un DataFrame\n",
    "purchasePricesDec_df = pd.read_csv(r'C:\\Users\\danie\\OneDrive\\Escritorio\\GitProyectoFinal\\ComerLogistics\\Sprint_1\\EDA y ETL\\purchasePricesDec_new.csv')\n",
    "\n",
    "# 📊 Crear la tabla en SQL Server\n",
    "purchasePricesDec_df.to_sql('PurchasePricesDec', con=engine, if_exists='replace', index=False) # Lo primero que agregas dentro del parentesis es el nombre de como se va a llamar la tabla\n",
    "\n",
    "# ✔️ Confirmar que la tabla se ha creado correctamente\n",
    "print(\"✅ Tabla 'PurchasePricesDec' creada y datos cargados exitosamente en la base de datos.\")\n",
    "\n",
    "# 🔍 Verificar la carga de datos (opcional)\n",
    "with engine.connect() as connection:\n",
    "    # Utilizar el método text() para ejecutar la consulta SQL\n",
    "    result = connection.execute(text(\"SELECT TOP 5 * FROM PurchasePricesDec\"))\n",
    "    for row in result:\n",
    "        print(row)\n",
    "\n",
    "# 🔒 Cerrar la conexión si ya no se va a utilizar\n",
    "engine.dispose()"
   ]
  },
  {
   "cell_type": "code",
   "execution_count": 2,
   "metadata": {},
   "outputs": [
    {
     "name": "stdout",
     "output_type": "stream",
     "text": [
      "✅ Tabla 'PurchasesFINAL12312016' creada y datos cargados exitosamente en la base de datos.\n",
      "(58, 'Gekkeikan Black & Gold Sake', 12.99, '750mL', '750', 1, 9.28, 8320, 'SHAW ROSS INT L IMP LTD    ', 3.710000000000001, 750.0)\n",
      "(62, 'Herradura Silver Tequila', 36.99, '750mL', '750', 1, 28.67, 1128, 'BROWN-FORMAN CORP          ', 8.32, 750.0)\n",
      "(63, 'Herradura Reposado Tequila', 38.99, '750mL', '750', 1, 30.46, 1128, 'BROWN-FORMAN CORP          ', 8.530000000000001, 750.0)\n",
      "(72, 'No. 3 London Dry Gin', 34.99, '750mL', '750', 1, 26.11, 9165, 'ULTRA BEVERAGE COMPANY LLP ', 8.880000000000003, 750.0)\n",
      "(75, 'Three Olives Tomato Vodka', 14.99, '750mL', '750', 1, 10.94, 7245, 'PROXIMO SPIRITS INC.       ', 4.050000000000001, 750.0)\n"
     ]
    }
   ],
   "source": [
    "import pandas as pd\n",
    "from sqlalchemy import create_engine, text\n",
    "import pyodbc\n",
    "\n",
    "# 🗄️ Parámetros de conexión a la base de datos\n",
    "server_name = '190.172.70.140,1433'  # Dirección IP y puerto del servidor SQL Server\n",
    "database_name = 'COMERLOGISTICS'      # Nombre de la base de datos\n",
    "username = 'Ruben'                   # Tu usuario de SQL Server\n",
    "password = 'Dapt01'                   # Tu contraseña de SQL Server\n",
    "\n",
    "# 🛠️ Configurar la conexión usando pyodbc y sqlalchemy\n",
    "connection_string = f\"mssql+pyodbc://{username}:{password}@{server_name}/{database_name}?driver=ODBC+Driver+17+for+SQL+Server\"\n",
    "engine = create_engine(connection_string)\n",
    "\n",
    "# 📂 Cargar el archivo limpio en un DataFrame\n",
    "PurchasesFINAL12312016_df = pd.read_csv(r'C:\\Users\\hernan\\Desktop\\Hernan\\henry\\Proyecto Final\\dataset\\Archivos Limpios\\PurchasesFINAL12312016.csv')\n",
    "\n",
    "# 📊 Crear la tabla en SQL Server\n",
    "PurchasesFINAL12312016_df.to_sql('PurchasesFINAL12312016', con=engine, if_exists='replace', index=False) # Lo primero que agregas dentro del parentesis es el nombre de como se va a llamar la tabla\n",
    "\n",
    "# ✔️ Confirmar que la tabla se ha creado correctamente\n",
    "print(\"✅ Tabla 'PurchasesFINAL12312016' creada y datos cargados exitosamente en la base de datos.\")\n",
    "\n",
    "# 🔍 Verificar la carga de datos (opcional)\n",
    "with engine.connect() as connection:\n",
    "    # Utilizar el método text() para ejecutar la consulta SQL\n",
    "    result = connection.execute(text(\"SELECT TOP 5 * FROM PurchasePricesDec\"))\n",
    "    for row in result:\n",
    "        print(row)\n",
    "\n",
    "# 🔒 Cerrar la conexión si ya no se va a utilizar\n",
    "engine.dispose()"
   ]
  },
  {
   "cell_type": "markdown",
   "metadata": {},
   "source": [
    "---"
   ]
  },
  {
   "cell_type": "code",
   "execution_count": 1,
   "metadata": {},
   "outputs": [
    {
     "name": "stdout",
     "output_type": "stream",
     "text": [
      "✅ Tabla 'SalesFINAL12312016' creada y datos cargados exitosamente en la base de datos.\n",
      "('1_HARDERSFIELD_1004', 1, 1004, 'Jim Beam w/2 Rocks Glasses', '750mL', 1, 16.49, 16.49, '1/1/2016', 750, 1, 0.79, 12546, 'JIM BEAM BRANDS COMPANY    ')\n",
      "('1_HARDERSFIELD_1004', 1, 1004, 'Jim Beam w/2 Rocks Glasses', '750mL', 2, 32.98, 16.49, '1/2/2016', 750, 1, 1.57, 12546, 'JIM BEAM BRANDS COMPANY    ')\n",
      "('1_HARDERSFIELD_1004', 1, 1004, 'Jim Beam w/2 Rocks Glasses', '750mL', 1, 16.49, 16.49, '1/3/2016', 750, 1, 0.79, 12546, 'JIM BEAM BRANDS COMPANY    ')\n",
      "('1_HARDERSFIELD_1004', 1, 1004, 'Jim Beam w/2 Rocks Glasses', '750mL', 1, 14.49, 14.49, '1/8/2016', 750, 1, 0.79, 12546, 'JIM BEAM BRANDS COMPANY    ')\n",
      "('1_HARDERSFIELD_1005', 1, 1005, \"Maker's Mark Combo Pack\", '375mL 2 Pk', 2, 69.98, 34.99, '1/9/2016', 375, 1, 0.79, 12546, 'JIM BEAM BRANDS COMPANY    ')\n"
     ]
    }
   ],
   "source": [
    "import pandas as pd\n",
    "from sqlalchemy import create_engine, text\n",
    "import pyodbc\n",
    "\n",
    "# 🗄️ Parámetros de conexión a la base de datos\n",
    "server_name = '190.172.70.140,1433'  # Dirección IP y puerto del servidor SQL Server\n",
    "database_name = 'COMERLOGISTICS'      # Nombre de la base de datos\n",
    "username = 'Marcelo'                  # Tu usuario de SQL Server\n",
    "password = 'Dapt01'                   # Tu contraseña de SQL Server\n",
    "\n",
    "# 🛠️ Configurar la conexión usando pyodbc y sqlalchemy\n",
    "connection_string = f\"mssql+pyodbc://{username}:{password}@{server_name}/{database_name}?driver=ODBC+Driver+17+for+SQL+Server\"\n",
    "engine = create_engine(connection_string)\n",
    "\n",
    "# 📂 Cargar el archivo limpio en un DataFrame\n",
    "SalesFINAL12312016_df = pd.read_csv(r'C:\\Users\\mlope\\OneDrive\\Escritorio\\ProyectoFinalSoyHenry\\ARCHIVOS INICIALES\\SalesFINAL12312016.csv')\n",
    "\n",
    "# 📊 Crear la tabla en SQL Server\n",
    "SalesFINAL12312016_df.to_sql('SalesFINAL12312016', con=engine, if_exists='replace', index=False) # Lo primero que agregas dentro del parentesis es el nombre de como se va a llamar la tabla\n",
    "\n",
    "# ✔️ Confirmar que la tabla se ha creado correctamente\n",
    "print(\"✅ Tabla 'SalesFINAL12312016' creada y datos cargados exitosamente en la base de datos.\")\n",
    "\n",
    "# 🔍 Verificar la carga de datos (opcional)\n",
    "with engine.connect() as connection:\n",
    "    # Utilizar el método text() para ejecutar la consulta SQL\n",
    "    result = connection.execute(text(\"SELECT TOP 5 * FROM SalesFINAL12312016\"))\n",
    "    for row in result:\n",
    "        print(row)\n",
    "\n",
    "# 🔒 Cerrar la conexión si ya no se va a utilizar\n",
    "engine.dispose()"
   ]
  }
 ],
 "metadata": {
  "kernelspec": {
   "display_name": "Python 3",
   "language": "python",
   "name": "python3"
  },
  "language_info": {
   "codemirror_mode": {
    "name": "ipython",
    "version": 3
   },
   "file_extension": ".py",
   "mimetype": "text/x-python",
   "name": "python",
   "nbconvert_exporter": "python",
   "pygments_lexer": "ipython3",
   "version": "3.12.4"
  }
 },
 "nbformat": 4,
 "nbformat_minor": 2
}
