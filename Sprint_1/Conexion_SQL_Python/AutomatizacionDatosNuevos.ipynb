{
 "cells": [
  {
   "cell_type": "markdown",
   "metadata": {},
   "source": [
    "### 1. Crear el Script en Python:"
   ]
  },
  {
   "cell_type": "markdown",
   "metadata": {},
   "source": [
    "Abrimos el editor de texto y creamos un nuevo archivo llamado ingest_script.py"
   ]
  },
  {
   "cell_type": "markdown",
   "metadata": {},
   "source": [
    "Realizamos el codigo"
   ]
  },
  {
   "cell_type": "code",
   "execution_count": null,
   "metadata": {},
   "outputs": [],
   "source": [
    "import pandas as pd\n",
    "from sqlalchemy import create_engine\n",
    "import os\n",
    "\n",
    "# Configurar los parámetros de conexión\n",
    "server_name = '190.172.70.140,1433'\n",
    "database_name = 'COMERLOGISTICS'\n",
    "username = 'Carlos'\n",
    "password = 'Dapt01'\n",
    "connection_string = f\"mssql+pyodbc://{username}:{password}@{server_name}/{database_name}?driver=ODBC+Driver+17+for+SQL+Server\"\n",
    "engine = create_engine(connection_string)\n",
    "\n",
    "# Directorio donde se encuentran los archivos CSV\n",
    "data_directory = r'C:\\Users\\Administrator\\Documents\\CF\\CIENCIA DE DATOS IA\\Data Analytics\\Trabajo Final\\DataSet'\n",
    "\n",
    "# Lista de archivos, tablas correspondientes y nombres de columna ID\n",
    "files_and_tables = {\n",
    "    'Tabla_Compras.csv': ('Tabla_Compras', 'CompraID'),\n",
    "    'Tabla_Detallecompras.csv': ('Tabla_DetalleCompras', 'DetalleCompraID'),\n",
    "    'Tabla_InventarioFinal.csv': ('Tabla_InventarioFinal', 'InventarioFinalID'),\n",
    "    'Tabla_InventarioInicial.csv': ('Tabla_InventarioInicial', 'InventarioInicialID'),\n",
    "    'Tabla_Producto.csv': ('Tabla_Producto', 'ProductoID'),\n",
    "    'Tabla_VentasFinal.csv': ('Tabla_VentasFinal', 'VentaID')\n",
    "}\n",
    "\n",
    "# Función para cargar datos de forma incremental\n",
    "def ingest_data():\n",
    "    for file_name, (table_name, id_column) in files_and_tables.items():\n",
    "        file_path = os.path.join(data_directory, file_name)\n",
    "        if os.path.exists(file_path):\n",
    "            # Leer el CSV en un DataFrame\n",
    "            df = pd.read_csv(file_path)\n",
    "\n",
    "            # Leer los datos existentes de la tabla en un DataFrame\n",
    "            query = f\"SELECT {id_column} FROM {table_name}\"\n",
    "            existing_ids = pd.read_sql(query, con=engine)[id_column]\n",
    "\n",
    "            # Filtrar los datos nuevos\n",
    "            new_data = df[~df[id_column].isin(existing_ids)]\n",
    "\n",
    "            # Insertar solo los nuevos datos\n",
    "            if not new_data.empty:\n",
    "                new_data.to_sql(table_name, con=engine, if_exists='append', index=False)\n",
    "                print(f\"{len(new_data)} registros nuevos agregados a {table_name}\")\n",
    "            else:\n",
    "                print(f\"No hay nuevos registros para insertar en {table_name}\")\n",
    "        else:\n",
    "            print(f\"Archivo {file_name} no encontrado.\")\n",
    "\n",
    "# Ejecutar la ingesta de datos\n",
    "ingest_data()\n"
   ]
  },
  {
   "cell_type": "markdown",
   "metadata": {},
   "source": [
    "Guardamos el archivo como ingest_script.py en una ubicación accesible. C:\\Users\\Administrator\\Documents\\CF\\CIENCIA DE DATOS IA\\Data Analytics\\Trabajo Final\\Scripts."
   ]
  },
  {
   "cell_type": "markdown",
   "metadata": {},
   "source": [
    "### 2. Creamos un Archivo .bat para Ejecutar el Script"
   ]
  },
  {
   "cell_type": "markdown",
   "metadata": {},
   "source": [
    "Creamos el Archivo .bat:"
   ]
  },
  {
   "cell_type": "code",
   "execution_count": null,
   "metadata": {},
   "outputs": [],
   "source": [
    "@echo off\n",
    "cd C:\\Users\\Administrator\\Documents\\CF\\CIENCIA DE DATOS IA\\Data Analytics\\Trabajo Final\\Scripts\n",
    "python ingest_script.py\n"
   ]
  },
  {
   "cell_type": "markdown",
   "metadata": {},
   "source": [
    "Guardamos el archivo como run_ingest_script.bat en la misma carpeta donde tenemos el script de Python"
   ]
  }
 ],
 "metadata": {
  "language_info": {
   "name": "python"
  }
 },
 "nbformat": 4,
 "nbformat_minor": 2
}
