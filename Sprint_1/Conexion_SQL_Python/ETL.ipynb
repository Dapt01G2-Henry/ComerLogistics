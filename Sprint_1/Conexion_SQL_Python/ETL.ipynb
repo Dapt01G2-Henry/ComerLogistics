{
 "cells": [
  {
   "cell_type": "markdown",
   "metadata": {},
   "source": [
    "# 🚧Tansformaciones en SQL 🖥️\n",
    "## 📌1: Cambiar el nombre de la tabla 🔄\n",
    "## 📌2: Renombrar las columnas 🛠️\n",
    "## 📌3: Establecer la columna CompraID como clave primaria 🗝️"
   ]
  },
  {
   "cell_type": "markdown",
   "metadata": {},
   "source": [
    "### 🔧Configuración del entorno"
   ]
  },
  {
   "cell_type": "code",
   "execution_count": null,
   "metadata": {},
   "outputs": [],
   "source": [
    "! pip install sqlalchemy pyodbc pandas"
   ]
  },
  {
   "cell_type": "code",
   "execution_count": null,
   "metadata": {},
   "outputs": [],
   "source": [
    "from sqlalchemy import create_engine, text\n",
    "\n",
    "# 🚀 Parámetros de conexión\n",
    "server_name = '190.172.70.140,1433'\n",
    "database_name = 'COMERLOGISTICS'\n",
    "username = 'Hernan'\n",
    "password = 'Dapt01'\n",
    "\n",
    "# 🌐 Crear la conexión con la base de datos\n",
    "engine = create_engine(f'mssql+pyodbc://{username}:{password}@{server_name}/{database_name}?driver=ODBC+Driver+17+for+SQL+Server')\n",
    "\n",
    "# 🔄 Cambiar el nombre de la tabla\n",
    "rename_table_sql = text(\"\"\"\n",
    "    EXEC sp_rename 'InvoicePurchases12312016', 'Tabla_Compras';\n",
    "\"\"\")\n",
    "\n",
    "# 🛠️ Renombrar las columnas según el diccionario proporcionado\n",
    "rename_columns_sql = text(\"\"\"\n",
    "    EXEC sp_rename 'Tabla_Compras.VendorNumber', 'ProveedorID', 'COLUMN';\n",
    "    EXEC sp_rename 'Tabla_Compras.VendorName', 'Nombre_proveedor', 'COLUMN';\n",
    "    EXEC sp_rename 'Tabla_Compras.InvoiceDate', 'Fecha_compra', 'COLUMN';\n",
    "    EXEC sp_rename 'Tabla_Compras.PONumber', 'CompraID', 'COLUMN';\n",
    "    EXEC sp_rename 'Tabla_Compras.PODate', 'Fecha_ordencompra', 'COLUMN';\n",
    "    EXEC sp_rename 'Tabla_Compras.PayDate', 'Fecha_pago', 'COLUMN';\n",
    "    EXEC sp_rename 'Tabla_Compras.Quantity', 'Cantidad', 'COLUMN';\n",
    "    EXEC sp_rename 'Tabla_Compras.Dollars', 'Importe', 'COLUMN';\n",
    "    EXEC sp_rename 'Tabla_Compras.Freight', 'Costo_envio', 'COLUMN';\n",
    "    EXEC sp_rename 'Tabla_Compras.Approval', 'Aprobacion', 'COLUMN';\n",
    "\"\"\")\n",
    "\n",
    "# 🗝️ Establecer la columna 'CompraID' como clave primaria\n",
    "set_primary_key_sql = text(\"\"\"\n",
    "    ALTER TABLE Tabla_Compras\n",
    "    ADD CONSTRAINT PK_CompraID PRIMARY KEY (CompraID);\n",
    "\"\"\")\n",
    "\n",
    "# 💾 Ejecutar los comandos SQL\n",
    "with engine.connect() as connection:\n",
    "    connection.execute(rename_table_sql)    # ⚙️ Cambiando nombre de la tabla\n",
    "    connection.execute(rename_columns_sql)  # 🔧 Renombrando columnas\n",
    "    connection.execute(set_primary_key_sql) # 🔐 Estableciendo clave primaria\n",
    "\n",
    "print(\"✅ Tabla renombrada, columnas actualizadas y clave primaria establecida con éxito.\")\n",
    "\n",
    "# 🔒 Cerrar la conexión si ya no se va a utilizar\n",
    "engine.dispose()"
   ]
  }
 ],
 "metadata": {
  "language_info": {
   "name": "python"
  }
 },
 "nbformat": 4,
 "nbformat_minor": 2
}
