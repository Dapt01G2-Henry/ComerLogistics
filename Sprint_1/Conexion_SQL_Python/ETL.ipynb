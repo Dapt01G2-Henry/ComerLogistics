{
 "cells": [
  {
   "cell_type": "markdown",
   "metadata": {},
   "source": [
    "# 🚧Tansformaciones en SQL 🖥️"
   ]
  },
  {
   "cell_type": "markdown",
   "metadata": {},
   "source": [
    "### 🔧Configuración del entorno"
   ]
  },
  {
   "cell_type": "code",
   "execution_count": 2,
   "metadata": {},
   "outputs": [
    {
     "name": "stdout",
     "output_type": "stream",
     "text": [
      "Requirement already satisfied: sqlalchemy in c:\\users\\hernan\\appdata\\local\\programs\\python\\python312\\lib\\site-packages (2.0.32)\n",
      "Requirement already satisfied: pyodbc in c:\\users\\hernan\\appdata\\local\\programs\\python\\python312\\lib\\site-packages (5.1.0)\n",
      "Requirement already satisfied: pandas in c:\\users\\hernan\\appdata\\local\\programs\\python\\python312\\lib\\site-packages (2.2.2)\n",
      "Requirement already satisfied: typing-extensions>=4.6.0 in c:\\users\\hernan\\appdata\\local\\programs\\python\\python312\\lib\\site-packages (from sqlalchemy) (4.12.2)\n",
      "Requirement already satisfied: greenlet!=0.4.17 in c:\\users\\hernan\\appdata\\local\\programs\\python\\python312\\lib\\site-packages (from sqlalchemy) (3.0.3)\n",
      "Requirement already satisfied: numpy>=1.26.0 in c:\\users\\hernan\\appdata\\local\\programs\\python\\python312\\lib\\site-packages (from pandas) (2.0.0)\n",
      "Requirement already satisfied: python-dateutil>=2.8.2 in c:\\users\\hernan\\appdata\\roaming\\python\\python312\\site-packages (from pandas) (2.9.0.post0)\n",
      "Requirement already satisfied: pytz>=2020.1 in c:\\users\\hernan\\appdata\\local\\programs\\python\\python312\\lib\\site-packages (from pandas) (2024.1)\n",
      "Requirement already satisfied: tzdata>=2022.7 in c:\\users\\hernan\\appdata\\local\\programs\\python\\python312\\lib\\site-packages (from pandas) (2024.1)\n",
      "Requirement already satisfied: six>=1.5 in c:\\users\\hernan\\appdata\\roaming\\python\\python312\\site-packages (from python-dateutil>=2.8.2->pandas) (1.16.0)\n"
     ]
    },
    {
     "name": "stderr",
     "output_type": "stream",
     "text": [
      "\n",
      "[notice] A new release of pip is available: 24.1.2 -> 24.2\n",
      "[notice] To update, run: python.exe -m pip install --upgrade pip\n"
     ]
    }
   ],
   "source": [
    "! pip install sqlalchemy pyodbc pandas"
   ]
  },
  {
   "cell_type": "markdown",
   "metadata": {},
   "source": [
    "### 📌1: Cambiar el nombre de la tabla 🔄\n",
    "### 📌2: Renombrar las columnas 🛠️\n",
    "### 📌3: Establecer la columna CompraID como clave primaria 🗝️"
   ]
  },
  {
   "cell_type": "code",
   "execution_count": 3,
   "metadata": {},
   "outputs": [
    {
     "name": "stdout",
     "output_type": "stream",
     "text": [
      "➡️ Ejecutando cambio de nombre de la tabla...\n",
      "✅ Cambio de nombre de la tabla ejecutado.\n",
      "➡️ Ejecutando cambio de nombre de las columnas...\n",
      "✅ Cambio de nombre de las columnas ejecutado.\n",
      "➡️ Estableciendo columna CompraID como NOT NULL...\n",
      "✅ Columna CompraID establecida como NOT NULL.\n",
      "➡️ Estableciendo clave primaria en la columna CompraID...\n",
      "✅ Clave primaria establecida.\n",
      "🔒 Conexión cerrada.\n"
     ]
    }
   ],
   "source": [
    "import pandas as pd\n",
    "from sqlalchemy import create_engine, text\n",
    "import pyodbc\n",
    "\n",
    "# 🚀 Parámetros de conexión\n",
    "server_name = '190.172.70.140,1433'\n",
    "database_name = 'COMERLOGISTICS'\n",
    "username = 'Hernan'\n",
    "password = 'Dapt01'\n",
    "\n",
    "# 🌐 Crear la conexión con la base de datos\n",
    "engine = create_engine(f'mssql+pyodbc://{username}:{password}@{server_name}/{database_name}?driver=ODBC+Driver+17+for+SQL+Server')\n",
    "\n",
    "# 🔄 Cambiar el nombre de la tabla\n",
    "rename_table_sql = text(\"\"\"\n",
    "    EXEC sp_rename 'InvoicePurchases12312016', 'Tabla_Compras';\n",
    "\"\"\")\n",
    "\n",
    "# 🛠️ Renombrar las columnas según el Siguiente diccionario\n",
    "rename_columns_sql = text(\"\"\"\n",
    "    EXEC sp_rename 'Tabla_Compras.VendorNumber', 'ProveedorID', 'COLUMN';\n",
    "    EXEC sp_rename 'Tabla_Compras.VendorName', 'Nombre_proveedor', 'COLUMN';\n",
    "    EXEC sp_rename 'Tabla_Compras.InvoiceDate', 'Fecha_compra', 'COLUMN';\n",
    "    EXEC sp_rename 'Tabla_Compras.PONumber', 'CompraID', 'COLUMN';\n",
    "    EXEC sp_rename 'Tabla_Compras.PODate', 'Fecha_ordencompra', 'COLUMN';\n",
    "    EXEC sp_rename 'Tabla_Compras.PayDate', 'Fecha_pago', 'COLUMN';\n",
    "    EXEC sp_rename 'Tabla_Compras.Quantity', 'Cantidad', 'COLUMN';\n",
    "    EXEC sp_rename 'Tabla_Compras.Dollars', 'Importe', 'COLUMN';\n",
    "    EXEC sp_rename 'Tabla_Compras.Freight', 'Costo_envio', 'COLUMN';\n",
    "    EXEC sp_rename 'Tabla_Compras.Approval', 'Aprobacion', 'COLUMN';\n",
    "\"\"\")\n",
    "\n",
    "# 🗝️ Establecer la columna 'CompraID' como NOT NULL y clave primaria 🔄\n",
    "set_primary_key_sql = text(\"\"\"\n",
    "    ALTER TABLE Tabla_Compras\n",
    "    ALTER COLUMN CompraID INT NOT NULL;                       \n",
    "    ADD CONSTRAINT PK_CompraID PRIMARY KEY (CompraID);\n",
    "\"\"\")\n",
    "\n",
    "# 💾 Ejecutar los comandos SQL\n",
    "with engine.connect() as connection:\n",
    "    print(\"➡️ Ejecutando cambio de nombre de la tabla...\")\n",
    "    connection.execute(rename_table_sql)\n",
    "    print(\"✅ Cambio de nombre de la tabla ejecutado.\")\n",
    "    connection.commit()\n",
    "\n",
    "    print(\"➡️ Ejecutando cambio de nombre de las columnas...\")\n",
    "    connection.execute(rename_columns_sql)\n",
    "    print(\"✅ Cambio de nombre de las columnas ejecutado.\")\n",
    "    connection.commit()\n",
    "\n",
    "    print(\"➡️ Estableciendo NOT NULL y clave primaria en la columna CompraID...\")\n",
    "    connection.execute(set_primary_key_sql)\n",
    "    print(\"✅ Columna CompraID establecida como NOT NULL y Clave primaria.\")\n",
    "    connection.commit()\n",
    "\n",
    "# 🔒 Cerrar la conexión si ya no se va a utilizar\n",
    "engine.dispose()\n",
    "print(\"🔒 Conexión cerrada.\")"
   ]
  },
  {
   "cell_type": "markdown",
   "metadata": {},
   "source": [
    "-----"
   ]
  },
  {
   "cell_type": "markdown",
   "metadata": {},
   "source": [
    "## (Marcelo - Prueba a Mejorar) 🚩"
   ]
  },
  {
   "cell_type": "code",
   "execution_count": 10,
   "metadata": {},
   "outputs": [
    {
     "name": "stdout",
     "output_type": "stream",
     "text": [
      "➡️ Ejecutando cambio de nombre de la tabla...\n",
      "✅ Cambio de nombre de la tabla ejecutado.\n",
      "➡️ Ejecutando cambio de nombre de las columnas...\n",
      "✅ Cambio de nombre de las columnas ejecutado.\n",
      "➡️ Ejecutando la eliminación de la columna 'Tamaño' y adición de nuevas columnas...\n",
      "✅ Columnas modificadas.\n",
      "➡️ Asignando valores únicos a 'Inventario_inicialID'...\n",
      "✅ Valores asignados a 'Inventario_inicialID'.\n",
      "➡️ Estableciendo clave primaria y claves foráneas...\n",
      "✅ Claves establecidas.\n",
      "🔒 Conexión cerrada.\n"
     ]
    }
   ],
   "source": [
    "import pandas as pd\n",
    "from sqlalchemy import create_engine, text\n",
    "import pyodbc\n",
    "\n",
    "# 🚀 Parámetros de conexión\n",
    "server_name = '190.172.70.140,1433'\n",
    "database_name = 'COMERLOGISTICS'\n",
    "username = 'Marcelo'\n",
    "password = 'Dapt01'\n",
    "\n",
    "# 🌐 Crear la conexión con la base de datos\n",
    "engine = create_engine(f'mssql+pyodbc://{username}:{password}@{server_name}/{database_name}?driver=ODBC+Driver+17+for+SQL+Server')\n",
    "\n",
    "# 🔄 Cambiar el nombre de la tabla\n",
    "rename_table_sql = text(\"\"\"\n",
    "    EXEC sp_rename 'dbo.SalesFINAL12312016', 'Tabla_VentasFinal';\n",
    "\"\"\")\n",
    "\n",
    "# 🛠️ Renombrar columnas directamente en la base de datos\n",
    "rename_columns_sql = text(\"\"\"\n",
    "    EXEC sp_rename 'Tabla_VentasFinal.InventoryId', 'InventarioID', 'COLUMN';\n",
    "    EXEC sp_rename 'Tabla_VentasFinal.Store', 'Tienda', 'COLUMN';\n",
    "    EXEC sp_rename 'Tabla_VentasFinal.Brand', 'MarcaID', 'COLUMN';\n",
    "    EXEC sp_rename 'Tabla_VentasFinal.Description', 'Descripcion', 'COLUMN';\n",
    "    EXEC sp_rename 'Tabla_VentasFinal.Size', 'Tamaño', 'COLUMN';\n",
    "    EXEC sp_rename 'Tabla_VentasFinal.SalesQuantity', 'Cantidad_Ventas', 'COLUMN';\n",
    "    EXEC sp_rename 'Tabla_VentasFinal.SalesDollars', 'Venta_Total', 'COLUMN';\n",
    "    EXEC sp_rename 'Tabla_VentasFinal.SalesPrice', 'Precio_Unitario', 'COLUMN';\n",
    "    EXEC sp_rename 'Tabla_VentasFinal.SalesDate', 'Fecha_Venta', 'COLUMN';\n",
    "    EXEC sp_rename 'Tabla_VentasFinal.Volume', 'Volumen', 'COLUMN';\n",
    "    EXEC sp_rename 'Tabla_VentasFinal.Classification', 'Clasificacion', 'COLUMN';\n",
    "    EXEC sp_rename 'Tabla_VentasFinal.ExciseTax', 'Impuesto', 'COLUMN';\n",
    "    EXEC sp_rename 'Tabla_VentasFinal.VendorNo', 'ProveedorID', 'COLUMN';\n",
    "    EXEC sp_rename 'Tabla_VentasFinal.VendorName', 'Nombre_Proveedor', 'COLUMN';\n",
    "\"\"\")\n",
    "\n",
    "# Crear nuevas columnas e insertar valores:\n",
    "add_columns_sql = text(\"\"\"\n",
    "    ALTER TABLE Tabla_VentasFinal\n",
    "    ADD Inventario_inicialID INT,  -- Definir como columna normal para usarla como FK\n",
    "        VentasID INT IDENTITY(1,1);  -- Definir como IDENTITY para usarla como PK\n",
    "\n",
    "    ALTER TABLE Tabla_VentasFinal\n",
    "    DROP COLUMN Tamaño;  -- Eliminar la columna Tamaño;\n",
    "\"\"\")\n",
    "\n",
    "# Asignar valores únicos a Inventario_inicialID usando una CTE\n",
    "assign_values_sql = text(\"\"\"\n",
    "    WITH CTE AS (\n",
    "        SELECT ROW_NUMBER() OVER (ORDER BY (SELECT NULL)) AS row_num, InventarioID\n",
    "        FROM Tabla_VentasFinal\n",
    "    )\n",
    "    UPDATE Tabla_VentasFinal\n",
    "    SET Inventario_inicialID = CTE.row_num\n",
    "    FROM Tabla_VentasFinal\n",
    "    JOIN CTE ON Tabla_VentasFinal.InventarioID = CTE.InventarioID;\n",
    "\"\"\")\n",
    "\n",
    "# Establecer la clave primaria y claves foráneas:\n",
    "set_keys_sql = text(\"\"\"\n",
    "    -- Establecer la columna VentasID como PK\n",
    "    ALTER TABLE Tabla_VentasFinal\n",
    "    ADD CONSTRAINT PK_VentasID PRIMARY KEY (VentasID);\n",
    "\n",
    "    -- Establecer la FK en Inventario_inicialID referenciando a Tabla_InventarioInicial\n",
    "    --ALTER TABLE Tabla_VentasFinal\n",
    "    --ADD CONSTRAINT FK_Inventario_inicial FOREIGN KEY (Inventario_inicialID)\n",
    "    --REFERENCES Tabla_InventarioInicial(Inventario_inicialID);\n",
    "\n",
    "    -- Establecer la FK en MarcaID referenciando a Tabla_Producto\n",
    "    --ALTER TABLE Tabla_VentasFinal\n",
    "    --ADD CONSTRAINT FK_MarcaID FOREIGN KEY (MarcaID)\n",
    "    --REFERENCES Tabla_Producto(MarcaID);\n",
    "\"\"\")\n",
    "\n",
    "# Ejecutar los comandos SQL\n",
    "with engine.connect() as connection:\n",
    "    print(\"➡️ Ejecutando cambio de nombre de la tabla...\")\n",
    "    connection.execute(rename_table_sql)\n",
    "    print(\"✅ Cambio de nombre de la tabla ejecutado.\")\n",
    "\n",
    "    print(\"➡️ Ejecutando cambio de nombre de las columnas...\")\n",
    "    connection.execute(rename_columns_sql)\n",
    "    print(\"✅ Cambio de nombre de las columnas ejecutado.\")\n",
    "\n",
    "    print(\"➡️ Ejecutando la eliminación de la columna 'Tamaño' y adición de nuevas columnas...\")\n",
    "    connection.execute(add_columns_sql)\n",
    "    print(\"✅ Columnas modificadas.\")\n",
    "\n",
    "    print(\"➡️ Asignando valores únicos a 'Inventario_inicialID'...\")\n",
    "    connection.execute(assign_values_sql)\n",
    "    print(\"✅ Valores asignados a 'Inventario_inicialID'.\")\n",
    "\n",
    "    print(\"➡️ Estableciendo clave primaria y claves foráneas...\")\n",
    "    connection.execute(set_keys_sql)\n",
    "    print(\"✅ Claves establecidas.\")\n",
    "\n",
    "# 🔒 Cerrar la conexión si ya no se va a utilizar\n",
    "engine.dispose()\n",
    "print(\"🔒 Conexión cerrada.\")\n"
   ]
  }
 ],
 "metadata": {
  "kernelspec": {
   "display_name": "Python 3",
   "language": "python",
   "name": "python3"
  },
  "language_info": {
   "codemirror_mode": {
    "name": "ipython",
    "version": 3
   },
   "file_extension": ".py",
   "mimetype": "text/x-python",
   "name": "python",
   "nbconvert_exporter": "python",
   "pygments_lexer": "ipython3",
   "version": "3.12.4"
  }
 },
 "nbformat": 4,
 "nbformat_minor": 2
}
