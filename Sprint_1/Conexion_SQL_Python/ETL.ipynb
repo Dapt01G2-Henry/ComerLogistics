{
 "cells": [
  {
   "cell_type": "markdown",
   "metadata": {},
   "source": [
    "# 🚧Tansformaciones en SQL 🖥️\n",
    "## 📌1: Cambiar el nombre de la tabla 🔄\n",
    "## 📌2: Renombrar las columnas 🛠️\n",
    "## 📌3: Establecer la columna CompraID como clave primaria 🗝️"
   ]
  },
  {
   "cell_type": "markdown",
   "metadata": {},
   "source": [
    "### 🔧Configuración del entorno"
   ]
  },
  {
   "cell_type": "code",
   "execution_count": 11,
   "metadata": {},
   "outputs": [
    {
     "name": "stdout",
     "output_type": "stream",
     "text": [
      "Requirement already satisfied: sqlalchemy in c:\\users\\hernan\\appdata\\local\\programs\\python\\python312\\lib\\site-packages (2.0.32)\n",
      "Requirement already satisfied: pyodbc in c:\\users\\hernan\\appdata\\local\\programs\\python\\python312\\lib\\site-packages (5.1.0)\n",
      "Requirement already satisfied: pandas in c:\\users\\hernan\\appdata\\local\\programs\\python\\python312\\lib\\site-packages (2.2.2)\n",
      "Requirement already satisfied: typing-extensions>=4.6.0 in c:\\users\\hernan\\appdata\\local\\programs\\python\\python312\\lib\\site-packages (from sqlalchemy) (4.12.2)\n",
      "Requirement already satisfied: greenlet!=0.4.17 in c:\\users\\hernan\\appdata\\local\\programs\\python\\python312\\lib\\site-packages (from sqlalchemy) (3.0.3)\n",
      "Requirement already satisfied: numpy>=1.26.0 in c:\\users\\hernan\\appdata\\local\\programs\\python\\python312\\lib\\site-packages (from pandas) (2.0.0)\n",
      "Requirement already satisfied: python-dateutil>=2.8.2 in c:\\users\\hernan\\appdata\\roaming\\python\\python312\\site-packages (from pandas) (2.9.0.post0)\n",
      "Requirement already satisfied: pytz>=2020.1 in c:\\users\\hernan\\appdata\\local\\programs\\python\\python312\\lib\\site-packages (from pandas) (2024.1)\n",
      "Requirement already satisfied: tzdata>=2022.7 in c:\\users\\hernan\\appdata\\local\\programs\\python\\python312\\lib\\site-packages (from pandas) (2024.1)\n",
      "Requirement already satisfied: six>=1.5 in c:\\users\\hernan\\appdata\\roaming\\python\\python312\\site-packages (from python-dateutil>=2.8.2->pandas) (1.16.0)\n"
     ]
    },
    {
     "name": "stderr",
     "output_type": "stream",
     "text": [
      "\n",
      "[notice] A new release of pip is available: 24.1.2 -> 24.2\n",
      "[notice] To update, run: python.exe -m pip install --upgrade pip\n"
     ]
    }
   ],
   "source": [
    "! pip install sqlalchemy pyodbc pandas"
   ]
  },
  {
   "cell_type": "code",
   "execution_count": 12,
   "metadata": {},
   "outputs": [
    {
     "name": "stdout",
     "output_type": "stream",
     "text": [
      "➡️ Ejecutando cambio de nombre de la tabla...\n",
      "✅ Cambio de nombre de la tabla ejecutado.\n",
      "➡️ Ejecutando cambio de nombre de las columnas...\n",
      "✅ Cambio de nombre de las columnas ejecutado.\n",
      "➡️ Estableciendo columna CompraID como NOT NULL...\n",
      "✅ Columna CompraID establecida como NOT NULL.\n",
      "➡️ Estableciendo clave primaria en la columna CompraID...\n",
      "✅ Clave primaria establecida.\n",
      "🔒 Conexión cerrada.\n"
     ]
    }
   ],
   "source": [
    "from sqlalchemy import create_engine, text\n",
    "\n",
    "# 🚀 Parámetros de conexión\n",
    "server_name = '190.172.70.140,1433'\n",
    "database_name = 'COMERLOGISTICS'\n",
    "username = 'Hernan'\n",
    "password = 'Dapt01'\n",
    "\n",
    "# 🌐 Crear la conexión con la base de datos\n",
    "engine = create_engine(f'mssql+pyodbc://{username}:{password}@{server_name}/{database_name}?driver=ODBC+Driver+17+for+SQL+Server')\n",
    "\n",
    "# 🔄 Cambiar el nombre de la tabla\n",
    "rename_table_sql = text(\"\"\"\n",
    "    EXEC sp_rename 'InvoicePurchases12312016', 'Tabla_Compras';\n",
    "\"\"\")\n",
    "\n",
    "# 🛠️ Renombrar las columnas según el Siguiente diccionario\n",
    "rename_columns_sql = text(\"\"\"\n",
    "    EXEC sp_rename 'Tabla_Compras.VendorNumber', 'ProveedorID', 'COLUMN';\n",
    "    EXEC sp_rename 'Tabla_Compras.VendorName', 'Nombre_proveedor', 'COLUMN';\n",
    "    EXEC sp_rename 'Tabla_Compras.InvoiceDate', 'Fecha_compra', 'COLUMN';\n",
    "    EXEC sp_rename 'Tabla_Compras.PONumber', 'CompraID', 'COLUMN';\n",
    "    EXEC sp_rename 'Tabla_Compras.PODate', 'Fecha_ordencompra', 'COLUMN';\n",
    "    EXEC sp_rename 'Tabla_Compras.PayDate', 'Fecha_pago', 'COLUMN';\n",
    "    EXEC sp_rename 'Tabla_Compras.Quantity', 'Cantidad', 'COLUMN';\n",
    "    EXEC sp_rename 'Tabla_Compras.Dollars', 'Importe', 'COLUMN';\n",
    "    EXEC sp_rename 'Tabla_Compras.Freight', 'Costo_envio', 'COLUMN';\n",
    "    EXEC sp_rename 'Tabla_Compras.Approval', 'Aprobacion', 'COLUMN';\n",
    "\"\"\")\n",
    "\n",
    "# 🔄 Establece la columna como NOT NULL:\n",
    "table_columns_notnull = text(\"\"\"\n",
    "    ALTER TABLE Tabla_Compras\n",
    "ALTER COLUMN CompraID INT NOT NULL;\n",
    "\"\"\")\n",
    "\n",
    "# 🗝️ Establecer la columna 'CompraID' como clave primaria\n",
    "set_primary_key_sql = text(\"\"\"\n",
    "    ALTER TABLE Tabla_Compras\n",
    "    ADD CONSTRAINT PK_CompraID PRIMARY KEY (CompraID);\n",
    "\"\"\")\n",
    "\n",
    "# 💾 Ejecutar los comandos SQL\n",
    "with engine.connect() as connection:\n",
    "    print(\"➡️ Ejecutando cambio de nombre de la tabla...\")\n",
    "    connection.execute(rename_table_sql)\n",
    "    print(\"✅ Cambio de nombre de la tabla ejecutado.\")\n",
    "    connection.commit()\n",
    "\n",
    "    print(\"➡️ Ejecutando cambio de nombre de las columnas...\")\n",
    "    connection.execute(rename_columns_sql)\n",
    "    print(\"✅ Cambio de nombre de las columnas ejecutado.\")\n",
    "    connection.commit()\n",
    "\n",
    "    print(\"➡️ Estableciendo columna CompraID como NOT NULL...\")\n",
    "    connection.execute(table_columns_notnull)\n",
    "    print(\"✅ Columna CompraID establecida como NOT NULL.\")\n",
    "    connection.commit()\n",
    "\n",
    "    print(\"➡️ Estableciendo clave primaria en la columna CompraID...\")\n",
    "    connection.execute(set_primary_key_sql)\n",
    "    print(\"✅ Clave primaria establecida.\")\n",
    "    connection.commit()\n",
    "\n",
    "# 🔒 Cerrar la conexión si ya no se va a utilizar\n",
    "engine.dispose()\n",
    "print(\"🔒 Conexión cerrada.\")"
   ]
  },
  {
   "cell_type": "markdown",
   "metadata": {},
   "source": [
    "-----"
   ]
  },
  {
   "cell_type": "markdown",
   "metadata": {},
   "source": [
    "## (Marcelo - Prueba a Mejorar) 🚩"
   ]
  },
  {
   "cell_type": "code",
   "execution_count": 15,
   "metadata": {},
   "outputs": [
    {
     "name": "stdout",
     "output_type": "stream",
     "text": [
      "➡️ Ejecutando cambio de nombre de la tabla...\n",
      "✅ Cambio de nombre de la tabla ejecutado.\n",
      "➡️ Ejecutando cambio de nombre de las columnas...\n",
      "✅ Cambio de nombre de las columnas ejecutado.\n",
      "➡️ Ejecutando la eliminación de la columna 'Tamaño' y adición de nuevas columnas...\n",
      "✅ Columnas modificadas.\n",
      "➡️ Asignando valores únicos a 'Inventario_inicialID'...\n",
      "✅ Valores asignados a 'Inventario_inicialID'.\n",
      "➡️ Estableciendo clave primaria y claves foráneas...\n"
     ]
    },
    {
     "ename": "ProgrammingError",
     "evalue": "(pyodbc.ProgrammingError) ('42000', \"[42000] [Microsoft][ODBC Driver 17 for SQL Server][SQL Server]Foreign key 'FK_Inventario_inicial' references invalid table 'Tabla_InventarioInicial'. (1767) (SQLExecDirectW); [42000] [Microsoft][ODBC Driver 17 for SQL Server][SQL Server]Could not create constraint or index. See previous errors. (1750)\")\n[SQL: \n    -- Establecer la columna VentasID como PK\n    ALTER TABLE Tabla_VentasFinal\n    ADD CONSTRAINT PK_VentasID PRIMARY KEY (VentasID);\n\n    -- Establecer la FK en Inventario_inicialID referenciando a Tabla_InventarioInicial\n    ALTER TABLE Tabla_VentasFinal\n    ADD CONSTRAINT FK_Inventario_inicial FOREIGN KEY (Inventario_inicialID)\n    REFERENCES Tabla_InventarioInicial(Inventario_inicialID);\n\n    -- Establecer la FK en MarcaID referenciando a Tabla_Producto\n    ALTER TABLE Tabla_VentasFinal\n    ADD CONSTRAINT FK_MarcaID FOREIGN KEY (MarcaID)\n    REFERENCES Tabla_Producto(MarcaID);\n]\n(Background on this error at: https://sqlalche.me/e/20/f405)",
     "output_type": "error",
     "traceback": [
      "\u001b[1;31m---------------------------------------------------------------------------\u001b[0m",
      "\u001b[1;31mProgrammingError\u001b[0m                          Traceback (most recent call last)",
      "File \u001b[1;32mc:\\Users\\mlope\\AppData\\Local\\Programs\\Python\\Python312\\Lib\\site-packages\\sqlalchemy\\engine\\base.py:1967\u001b[0m, in \u001b[0;36mConnection._exec_single_context\u001b[1;34m(self, dialect, context, statement, parameters)\u001b[0m\n\u001b[0;32m   1966\u001b[0m     \u001b[38;5;28;01mif\u001b[39;00m \u001b[38;5;129;01mnot\u001b[39;00m evt_handled:\n\u001b[1;32m-> 1967\u001b[0m         \u001b[38;5;28;43mself\u001b[39;49m\u001b[38;5;241;43m.\u001b[39;49m\u001b[43mdialect\u001b[49m\u001b[38;5;241;43m.\u001b[39;49m\u001b[43mdo_execute\u001b[49m\u001b[43m(\u001b[49m\n\u001b[0;32m   1968\u001b[0m \u001b[43m            \u001b[49m\u001b[43mcursor\u001b[49m\u001b[43m,\u001b[49m\u001b[43m \u001b[49m\u001b[43mstr_statement\u001b[49m\u001b[43m,\u001b[49m\u001b[43m \u001b[49m\u001b[43meffective_parameters\u001b[49m\u001b[43m,\u001b[49m\u001b[43m \u001b[49m\u001b[43mcontext\u001b[49m\n\u001b[0;32m   1969\u001b[0m \u001b[43m        \u001b[49m\u001b[43m)\u001b[49m\n\u001b[0;32m   1971\u001b[0m \u001b[38;5;28;01mif\u001b[39;00m \u001b[38;5;28mself\u001b[39m\u001b[38;5;241m.\u001b[39m_has_events \u001b[38;5;129;01mor\u001b[39;00m \u001b[38;5;28mself\u001b[39m\u001b[38;5;241m.\u001b[39mengine\u001b[38;5;241m.\u001b[39m_has_events:\n",
      "File \u001b[1;32mc:\\Users\\mlope\\AppData\\Local\\Programs\\Python\\Python312\\Lib\\site-packages\\sqlalchemy\\engine\\default.py:924\u001b[0m, in \u001b[0;36mDefaultDialect.do_execute\u001b[1;34m(self, cursor, statement, parameters, context)\u001b[0m\n\u001b[0;32m    923\u001b[0m \u001b[38;5;28;01mdef\u001b[39;00m \u001b[38;5;21mdo_execute\u001b[39m(\u001b[38;5;28mself\u001b[39m, cursor, statement, parameters, context\u001b[38;5;241m=\u001b[39m\u001b[38;5;28;01mNone\u001b[39;00m):\n\u001b[1;32m--> 924\u001b[0m     \u001b[43mcursor\u001b[49m\u001b[38;5;241;43m.\u001b[39;49m\u001b[43mexecute\u001b[49m\u001b[43m(\u001b[49m\u001b[43mstatement\u001b[49m\u001b[43m,\u001b[49m\u001b[43m \u001b[49m\u001b[43mparameters\u001b[49m\u001b[43m)\u001b[49m\n",
      "\u001b[1;31mProgrammingError\u001b[0m: ('42000', \"[42000] [Microsoft][ODBC Driver 17 for SQL Server][SQL Server]Foreign key 'FK_Inventario_inicial' references invalid table 'Tabla_InventarioInicial'. (1767) (SQLExecDirectW); [42000] [Microsoft][ODBC Driver 17 for SQL Server][SQL Server]Could not create constraint or index. See previous errors. (1750)\")",
      "\nThe above exception was the direct cause of the following exception:\n",
      "\u001b[1;31mProgrammingError\u001b[0m                          Traceback (most recent call last)",
      "Cell \u001b[1;32mIn[15], line 93\u001b[0m\n\u001b[0;32m     90\u001b[0m     \u001b[38;5;28mprint\u001b[39m(\u001b[38;5;124m\"\u001b[39m\u001b[38;5;124m✅ Valores asignados a \u001b[39m\u001b[38;5;124m'\u001b[39m\u001b[38;5;124mInventario_inicialID\u001b[39m\u001b[38;5;124m'\u001b[39m\u001b[38;5;124m.\u001b[39m\u001b[38;5;124m\"\u001b[39m)\n\u001b[0;32m     92\u001b[0m     \u001b[38;5;28mprint\u001b[39m(\u001b[38;5;124m\"\u001b[39m\u001b[38;5;124m➡️ Estableciendo clave primaria y claves foráneas...\u001b[39m\u001b[38;5;124m\"\u001b[39m)\n\u001b[1;32m---> 93\u001b[0m     \u001b[43mconnection\u001b[49m\u001b[38;5;241;43m.\u001b[39;49m\u001b[43mexecute\u001b[49m\u001b[43m(\u001b[49m\u001b[43mset_keys_sql\u001b[49m\u001b[43m)\u001b[49m\n\u001b[0;32m     94\u001b[0m     \u001b[38;5;28mprint\u001b[39m(\u001b[38;5;124m\"\u001b[39m\u001b[38;5;124m✅ Claves establecidas.\u001b[39m\u001b[38;5;124m\"\u001b[39m)\n\u001b[0;32m     96\u001b[0m \u001b[38;5;66;03m# 🔒 Cerrar la conexión si ya no se va a utilizar\u001b[39;00m\n",
      "File \u001b[1;32mc:\\Users\\mlope\\AppData\\Local\\Programs\\Python\\Python312\\Lib\\site-packages\\sqlalchemy\\engine\\base.py:1418\u001b[0m, in \u001b[0;36mConnection.execute\u001b[1;34m(self, statement, parameters, execution_options)\u001b[0m\n\u001b[0;32m   1416\u001b[0m     \u001b[38;5;28;01mraise\u001b[39;00m exc\u001b[38;5;241m.\u001b[39mObjectNotExecutableError(statement) \u001b[38;5;28;01mfrom\u001b[39;00m \u001b[38;5;21;01merr\u001b[39;00m\n\u001b[0;32m   1417\u001b[0m \u001b[38;5;28;01melse\u001b[39;00m:\n\u001b[1;32m-> 1418\u001b[0m     \u001b[38;5;28;01mreturn\u001b[39;00m \u001b[43mmeth\u001b[49m\u001b[43m(\u001b[49m\n\u001b[0;32m   1419\u001b[0m \u001b[43m        \u001b[49m\u001b[38;5;28;43mself\u001b[39;49m\u001b[43m,\u001b[49m\n\u001b[0;32m   1420\u001b[0m \u001b[43m        \u001b[49m\u001b[43mdistilled_parameters\u001b[49m\u001b[43m,\u001b[49m\n\u001b[0;32m   1421\u001b[0m \u001b[43m        \u001b[49m\u001b[43mexecution_options\u001b[49m\u001b[43m \u001b[49m\u001b[38;5;129;43;01mor\u001b[39;49;00m\u001b[43m \u001b[49m\u001b[43mNO_OPTIONS\u001b[49m\u001b[43m,\u001b[49m\n\u001b[0;32m   1422\u001b[0m \u001b[43m    \u001b[49m\u001b[43m)\u001b[49m\n",
      "File \u001b[1;32mc:\\Users\\mlope\\AppData\\Local\\Programs\\Python\\Python312\\Lib\\site-packages\\sqlalchemy\\sql\\elements.py:515\u001b[0m, in \u001b[0;36mClauseElement._execute_on_connection\u001b[1;34m(self, connection, distilled_params, execution_options)\u001b[0m\n\u001b[0;32m    513\u001b[0m     \u001b[38;5;28;01mif\u001b[39;00m TYPE_CHECKING:\n\u001b[0;32m    514\u001b[0m         \u001b[38;5;28;01massert\u001b[39;00m \u001b[38;5;28misinstance\u001b[39m(\u001b[38;5;28mself\u001b[39m, Executable)\n\u001b[1;32m--> 515\u001b[0m     \u001b[38;5;28;01mreturn\u001b[39;00m \u001b[43mconnection\u001b[49m\u001b[38;5;241;43m.\u001b[39;49m\u001b[43m_execute_clauseelement\u001b[49m\u001b[43m(\u001b[49m\n\u001b[0;32m    516\u001b[0m \u001b[43m        \u001b[49m\u001b[38;5;28;43mself\u001b[39;49m\u001b[43m,\u001b[49m\u001b[43m \u001b[49m\u001b[43mdistilled_params\u001b[49m\u001b[43m,\u001b[49m\u001b[43m \u001b[49m\u001b[43mexecution_options\u001b[49m\n\u001b[0;32m    517\u001b[0m \u001b[43m    \u001b[49m\u001b[43m)\u001b[49m\n\u001b[0;32m    518\u001b[0m \u001b[38;5;28;01melse\u001b[39;00m:\n\u001b[0;32m    519\u001b[0m     \u001b[38;5;28;01mraise\u001b[39;00m exc\u001b[38;5;241m.\u001b[39mObjectNotExecutableError(\u001b[38;5;28mself\u001b[39m)\n",
      "File \u001b[1;32mc:\\Users\\mlope\\AppData\\Local\\Programs\\Python\\Python312\\Lib\\site-packages\\sqlalchemy\\engine\\base.py:1640\u001b[0m, in \u001b[0;36mConnection._execute_clauseelement\u001b[1;34m(self, elem, distilled_parameters, execution_options)\u001b[0m\n\u001b[0;32m   1628\u001b[0m compiled_cache: Optional[CompiledCacheType] \u001b[38;5;241m=\u001b[39m execution_options\u001b[38;5;241m.\u001b[39mget(\n\u001b[0;32m   1629\u001b[0m     \u001b[38;5;124m\"\u001b[39m\u001b[38;5;124mcompiled_cache\u001b[39m\u001b[38;5;124m\"\u001b[39m, \u001b[38;5;28mself\u001b[39m\u001b[38;5;241m.\u001b[39mengine\u001b[38;5;241m.\u001b[39m_compiled_cache\n\u001b[0;32m   1630\u001b[0m )\n\u001b[0;32m   1632\u001b[0m compiled_sql, extracted_params, cache_hit \u001b[38;5;241m=\u001b[39m elem\u001b[38;5;241m.\u001b[39m_compile_w_cache(\n\u001b[0;32m   1633\u001b[0m     dialect\u001b[38;5;241m=\u001b[39mdialect,\n\u001b[0;32m   1634\u001b[0m     compiled_cache\u001b[38;5;241m=\u001b[39mcompiled_cache,\n\u001b[1;32m   (...)\u001b[0m\n\u001b[0;32m   1638\u001b[0m     linting\u001b[38;5;241m=\u001b[39m\u001b[38;5;28mself\u001b[39m\u001b[38;5;241m.\u001b[39mdialect\u001b[38;5;241m.\u001b[39mcompiler_linting \u001b[38;5;241m|\u001b[39m compiler\u001b[38;5;241m.\u001b[39mWARN_LINTING,\n\u001b[0;32m   1639\u001b[0m )\n\u001b[1;32m-> 1640\u001b[0m ret \u001b[38;5;241m=\u001b[39m \u001b[38;5;28;43mself\u001b[39;49m\u001b[38;5;241;43m.\u001b[39;49m\u001b[43m_execute_context\u001b[49m\u001b[43m(\u001b[49m\n\u001b[0;32m   1641\u001b[0m \u001b[43m    \u001b[49m\u001b[43mdialect\u001b[49m\u001b[43m,\u001b[49m\n\u001b[0;32m   1642\u001b[0m \u001b[43m    \u001b[49m\u001b[43mdialect\u001b[49m\u001b[38;5;241;43m.\u001b[39;49m\u001b[43mexecution_ctx_cls\u001b[49m\u001b[38;5;241;43m.\u001b[39;49m\u001b[43m_init_compiled\u001b[49m\u001b[43m,\u001b[49m\n\u001b[0;32m   1643\u001b[0m \u001b[43m    \u001b[49m\u001b[43mcompiled_sql\u001b[49m\u001b[43m,\u001b[49m\n\u001b[0;32m   1644\u001b[0m \u001b[43m    \u001b[49m\u001b[43mdistilled_parameters\u001b[49m\u001b[43m,\u001b[49m\n\u001b[0;32m   1645\u001b[0m \u001b[43m    \u001b[49m\u001b[43mexecution_options\u001b[49m\u001b[43m,\u001b[49m\n\u001b[0;32m   1646\u001b[0m \u001b[43m    \u001b[49m\u001b[43mcompiled_sql\u001b[49m\u001b[43m,\u001b[49m\n\u001b[0;32m   1647\u001b[0m \u001b[43m    \u001b[49m\u001b[43mdistilled_parameters\u001b[49m\u001b[43m,\u001b[49m\n\u001b[0;32m   1648\u001b[0m \u001b[43m    \u001b[49m\u001b[43melem\u001b[49m\u001b[43m,\u001b[49m\n\u001b[0;32m   1649\u001b[0m \u001b[43m    \u001b[49m\u001b[43mextracted_params\u001b[49m\u001b[43m,\u001b[49m\n\u001b[0;32m   1650\u001b[0m \u001b[43m    \u001b[49m\u001b[43mcache_hit\u001b[49m\u001b[38;5;241;43m=\u001b[39;49m\u001b[43mcache_hit\u001b[49m\u001b[43m,\u001b[49m\n\u001b[0;32m   1651\u001b[0m \u001b[43m\u001b[49m\u001b[43m)\u001b[49m\n\u001b[0;32m   1652\u001b[0m \u001b[38;5;28;01mif\u001b[39;00m has_events:\n\u001b[0;32m   1653\u001b[0m     \u001b[38;5;28mself\u001b[39m\u001b[38;5;241m.\u001b[39mdispatch\u001b[38;5;241m.\u001b[39mafter_execute(\n\u001b[0;32m   1654\u001b[0m         \u001b[38;5;28mself\u001b[39m,\n\u001b[0;32m   1655\u001b[0m         elem,\n\u001b[1;32m   (...)\u001b[0m\n\u001b[0;32m   1659\u001b[0m         ret,\n\u001b[0;32m   1660\u001b[0m     )\n",
      "File \u001b[1;32mc:\\Users\\mlope\\AppData\\Local\\Programs\\Python\\Python312\\Lib\\site-packages\\sqlalchemy\\engine\\base.py:1846\u001b[0m, in \u001b[0;36mConnection._execute_context\u001b[1;34m(self, dialect, constructor, statement, parameters, execution_options, *args, **kw)\u001b[0m\n\u001b[0;32m   1844\u001b[0m     \u001b[38;5;28;01mreturn\u001b[39;00m \u001b[38;5;28mself\u001b[39m\u001b[38;5;241m.\u001b[39m_exec_insertmany_context(dialect, context)\n\u001b[0;32m   1845\u001b[0m \u001b[38;5;28;01melse\u001b[39;00m:\n\u001b[1;32m-> 1846\u001b[0m     \u001b[38;5;28;01mreturn\u001b[39;00m \u001b[38;5;28;43mself\u001b[39;49m\u001b[38;5;241;43m.\u001b[39;49m\u001b[43m_exec_single_context\u001b[49m\u001b[43m(\u001b[49m\n\u001b[0;32m   1847\u001b[0m \u001b[43m        \u001b[49m\u001b[43mdialect\u001b[49m\u001b[43m,\u001b[49m\u001b[43m \u001b[49m\u001b[43mcontext\u001b[49m\u001b[43m,\u001b[49m\u001b[43m \u001b[49m\u001b[43mstatement\u001b[49m\u001b[43m,\u001b[49m\u001b[43m \u001b[49m\u001b[43mparameters\u001b[49m\n\u001b[0;32m   1848\u001b[0m \u001b[43m    \u001b[49m\u001b[43m)\u001b[49m\n",
      "File \u001b[1;32mc:\\Users\\mlope\\AppData\\Local\\Programs\\Python\\Python312\\Lib\\site-packages\\sqlalchemy\\engine\\base.py:1986\u001b[0m, in \u001b[0;36mConnection._exec_single_context\u001b[1;34m(self, dialect, context, statement, parameters)\u001b[0m\n\u001b[0;32m   1983\u001b[0m     result \u001b[38;5;241m=\u001b[39m context\u001b[38;5;241m.\u001b[39m_setup_result_proxy()\n\u001b[0;32m   1985\u001b[0m \u001b[38;5;28;01mexcept\u001b[39;00m \u001b[38;5;167;01mBaseException\u001b[39;00m \u001b[38;5;28;01mas\u001b[39;00m e:\n\u001b[1;32m-> 1986\u001b[0m     \u001b[38;5;28;43mself\u001b[39;49m\u001b[38;5;241;43m.\u001b[39;49m\u001b[43m_handle_dbapi_exception\u001b[49m\u001b[43m(\u001b[49m\n\u001b[0;32m   1987\u001b[0m \u001b[43m        \u001b[49m\u001b[43me\u001b[49m\u001b[43m,\u001b[49m\u001b[43m \u001b[49m\u001b[43mstr_statement\u001b[49m\u001b[43m,\u001b[49m\u001b[43m \u001b[49m\u001b[43meffective_parameters\u001b[49m\u001b[43m,\u001b[49m\u001b[43m \u001b[49m\u001b[43mcursor\u001b[49m\u001b[43m,\u001b[49m\u001b[43m \u001b[49m\u001b[43mcontext\u001b[49m\n\u001b[0;32m   1988\u001b[0m \u001b[43m    \u001b[49m\u001b[43m)\u001b[49m\n\u001b[0;32m   1990\u001b[0m \u001b[38;5;28;01mreturn\u001b[39;00m result\n",
      "File \u001b[1;32mc:\\Users\\mlope\\AppData\\Local\\Programs\\Python\\Python312\\Lib\\site-packages\\sqlalchemy\\engine\\base.py:2353\u001b[0m, in \u001b[0;36mConnection._handle_dbapi_exception\u001b[1;34m(self, e, statement, parameters, cursor, context, is_sub_exec)\u001b[0m\n\u001b[0;32m   2351\u001b[0m \u001b[38;5;28;01melif\u001b[39;00m should_wrap:\n\u001b[0;32m   2352\u001b[0m     \u001b[38;5;28;01massert\u001b[39;00m sqlalchemy_exception \u001b[38;5;129;01mis\u001b[39;00m \u001b[38;5;129;01mnot\u001b[39;00m \u001b[38;5;28;01mNone\u001b[39;00m\n\u001b[1;32m-> 2353\u001b[0m     \u001b[38;5;28;01mraise\u001b[39;00m sqlalchemy_exception\u001b[38;5;241m.\u001b[39mwith_traceback(exc_info[\u001b[38;5;241m2\u001b[39m]) \u001b[38;5;28;01mfrom\u001b[39;00m \u001b[38;5;21;01me\u001b[39;00m\n\u001b[0;32m   2354\u001b[0m \u001b[38;5;28;01melse\u001b[39;00m:\n\u001b[0;32m   2355\u001b[0m     \u001b[38;5;28;01massert\u001b[39;00m exc_info[\u001b[38;5;241m1\u001b[39m] \u001b[38;5;129;01mis\u001b[39;00m \u001b[38;5;129;01mnot\u001b[39;00m \u001b[38;5;28;01mNone\u001b[39;00m\n",
      "File \u001b[1;32mc:\\Users\\mlope\\AppData\\Local\\Programs\\Python\\Python312\\Lib\\site-packages\\sqlalchemy\\engine\\base.py:1967\u001b[0m, in \u001b[0;36mConnection._exec_single_context\u001b[1;34m(self, dialect, context, statement, parameters)\u001b[0m\n\u001b[0;32m   1965\u001b[0m                 \u001b[38;5;28;01mbreak\u001b[39;00m\n\u001b[0;32m   1966\u001b[0m     \u001b[38;5;28;01mif\u001b[39;00m \u001b[38;5;129;01mnot\u001b[39;00m evt_handled:\n\u001b[1;32m-> 1967\u001b[0m         \u001b[38;5;28;43mself\u001b[39;49m\u001b[38;5;241;43m.\u001b[39;49m\u001b[43mdialect\u001b[49m\u001b[38;5;241;43m.\u001b[39;49m\u001b[43mdo_execute\u001b[49m\u001b[43m(\u001b[49m\n\u001b[0;32m   1968\u001b[0m \u001b[43m            \u001b[49m\u001b[43mcursor\u001b[49m\u001b[43m,\u001b[49m\u001b[43m \u001b[49m\u001b[43mstr_statement\u001b[49m\u001b[43m,\u001b[49m\u001b[43m \u001b[49m\u001b[43meffective_parameters\u001b[49m\u001b[43m,\u001b[49m\u001b[43m \u001b[49m\u001b[43mcontext\u001b[49m\n\u001b[0;32m   1969\u001b[0m \u001b[43m        \u001b[49m\u001b[43m)\u001b[49m\n\u001b[0;32m   1971\u001b[0m \u001b[38;5;28;01mif\u001b[39;00m \u001b[38;5;28mself\u001b[39m\u001b[38;5;241m.\u001b[39m_has_events \u001b[38;5;129;01mor\u001b[39;00m \u001b[38;5;28mself\u001b[39m\u001b[38;5;241m.\u001b[39mengine\u001b[38;5;241m.\u001b[39m_has_events:\n\u001b[0;32m   1972\u001b[0m     \u001b[38;5;28mself\u001b[39m\u001b[38;5;241m.\u001b[39mdispatch\u001b[38;5;241m.\u001b[39mafter_cursor_execute(\n\u001b[0;32m   1973\u001b[0m         \u001b[38;5;28mself\u001b[39m,\n\u001b[0;32m   1974\u001b[0m         cursor,\n\u001b[1;32m   (...)\u001b[0m\n\u001b[0;32m   1978\u001b[0m         context\u001b[38;5;241m.\u001b[39mexecutemany,\n\u001b[0;32m   1979\u001b[0m     )\n",
      "File \u001b[1;32mc:\\Users\\mlope\\AppData\\Local\\Programs\\Python\\Python312\\Lib\\site-packages\\sqlalchemy\\engine\\default.py:924\u001b[0m, in \u001b[0;36mDefaultDialect.do_execute\u001b[1;34m(self, cursor, statement, parameters, context)\u001b[0m\n\u001b[0;32m    923\u001b[0m \u001b[38;5;28;01mdef\u001b[39;00m \u001b[38;5;21mdo_execute\u001b[39m(\u001b[38;5;28mself\u001b[39m, cursor, statement, parameters, context\u001b[38;5;241m=\u001b[39m\u001b[38;5;28;01mNone\u001b[39;00m):\n\u001b[1;32m--> 924\u001b[0m     \u001b[43mcursor\u001b[49m\u001b[38;5;241;43m.\u001b[39;49m\u001b[43mexecute\u001b[49m\u001b[43m(\u001b[49m\u001b[43mstatement\u001b[49m\u001b[43m,\u001b[49m\u001b[43m \u001b[49m\u001b[43mparameters\u001b[49m\u001b[43m)\u001b[49m\n",
      "\u001b[1;31mProgrammingError\u001b[0m: (pyodbc.ProgrammingError) ('42000', \"[42000] [Microsoft][ODBC Driver 17 for SQL Server][SQL Server]Foreign key 'FK_Inventario_inicial' references invalid table 'Tabla_InventarioInicial'. (1767) (SQLExecDirectW); [42000] [Microsoft][ODBC Driver 17 for SQL Server][SQL Server]Could not create constraint or index. See previous errors. (1750)\")\n[SQL: \n    -- Establecer la columna VentasID como PK\n    ALTER TABLE Tabla_VentasFinal\n    ADD CONSTRAINT PK_VentasID PRIMARY KEY (VentasID);\n\n    -- Establecer la FK en Inventario_inicialID referenciando a Tabla_InventarioInicial\n    ALTER TABLE Tabla_VentasFinal\n    ADD CONSTRAINT FK_Inventario_inicial FOREIGN KEY (Inventario_inicialID)\n    REFERENCES Tabla_InventarioInicial(Inventario_inicialID);\n\n    -- Establecer la FK en MarcaID referenciando a Tabla_Producto\n    ALTER TABLE Tabla_VentasFinal\n    ADD CONSTRAINT FK_MarcaID FOREIGN KEY (MarcaID)\n    REFERENCES Tabla_Producto(MarcaID);\n]\n(Background on this error at: https://sqlalche.me/e/20/f405)"
     ]
    }
   ],
   "source": [
    "from sqlalchemy import create_engine, text\n",
    "\n",
    "# 🚀 Parámetros de conexión\n",
    "server_name = '190.172.70.140,1433'\n",
    "database_name = 'COMERLOGISTICS'\n",
    "username = 'Marcelo'\n",
    "password = 'Dapt01'\n",
    "\n",
    "# 🌐 Crear la conexión con la base de datos\n",
    "engine = create_engine(f'mssql+pyodbc://{username}:{password}@{server_name}/{database_name}?driver=ODBC+Driver+17+for+SQL+Server')\n",
    "\n",
    "# 🔄 Cambiar el nombre de la tabla\n",
    "rename_table_sql = text(\"\"\"\n",
    "    EXEC sp_rename 'dbo.SalesFINAL12312016', 'Tabla_VentasFinal';\n",
    "\"\"\")\n",
    "\n",
    "# 🛠️ Renombrar columnas directamente en la base de datos\n",
    "rename_columns_sql = text(\"\"\"\n",
    "    EXEC sp_rename 'Tabla_VentasFinal.InventoryId', 'InventarioID', 'COLUMN';\n",
    "    EXEC sp_rename 'Tabla_VentasFinal.Store', 'Tienda', 'COLUMN';\n",
    "    EXEC sp_rename 'Tabla_VentasFinal.Brand', 'MarcaID', 'COLUMN';\n",
    "    EXEC sp_rename 'Tabla_VentasFinal.Description', 'Descripcion', 'COLUMN';\n",
    "    EXEC sp_rename 'Tabla_VentasFinal.Size', 'Tamaño', 'COLUMN';\n",
    "    EXEC sp_rename 'Tabla_VentasFinal.SalesQuantity', 'Cantidad_Ventas', 'COLUMN';\n",
    "    EXEC sp_rename 'Tabla_VentasFinal.SalesDollars', 'Venta_Total', 'COLUMN';\n",
    "    EXEC sp_rename 'Tabla_VentasFinal.SalesPrice', 'Precio_Unitario', 'COLUMN';\n",
    "    EXEC sp_rename 'Tabla_VentasFinal.SalesDate', 'Fecha_Venta', 'COLUMN';\n",
    "    EXEC sp_rename 'Tabla_VentasFinal.Volume', 'Volumen', 'COLUMN';\n",
    "    EXEC sp_rename 'Tabla_VentasFinal.Classification', 'Clasificacion', 'COLUMN';\n",
    "    EXEC sp_rename 'Tabla_VentasFinal.ExciseTax', 'Impuesto', 'COLUMN';\n",
    "    EXEC sp_rename 'Tabla_VentasFinal.VendorNo', 'ProveedorID', 'COLUMN';\n",
    "    EXEC sp_rename 'Tabla_VentasFinal.VendorName', 'Nombre_Proveedor', 'COLUMN';\n",
    "\"\"\")\n",
    "\n",
    "# Crear nuevas columnas e insertar valores:\n",
    "add_columns_sql = text(\"\"\"\n",
    "    ALTER TABLE Tabla_VentasFinal\n",
    "    ADD Inventario_inicialID INT,  -- Definir como columna normal para usarla como FK\n",
    "        VentasID INT IDENTITY(1,1);  -- Definir como IDENTITY para usarla como PK\n",
    "\n",
    "    ALTER TABLE Tabla_VentasFinal\n",
    "    DROP COLUMN Tamaño;  -- Eliminar la columna Tamaño;\n",
    "\"\"\")\n",
    "\n",
    "# Asignar valores únicos a Inventario_inicialID usando una CTE\n",
    "assign_values_sql = text(\"\"\"\n",
    "    ;WITH CTE AS (\n",
    "        SELECT ROW_NUMBER() OVER (ORDER BY (SELECT NULL)) AS row_num, InventarioID\n",
    "        FROM Tabla_VentasFinal\n",
    "    )\n",
    "    UPDATE Tabla_VentasFinal\n",
    "    SET Inventario_inicialID = CTE.row_num\n",
    "    FROM Tabla_VentasFinal\n",
    "    JOIN CTE ON Tabla_VentasFinal.InventarioID = CTE.InventarioID;\n",
    "\"\"\")\n",
    "\n",
    "# Establecer la clave primaria y claves foráneas:\n",
    "set_keys_sql = text(\"\"\"\n",
    "    -- Establecer la columna VentasID como PK\n",
    "    ALTER TABLE Tabla_VentasFinal\n",
    "    ADD CONSTRAINT PK_VentasID PRIMARY KEY (VentasID);\n",
    "\n",
    "    -- Establecer la FK en Inventario_inicialID referenciando a Tabla_InventarioInicial\n",
    "    ALTER TABLE Tabla_VentasFinal\n",
    "    ADD CONSTRAINT FK_Inventario_inicial FOREIGN KEY (Inventario_inicialID)\n",
    "    REFERENCES Tabla_InventarioInicial(Inventario_inicialID);\n",
    "\n",
    "    -- Establecer la FK en MarcaID referenciando a Tabla_Producto\n",
    "    ALTER TABLE Tabla_VentasFinal\n",
    "    ADD CONSTRAINT FK_MarcaID FOREIGN KEY (MarcaID)\n",
    "    REFERENCES Tabla_Producto(MarcaID);\n",
    "\"\"\")\n",
    "\n",
    "# Ejecutar los comandos SQL\n",
    "with engine.connect() as connection:\n",
    "    print(\"➡️ Ejecutando cambio de nombre de la tabla...\")\n",
    "    connection.execute(rename_table_sql)\n",
    "    print(\"✅ Cambio de nombre de la tabla ejecutado.\")\n",
    "\n",
    "    print(\"➡️ Ejecutando cambio de nombre de las columnas...\")\n",
    "    connection.execute(rename_columns_sql)\n",
    "    print(\"✅ Cambio de nombre de las columnas ejecutado.\")\n",
    "\n",
    "    print(\"➡️ Ejecutando la eliminación de la columna 'Tamaño' y adición de nuevas columnas...\")\n",
    "    connection.execute(add_columns_sql)\n",
    "    print(\"✅ Columnas modificadas.\")\n",
    "\n",
    "    print(\"➡️ Asignando valores únicos a 'Inventario_inicialID'...\")\n",
    "    connection.execute(assign_values_sql)\n",
    "    print(\"✅ Valores asignados a 'Inventario_inicialID'.\")\n",
    "\n",
    "    print(\"➡️ Estableciendo clave primaria y claves foráneas...\")\n",
    "    connection.execute(set_keys_sql)\n",
    "    print(\"✅ Claves establecidas.\")\n",
    "\n",
    "# 🔒 Cerrar la conexión si ya no se va a utilizar\n",
    "engine.dispose()\n",
    "print(\"🔒 Conexión cerrada.\")\n"
   ]
  }
 ],
 "metadata": {
  "kernelspec": {
   "display_name": "Python 3",
   "language": "python",
   "name": "python3"
  },
  "language_info": {
   "codemirror_mode": {
    "name": "ipython",
    "version": 3
   },
   "file_extension": ".py",
   "mimetype": "text/x-python",
   "name": "python",
   "nbconvert_exporter": "python",
   "pygments_lexer": "ipython3",
   "version": "3.12.4"
  }
 },
 "nbformat": 4,
 "nbformat_minor": 2
}
