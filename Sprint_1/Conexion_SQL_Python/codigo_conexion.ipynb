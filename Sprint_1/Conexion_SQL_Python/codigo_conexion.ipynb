{
 "cells": [
  {
   "cell_type": "markdown",
   "metadata": {},
   "source": [
    "## 👩‍💻Guía de Conexión a SQL Server con Python"
   ]
  },
  {
   "cell_type": "markdown",
   "metadata": {},
   "source": [
    "**👉Importar pyodbc:**\n",
    "\n",
    "pyodbc es un módulo que permite a Python conectarse a bases de datos utilizando el protocolo ODBC (Open Database Connectivity). Es fundamental para conectarse a SQL Server."
   ]
  },
  {
   "cell_type": "code",
   "execution_count": 1,
   "metadata": {},
   "outputs": [
    {
     "name": "stdout",
     "output_type": "stream",
     "text": [
      "pyodbc se ha instalado correctamente.\n"
     ]
    }
   ],
   "source": [
    "\n",
    "import pyodbc\n",
    "\n",
    "print(\"pyodbc se ha instalado correctamente.\")"
   ]
  },
  {
   "cell_type": "markdown",
   "metadata": {},
   "source": [
    "**👉Importar el modulo SQLAlchemy:**\n",
    "\n",
    "SQLAlchemy es un potente ORM (Object-Relational Mapping) que facilita la conexión y manipulación de bases de datos SQL desde Python. "
   ]
  },
  {
   "cell_type": "code",
   "execution_count": 2,
   "metadata": {},
   "outputs": [
    {
     "name": "stdout",
     "output_type": "stream",
     "text": [
      "sqlalchemy se ha instalado correctamente.\n"
     ]
    }
   ],
   "source": [
    "\n",
    "import sqlalchemy\n",
    "\n",
    "print(\"sqlalchemy se ha instalado correctamente.\")"
   ]
  },
  {
   "cell_type": "markdown",
   "metadata": {},
   "source": [
    "**👉Se crea la conexión y se realiza una prueba**\n",
    "\n",
    "Para ejecutar consultas SQL directamente con SQLAlchemy, debes utilizar la función text() de SQLAlchemy."
   ]
  },
  {
   "cell_type": "code",
   "execution_count": 12,
   "metadata": {},
   "outputs": [
    {
     "name": "stdout",
     "output_type": "stream",
     "text": [
      "(1,)\n"
     ]
    }
   ],
   "source": [
    "from sqlalchemy import create_engine, text\n",
    "\n",
    "# Crear la conexión a la base de datos SQL Server\n",
    "def crear_conexion_sql_server(server_name, database_name, username, password):\n",
    "    connection_string = f'mssql+pyodbc://{username}:{password}@{server_name}/{database_name}?driver=ODBC+Driver+17+for+SQL+Server'\n",
    "    engine = create_engine(connection_string)\n",
    "    return engine\n",
    "\n",
    "# Parámetros de conexión\n",
    "server_name = '190.172.70.140,1433'\n",
    "database_name = 'COMERLOGISTICS'\n",
    "username = 'Ruben'\n",
    "password = 'Dapt01'\n",
    "\n",
    "# Crear la conexión\n",
    "engine = crear_conexion_sql_server(server_name, database_name, username, password)\n",
    "\n",
    "# Verificar la conexión realizando una consulta simple\n",
    "with engine.connect() as conn:\n",
    "    result = conn.execute(text(\"SELECT 1;\"))\n",
    "    print(result.fetchone())"
   ]
  },
  {
   "cell_type": "markdown",
   "metadata": {},
   "source": [
    "**👉Trabajar con Datos en un DataFrame**\n",
    "\n",
    "Supongamos que ya tienes un DataFrame en pandas con los datos que deseas subir a SQL Server."
   ]
  },
  {
   "cell_type": "code",
   "execution_count": 14,
   "metadata": {},
   "outputs": [],
   "source": [
    "import pandas as pd\n",
    "\n",
    "# Supongamos que ya tienes un DataFrame llamado df\n",
    "df = pd.DataFrame({\n",
    "    'columna1': [1, 2, 3],\n",
    "    'columna2': ['A', 'B', 'C'],\n",
    "    'columna3': [4.5, 5.6, 6.7]\n",
    "})\n",
    "\n",
    "# Tambien se puede cargar los datos desde un archivo CSV, Excel, etc.\n",
    "df = pd.read_csv('tabla_ejemplo.csv')\n"
   ]
  },
  {
   "cell_type": "markdown",
   "metadata": {},
   "source": [
    "**👉 Conxión y Carga de Archivo .csv a SQL Server**"
   ]
  },
  {
   "cell_type": "code",
   "execution_count": 16,
   "metadata": {},
   "outputs": [
    {
     "name": "stdout",
     "output_type": "stream",
     "text": [
      "Datos subidos exitosamente a la tabla 'Alumnos' en la base de datos 'COMERLOGISTICS'.\n"
     ]
    }
   ],
   "source": [
    "import pandas as pd\n",
    "from sqlalchemy import create_engine\n",
    "\n",
    "# Crear la conexión a SQL Server\n",
    "def crear_conexion_sql_server(server_name, database_name, username, password):\n",
    "    connection_string = f'mssql+pyodbc://{username}:{password}@{server_name}/{database_name}?driver=ODBC+Driver+17+for+SQL+Server'\n",
    "    engine = create_engine(connection_string)\n",
    "    return engine\n",
    "\n",
    "# Parámetros de conexión\n",
    "server_name = '190.172.70.140,1433'\n",
    "database_name = 'COMERLOGISTICS'\n",
    "username = 'Ruben'\n",
    "password = 'Dapt01'\n",
    "\n",
    "# Crear la conexión\n",
    "engine = crear_conexion_sql_server(server_name, database_name, username, password)\n",
    "\n",
    "# Cargar el archivo CSV en un DataFrame\n",
    "csv_file = 'tabla_ejemplo.csv'\n",
    "df = pd.read_csv(csv_file)\n",
    "\n",
    "# Nombre de la tabla que deseas crear o actualizar en SQL Server\n",
    "nombre_tabla = 'Alumnos'\n",
    "\n",
    "# Subir el DataFrame a SQL Server\n",
    "df.to_sql(nombre_tabla, con=engine, if_exists='replace', index=False)\n",
    "\n",
    "print(f\"Datos subidos exitosamente a la tabla '{nombre_tabla}' en la base de datos '{database_name}'.\")\n"
   ]
  }
 ],
 "metadata": {
  "kernelspec": {
   "display_name": "Python 3",
   "language": "python",
   "name": "python3"
  },
  "language_info": {
   "codemirror_mode": {
    "name": "ipython",
    "version": 3
   },
   "file_extension": ".py",
   "mimetype": "text/x-python",
   "name": "python",
   "nbconvert_exporter": "python",
   "pygments_lexer": "ipython3",
   "version": "3.11.9"
  }
 },
 "nbformat": 4,
 "nbformat_minor": 2
}
